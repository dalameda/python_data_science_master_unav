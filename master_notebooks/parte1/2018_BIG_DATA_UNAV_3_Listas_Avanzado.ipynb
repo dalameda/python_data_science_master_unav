{
 "cells": [
  {
   "cell_type": "markdown",
   "metadata": {},
   "source": [
    "---\n",
    "# Experto Big Data UNAV 2018 - Notebook 3 - Mas Listas y tuplas\n",
    "---"
   ]
  },
  {
   "cell_type": "markdown",
   "metadata": {},
   "source": [
    "# Listas"
   ]
  },
  {
   "cell_type": "markdown",
   "metadata": {},
   "source": [
    "En el notebook anterior vimos que una lista es una coleccion de valores que se almacena en una variable. Los valores deberian estar relacionados entre si de alguna manera aunque no hay restricciones de lo que se puede almacenar en una lista. La lista se designa poniendo elementos entre corchetes y separados por coma."
   ]
  },
  {
   "cell_type": "code",
   "execution_count": null,
   "metadata": {},
   "outputs": [],
   "source": [
    "nombres = ['Juan', 'Ana', 'Luis', 'Maria']"
   ]
  },
  {
   "cell_type": "markdown",
   "metadata": {},
   "source": [
    "Ahora vamos a ver que operaciones se pueden realizar con las listas."
   ]
  },
  {
   "cell_type": "markdown",
   "metadata": {},
   "source": [
    "# Operaciones comunes en listas"
   ]
  },
  {
   "cell_type": "markdown",
   "metadata": {},
   "source": [
    "La listas son estructuras que llevan funciones y metodos asociados que nos permitiran realizar operaciones sobre ellas."
   ]
  },
  {
   "cell_type": "markdown",
   "metadata": {},
   "source": [
    "### Modificar elementos en una lista"
   ]
  },
  {
   "cell_type": "markdown",
   "metadata": {},
   "source": [
    "Se puede cambiar el valor de cualquiera de los elementos en la lista si sabes la posicion del elemento."
   ]
  },
  {
   "cell_type": "code",
   "execution_count": null,
   "metadata": {},
   "outputs": [],
   "source": [
    "nombres = ['Juan', 'Ana', 'Luis', 'Maria']\n",
    "\n",
    "nombres[0] = 'Pedro'\n",
    "print(nombres)\n",
    "\n",
    "nombres[6]  = 'Mariano'"
   ]
  },
  {
   "cell_type": "markdown",
   "metadata": {},
   "source": [
    "### Encontrar elementos en una lista"
   ]
  },
  {
   "cell_type": "markdown",
   "metadata": {},
   "source": [
    "Si quieres encontrar la posicion de un elemento en una lista, puedes usar el metodo *index()*."
   ]
  },
  {
   "cell_type": "code",
   "execution_count": null,
   "metadata": {},
   "outputs": [],
   "source": [
    "nombres = ['Juan', 'Ana', 'Luis', 'Maria']\n",
    "\n",
    "print(nombres.index('Luis'))"
   ]
  },
  {
   "cell_type": "markdown",
   "metadata": {},
   "source": [
    "El metodo *index()* devuelve la posicion en la que se encuentra el elemento buscado. Si el elemento existe mas de una vez devuelve el primer elemento con el indice mas bajo. Si el elemento no existe, Python produce un error."
   ]
  },
  {
   "cell_type": "code",
   "execution_count": null,
   "metadata": {},
   "outputs": [],
   "source": [
    "# print(nombres.index('Manuel')) # esto produce un error porque no encuentra elemento\n",
    "print(nombres.index(2))"
   ]
  },
  {
   "cell_type": "markdown",
   "metadata": {},
   "source": [
    "### Chequear si un elemento esta en una lista"
   ]
  },
  {
   "cell_type": "markdown",
   "metadata": {},
   "source": [
    "Se puede testear si un elemento esta en una lista usando el comando *in*. "
   ]
  },
  {
   "cell_type": "code",
   "execution_count": null,
   "metadata": {},
   "outputs": [],
   "source": [
    "nombres = ['Juan', 'Ana', 'Luis', 'Maria']\n",
    "\n",
    "print('Juan' in nombres)\n",
    "print('Manuel' in nombres)\n",
    "print('juan' in nombres)"
   ]
  },
  {
   "cell_type": "markdown",
   "metadata": {},
   "source": [
    "### Anadiendo elementos a una lista"
   ]
  },
  {
   "cell_type": "markdown",
   "metadata": {},
   "source": [
    "#### Anadiendo elementos al final de la lista\n",
    "Se pueden anadir elementos a una lista usando el metodo *insert()*. Este metodo anade un nuevo elemento en la posicion que le indiquemos."
   ]
  },
  {
   "cell_type": "code",
   "execution_count": null,
   "metadata": {},
   "outputs": [],
   "source": [
    "nombres = ['Juan', 'Ana', 'Luis', 'Maria']\n",
    "nombres.append('Manuel')\n",
    "\n",
    "for nombre in nombres:\n",
    "    print(nombre + ' es mi amigo/a.')\n",
    "    \n",
    "nombres += ['Pedrito']\n",
    "print(nombres)"
   ]
  },
  {
   "cell_type": "markdown",
   "metadata": {},
   "source": [
    "#### Insertando elementos en una posicion concreta  "
   ]
  },
  {
   "cell_type": "markdown",
   "metadata": {},
   "source": [
    "Se pueden insertar elementos a una lista en una posicion concreta usando el metodo *insert()*. Este metodo anade el nuevo elemento en el \n"
   ]
  },
  {
   "cell_type": "code",
   "execution_count": null,
   "metadata": {},
   "outputs": [],
   "source": [
    "nombres = ['Juan', 'Ana', 'Luis', 'Maria']\n",
    "nombres.insert(1, 'Manuel')\n",
    "\n",
    "for nombre in nombres:\n",
    "    print(nombre + ' es mi amigo/a.')\n",
    "    \n",
    "nombres[0] = 'Mariano'\n",
    "print(nombres)"
   ]
  },
  {
   "cell_type": "markdown",
   "metadata": {},
   "source": [
    "### La lista vacia"
   ]
  },
  {
   "cell_type": "markdown",
   "metadata": {},
   "source": [
    "Ahora que sabemos cómo anadir elementos a una lista después de crearla, podemos usar las listas de forma más dinámica.  Un enfoque común con las listas es definir una lista vacía y luego dejar el programa agregue elementos a la lista según sea necesario. Este enfoque funciona, por ejemplo, cuando se comienza a construir un sitio web interactivo. La lista de usuarios podría comenzar vacía y luego, a medida que las personas se registran, hacerla crecer. Esta es una visión simplificada de cómo funcionan realmente los sitios web. Aquí hay un breve ejemplo de cómo comenzar con una lista vacía, comenzar a llenarla y trabajar con los elementos de la lista. Lo único nuevo aquí es la forma en que definimos una lista vacía, que es solo un conjunto vacío de corchetes."
   ]
  },
  {
   "cell_type": "code",
   "execution_count": null,
   "metadata": {},
   "outputs": [],
   "source": [
    "# Creamos la lista vacia.\n",
    "users = []\n",
    "\n",
    "# Agregamos usuarios\n",
    "users.append('juan')\n",
    "users.append('ivan')\n",
    "users.append('luisa')\n",
    "\n",
    "# Saludamos a los usuarios\n",
    "for user in users:\n",
    "    print(\"Bienvenido/a, \" + user.title() + '!')\n",
    "    \n",
    "# users.pop(0)\n",
    "\n",
    "# for user in users:\n",
    "#     print(\"Bienvenido/a, \" + user.title() + '!')\n"
   ]
  },
  {
   "cell_type": "markdown",
   "metadata": {},
   "source": [
    "Si no cambiamos el orden en nuestra lista, podemos usar la lista para descubrir quiénes son nuestros usuarios más antiguos y más nuevos."
   ]
  },
  {
   "cell_type": "code",
   "execution_count": null,
   "metadata": {},
   "outputs": [],
   "source": [
    "# Creamos la lista vacia.\n",
    "users = []\n",
    "\n",
    "# Agregamos usuarios\n",
    "users.append('juan')\n",
    "users.append('ivan')\n",
    "users.append('luisa')\n",
    "\n",
    "# Saludamos a los usuarios\n",
    "for user in users:\n",
    "    print(\"Bienvenido/a, \" + user.title() + '!')\n",
    "\n",
    "# Reconoce el primer y ultimo usuario\n",
    "print(\"\\nFuiste el primer usuario, \" + users[0].title() + '!')\n",
    "print(\"Bienvenido eres el usuario mas reciente, \" + users[-1].title() + '!')"
   ]
  },
  {
   "cell_type": "markdown",
   "metadata": {},
   "source": [
    "Ten en cuenta que el código que da la bienvenida a nuestro usuario más nuevo siempre funcionará, porque hemos utilizado el índice -1. Si hubiéramos utilizado el índice 2, siempre obtendríamos el tercer usuario, incluso si nuestra lista de usuarios creciera y creciera."
   ]
  },
  {
   "cell_type": "markdown",
   "metadata": {},
   "source": [
    "### Ordenando una lista  "
   ]
  },
  {
   "cell_type": "markdown",
   "metadata": {},
   "source": [
    "Podemos ordenar una lista de forma alfabetica. El metodo *sort()* ordena la lista."
   ]
  },
  {
   "cell_type": "code",
   "execution_count": null,
   "metadata": {},
   "outputs": [],
   "source": [
    "pacientes = ['pepa', 'maria', 'juana']\n",
    "\n",
    "# ordena la lista alfabeticamente\n",
    "pacientes.sort()\n",
    "\n",
    "# Muestra pacientes \n",
    "print(\"Nuestros pacientes ordenados alfabeticamente.\")\n",
    "for paciente in pacientes:\n",
    "    print(paciente.title())\n",
    "\n",
    "# Ordenalos de forma alfabetiza empezando desde el final\n",
    "pacientes.sort(reverse=True)\n",
    "\n",
    "# Muestra pacientes\n",
    "print(\"Ahora los pacientes se ordenaron de forma alfabetica invertida.\")\n",
    "for paciente in pacientes:\n",
    "    print(paciente.title())"
   ]
  },
  {
   "cell_type": "markdown",
   "metadata": {},
   "source": [
    "**sorted() vs sort()**"
   ]
  },
  {
   "cell_type": "markdown",
   "metadata": {},
   "source": [
    "Siempre que quieras clasificar una lista, ten en cuenta que no puedes recuperar el orden original. Si deseas visualizar una lista en ordenada, pero conservar el orden original, puedes usar la función *sorted()*. La función *sorted()* también acepta el argumento opcional *reverse = True*"
   ]
  },
  {
   "cell_type": "code",
   "execution_count": null,
   "metadata": {},
   "outputs": [],
   "source": [
    "pacientes = ['maria', 'pepa', 'juana']\n",
    "\n",
    "# Muestra pacientes ordenado alfabeticamente\n",
    "print(\"Nuestros pacientes ordenados alfabeticamente.\")\n",
    "for paciente in sorted(pacientes):\n",
    "    print(paciente.title())\n",
    "\n",
    "# Muestra pacientes ordenado reverso alfabeticamente\n",
    "print(\"Ahora los pacientes se ordenaron de forma alfabetica invertida.\")\n",
    "for paciente in sorted(pacientes, reverse=True):\n",
    "    print(paciente.title())\n",
    "    \n",
    "# Muestra pacientes lista original\n",
    "print(\"Ahora los pacientes en el orden original.\")\n",
    "for paciente in pacientes:\n",
    "    print(paciente.title())"
   ]
  },
  {
   "cell_type": "markdown",
   "metadata": {
    "collapsed": true
   },
   "source": [
    "### Invirtiendo una lista"
   ]
  },
  {
   "cell_type": "markdown",
   "metadata": {
    "collapsed": true
   },
   "source": [
    "\n",
    "Hemos visto tres posibles formas de ordenar una lista:\n",
    "- El orden original en el que se creó la lista\n",
    "- Orden alfabetico\n",
    "- Invertir orden alfabético\n",
    "\n",
    "Hay una función más que podemos usar, y eso es la inversiondel orden original de la lista. La función *reverse()* nos da este orden."
   ]
  },
  {
   "cell_type": "code",
   "execution_count": null,
   "metadata": {},
   "outputs": [],
   "source": [
    "pacientes = ['maria', 'pepa', 'juana']\n",
    "\n",
    "pacientes.reverse()\n",
    "\n",
    "print(pacientes)"
   ]
  },
  {
   "cell_type": "markdown",
   "metadata": {},
   "source": [
    "**NOTA:** La inversion de una lista es permanente, aunque se puede realizar seguido otra llamado a *reverse()* para volver a obtener la lista original."
   ]
  },
  {
   "cell_type": "markdown",
   "metadata": {},
   "source": [
    "### Ordenando listas numericas"
   ]
  },
  {
   "cell_type": "markdown",
   "metadata": {},
   "source": [
    "Por supuesto las funciones y metodos mencionados anteriormente tambien funcionan en listas numericas."
   ]
  },
  {
   "cell_type": "code",
   "execution_count": null,
   "metadata": {},
   "outputs": [],
   "source": [
    "enteros = [1, 3, 4, 2]\n",
    "print('original')\n",
    "print(enteros)\n",
    "\n",
    "# sort() ordena creciente.\n",
    "enteros.sort()\n",
    "print('sort()')\n",
    "print(enteros)\n",
    "\n",
    "# sort(reverse=True) ordena decreciente.\n",
    "enteros.sort(reverse=True)\n",
    "print('sort(reverse=True)')\n",
    "print(enteros)\n",
    "\n",
    "enteros = [1, 3, 4, 2]\n",
    "\n",
    "# sorted() guarda orden original\n",
    "print('sorted()')\n",
    "print(sorted(enteros))\n",
    "print('original')\n",
    "print(enteros)\n",
    "\n",
    "# reverse() tambien funciona en listas numericas\n",
    "enteros.reverse()\n",
    "print('reverse()')\n",
    "print(enteros)\n",
    "\n",
    "\n",
    "\n",
    "mixed = [-131.23, 33213, 4454, 566, -33, '-377.312', 5.6656]\n",
    "print(sorted(mixed, key=float))"
   ]
  },
  {
   "cell_type": "markdown",
   "metadata": {},
   "source": [
    "### Longitud de una lista"
   ]
  },
  {
   "cell_type": "markdown",
   "metadata": {
    "collapsed": true
   },
   "source": [
    "La funcion *len()* nos permite calcular la longitud de una lista. Hay muchas situaciones en las que es posible que quieras saber cuántos elementos tiene una lista. Si tienes una lista que almacena a tus usuarios, puedes encontrar su longitud en cualquier momento y saber cuántos usuarios tenemos."
   ]
  },
  {
   "cell_type": "code",
   "execution_count": null,
   "metadata": {},
   "outputs": [],
   "source": [
    "# Creamos la lista vacia.\n",
    "users = []\n",
    "\n",
    "print('Cadena vacia {0}'.format(len(users)))\n",
    "\n",
    "# Agregamos usuarios\n",
    "users.append('juan')\n",
    "\n",
    "user_count = len(users)\n",
    "print(\"Tenemos \" + str(user_count) + \" usuarios!\")\n",
    "\n",
    "users.append('ivan')\n",
    "users.append('luisa')\n",
    "\n",
    "user_count = len(users)\n",
    "print(\"Tenemos \" + str(user_count) + \" usuarios!\")\n"
   ]
  },
  {
   "cell_type": "markdown",
   "metadata": {},
   "source": [
    "**NOTA:** La función *len()* devuelve un entero, al que hay que realizar el casting a *str* si queremos imprimirlo. "
   ]
  },
  {
   "cell_type": "markdown",
   "metadata": {},
   "source": [
    "### Eliminando elementos de una lista"
   ]
  },
  {
   "cell_type": "markdown",
   "metadata": {},
   "source": [
    "A estas alturas ya te habras dado cuenta de que las listas son una estructura dinámica. Podemos definir una lista vacía y luego llenarla a medida que ingrese información en nuestro programa. Para ser realmente dinámico, necesitamos formas de eliminar elementos de una lista cuando ya no los necesitemos. Esta operación se puede realizar a través de su posición o a través de su valor."
   ]
  },
  {
   "cell_type": "markdown",
   "metadata": {},
   "source": [
    "#### Eliminando elementos por posición"
   ]
  },
  {
   "cell_type": "markdown",
   "metadata": {},
   "source": [
    "Si sabes la posición de un elemento en una lista, puedes eliminar ese elemento con el comando *del *. Utiliza el comando *del * y el nombre de la lista, con el índice del elemento que deseas eliminar entre corchetes:"
   ]
  },
  {
   "cell_type": "code",
   "execution_count": null,
   "metadata": {},
   "outputs": [],
   "source": [
    "nombres = ['Juan', 'Ana', 'Luis', 'Maria']\n",
    "# elimina el elemento en la posicion 2 (Luis)\n",
    "del nombres[2]\n",
    "\n",
    "print(nombres)"
   ]
  },
  {
   "cell_type": "markdown",
   "metadata": {
    "collapsed": true
   },
   "source": [
    "#### Eliminando elementos por valor"
   ]
  },
  {
   "cell_type": "markdown",
   "metadata": {
    "collapsed": true
   },
   "source": [
    "También puedes eliminar un elemento de una lista si conoces su valor. Para hacer esto, utilizamos el método *remove()*. Indica el nombre de la lista, seguido del elemento a eliminar. Python busca en la lista, encuentra el primer elemento con este valor y lo elimina. Si el elemento no existe Python genera un error."
   ]
  },
  {
   "cell_type": "code",
   "execution_count": null,
   "metadata": {},
   "outputs": [],
   "source": [
    "nombres = ['Juan', 'Ana', 'Luis', 'Maria']\n",
    "# elimina el elemento en la posicion 2 (Luis)\n",
    "nombres.remove('Ana')\n",
    "\n",
    "print(nombres)"
   ]
  },
  {
   "cell_type": "markdown",
   "metadata": {
    "collapsed": true
   },
   "source": [
    "**NOTA:** El borrado solo elimina una instancia del elemento en la lista quedando otros elementos en la lista con el mismo valor despues de eliminar."
   ]
  },
  {
   "cell_type": "code",
   "execution_count": null,
   "metadata": {},
   "outputs": [],
   "source": [
    "letras = ['a', 'b', 'c', 'a', 'b', 'c']\n",
    "# remueve a de la lista\n",
    "letras.remove('a')\n",
    "\n",
    "print(letras) # todavia quedan aes, solo borramos una"
   ]
  },
  {
   "cell_type": "markdown",
   "metadata": {},
   "source": [
    "Hay un concepto en programación llamado \"popping\" de elementos de una lista. Cada lenguaje de programación tiene algún tipo de estructura de datos similar a las listas de Python. Estas estructuras se pueden usar como colas, y hay varias formas de procesar los elementos en una cola.\n",
    "Un enfoque simple es comenzar con una lista vacía y luego agregar elementos a esa lista. Cuando quieras trabajar con los elementos de la lista, siempre toma el último elemento de la lista, haz algo con él y luego elimina ese elemento. El método *pop()* lo hace sencillo. Elimina el último elemento de la lista y nos lo facilita para que podamos trabajar con él."
   ]
  },
  {
   "cell_type": "code",
   "execution_count": null,
   "metadata": {},
   "outputs": [],
   "source": [
    "nombres = ['Juan', 'Ana', 'Luis', 'Maria']\n",
    "\n",
    "ultimo_nombre = nombres.pop()\n",
    "\n",
    "print(ultimo_nombre)\n",
    "print(nombres)"
   ]
  },
  {
   "cell_type": "markdown",
   "metadata": {},
   "source": [
    "En realidad, se puede extraer cualquier elemento que se desee de una lista, dando el índice del elemento que se desea extraer."
   ]
  },
  {
   "cell_type": "code",
   "execution_count": null,
   "metadata": {},
   "outputs": [],
   "source": [
    "nombres = ['Juan', 'Ana', 'Luis', 'Maria']\n",
    "\n",
    "primer_nombre = nombres.pop(0)\n",
    "\n",
    "print(primer_nombre)\n",
    "print(nombres)"
   ]
  },
  {
   "cell_type": "code",
   "execution_count": null,
   "metadata": {},
   "outputs": [],
   "source": []
  },
  {
   "cell_type": "markdown",
   "metadata": {},
   "source": [
    "# *Slicing* (corte) de una lista   \n",
    "\n",
    "Ya hemos visto como una lista es una colección de elementos. Ahora vamos a ver como podemos obtener cualquier subconjunto de esos elementos. Por ejemplo, si queremos obtener solo los primeros tres elementos de la lista  los tres elementos en el medio de la lista, o los últimos tres elementos, o cualquier elemento x de cualquier parte de la lista. Estos subconjuntos de una lista se llaman cortes.  \n",
    "\n",
    "Para obtener un subconjunto de una lista, indicamos la posición del primer elemento que queremos y la posición del primer elemento que no queremos incluir en el subconjunto. Por lo tanto, el cort *lista[0:3]* devolverá una lista que contiene los elementos 0, 1 y 2, pero no el elemento 3."
   ]
  },
  {
   "cell_type": "code",
   "execution_count": null,
   "metadata": {},
   "outputs": [],
   "source": [
    "usuarios = ['Juan', 'Ana', 'Luis', 'Maria']\n",
    "\n",
    "# Recoge los primeros 3 usuarios de la lista.\n",
    "primeros_users = usuarios[0:3]\n",
    "\n",
    "for user in primeros_users:\n",
    "    print(user.title())\n",
    "    \n",
    "    \n",
    "otros_users = usuarios[0:5]\n",
    "for u in otros_users:\n",
    "    print(u)\n",
    "    \n",
    "print(id(otros_users))\n",
    "print(id(usuarios))\n",
    "\n",
    "mas_users = usuarios[:]\n",
    "for u in mas_users:\n",
    "    print(u)"
   ]
  },
  {
   "cell_type": "markdown",
   "metadata": {
    "collapsed": true
   },
   "source": [
    "Si quieres obtener todo hasta una determinada posición en la lista, debes dejar el primer índice en blanco."
   ]
  },
  {
   "cell_type": "code",
   "execution_count": null,
   "metadata": {},
   "outputs": [],
   "source": [
    "print(usuarios[:3]) # obtiene los tres primeros elementos de la lista"
   ]
  },
  {
   "cell_type": "markdown",
   "metadata": {
    "collapsed": true
   },
   "source": [
    "Cuando se secciona una lista, la lista original no se ve afectada."
   ]
  },
  {
   "cell_type": "code",
   "execution_count": null,
   "metadata": {},
   "outputs": [],
   "source": [
    "usuarios = ['Juan', 'Ana', 'Luis', 'Maria', 'Pepe']\n",
    "\n",
    "# Recoge los primeros 3 usuarios de la lista.\n",
    "primeros_users = usuarios[0:3]\n",
    "\n",
    "# la lista original no cambia\n",
    "for user in usuarios:\n",
    "    print(user.title())\n",
    "    \n",
    "    \n",
    "if usuarios[0:3]:\n",
    "    print('Oh my god!')"
   ]
  },
  {
   "cell_type": "markdown",
   "metadata": {},
   "source": [
    "Podemos obtener cualquier corte de una lista que deseemos, utilizando el método de *slicing*."
   ]
  },
  {
   "cell_type": "code",
   "execution_count": null,
   "metadata": {},
   "outputs": [],
   "source": [
    "usuarios = ['Juan', 'Ana', 'Luis', 'Maria', 'Pepe']\n",
    "\n",
    "# Recoge usuarios del indice 1 al 3\n",
    "primeros_users = usuarios[1:3]\n",
    "\n",
    "for user in primeros_users:\n",
    "    print(user.title())"
   ]
  },
  {
   "cell_type": "markdown",
   "metadata": {},
   "source": [
    "Para obtener todos los elementos de una posición en la lista hasta el final de la lista, podemos dejar fuera el segundo índice."
   ]
  },
  {
   "cell_type": "code",
   "execution_count": null,
   "metadata": {},
   "outputs": [],
   "source": [
    "usuarios = ['Juan', 'Ana', 'Luis', 'Maria', 'Pepe']\n",
    "\n",
    "# Recoge todos los usuarios desde el indice 2 en adelante\n",
    "primeros_users = usuarios[2:]\n",
    "\n",
    "for user in primeros_users:\n",
    "    print(user.title())"
   ]
  },
  {
   "cell_type": "markdown",
   "metadata": {},
   "source": [
    "De igual forma se puede utilizar el indexado con índice negativo para delimitar el corte y podemos indicar hasta que elemento queremos acceder."
   ]
  },
  {
   "cell_type": "code",
   "execution_count": null,
   "metadata": {},
   "outputs": [],
   "source": [
    "usuarios = ['Juan', 'Ana', 'Luis', 'Maria', 'Pepe']\n",
    "\n",
    "# Recoge todos los usuarios desde hasta el ultimo elemento\n",
    "primeros_users = usuarios[:-1]\n",
    "\n",
    "for user in primeros_users:\n",
    "    print(user.title())"
   ]
  },
  {
   "cell_type": "markdown",
   "metadata": {},
   "source": [
    "### Cortes extendidos\n",
    "Python entiende una forma extendida de los cortes. Esta forma acepta tres valores separados por el caracter ((:)). El tercer valor equivale al tercer parametro de la funcion range: indica el incremento del indice en cada iteracion. Por ejemplo, si c contiene la cadena 'Ejemplo', el corte c[0:len(c):2] selecciona los caracteres de indice par, o sea, devuelve la cadena 'Eepo'. El tercer valor puede ser negativo. Ello permite invertir una cadena con una expresion muy sencilla: c[::-1]. Haz la prueba."
   ]
  },
  {
   "cell_type": "code",
   "execution_count": 90,
   "metadata": {},
   "outputs": [
    {
     "name": "stdout",
     "output_type": "stream",
     "text": [
      "[1.1, 3.3, 5.5]\n",
      "[1.1, 2.2, 3.3, 4.4, 5.5, 6.6]\n",
      "[6.6, 5.5, 4.4, 3.3, 2.2, 1.1]\n"
     ]
    }
   ],
   "source": [
    "lista = [1.1, 2.2, 3.3, 4.4, 5.5, 6.6]\n",
    "print(lista[0:5:2])\n",
    "print(lista[::])\n",
    "print(lista[::-1])"
   ]
  },
  {
   "cell_type": "code",
   "execution_count": 91,
   "metadata": {},
   "outputs": [
    {
     "name": "stdout",
     "output_type": "stream",
     "text": [
      "hl\n",
      "aloh\n"
     ]
    }
   ],
   "source": [
    "cadena = 'hola'\n",
    "print(cadena[0:3:2])\n",
    "print(cadena[::-1])"
   ]
  },
  {
   "cell_type": "markdown",
   "metadata": {},
   "source": [
    "# Copiando una lista\n",
    "\n",
    "El copiado de listas funciona de una manera peculiar aunque habitual en programación. Python realiza un copiado por referencia de las listas de forma que no copiamos los valores de la lista sino la dirección de memoria en la que empieza. A esto se le llama copiado suave (*soft*) de una variable. Esto es interesante porque si tenemos una lista muy grande asi evitamos duplicar la información y llenar la memoria del ordenador. La consecuencia de todo esto es que si modificamos una de las variables, estaremos modificando en realidad la lista original. Veamos un ejemplo."
   ]
  },
  {
   "cell_type": "code",
   "execution_count": 93,
   "metadata": {},
   "outputs": [
    {
     "name": "stdout",
     "output_type": "stream",
     "text": [
      "Lista1 [7, 0, 2, 5]\n",
      "Lista1 [99, 0, 2, 5]\n",
      "Lista2 [99, 0, 2, 5]\n",
      "140182025529736\n",
      "140182025529736\n"
     ]
    }
   ],
   "source": [
    "lista1 = [7, 0, 2, 5]\n",
    "lista2 = lista1 # aqui realmente copiamos la direccion de memoria de lista1\n",
    "print('Lista1',lista1)\n",
    "lista2[0] = 99 # si modificamos lista2 tambien se ve modificada lista1\n",
    "print('Lista1',lista1)\n",
    "print('Lista2',lista2)\n",
    "print(id(lista1))\n",
    "print(id(lista2))"
   ]
  },
  {
   "cell_type": "markdown",
   "metadata": {},
   "source": [
    "Existe sin embargo una forma de realizar un copiado profundo (*deep*) de una lista en otra y es utilizando el operador de indexación de la siguenten forma: *[:]*"
   ]
  },
  {
   "cell_type": "code",
   "execution_count": 94,
   "metadata": {},
   "outputs": [
    {
     "name": "stdout",
     "output_type": "stream",
     "text": [
      "Lista1 [7, 0, 2, 5]\n",
      "Lista1 [7, 0, 2, 5]\n",
      "Lista2 [99, 0, 2, 5]\n",
      "Lista1 [7, 0, 2, 5]\n",
      "Lista2 [99, 0, 2]\n"
     ]
    }
   ],
   "source": [
    "lista1 = [7, 0, 2, 5]\n",
    "lista2 = lista1[:] # aqui realmente copiamos los valores\n",
    "print('Lista1',lista1)\n",
    "lista2[0] = 99 # si modificamos lista2 la lista1 sigue intacta\n",
    "print('Lista1',lista1)\n",
    "print('Lista2',lista2)\n",
    "\n",
    "del lista2[-1] # eliminamos el ultimo elemento de lista2\n",
    "print('Lista1',lista1) # lista1 sigue intacta\n",
    "print('Lista2',lista2) # lista2 se actualice"
   ]
  },
  {
   "cell_type": "markdown",
   "metadata": {},
   "source": [
    "#### En realidad cualquier operación de indexación produce como resultado una *deep* copy de los valores de la lista."
   ]
  },
  {
   "cell_type": "markdown",
   "metadata": {},
   "source": [
    "# Listas numericas"
   ]
  },
  {
   "cell_type": "markdown",
   "metadata": {},
   "source": [
    "Ya hemos visto las listas pueden contener cualquier tipo entre ellos números. Hay algunas funciones que se pueden usar para hacer que trabajar con listas numéricas sea más eficiente. Hagamos una lista de los primeros diez números y comencemos a trabajar con ella para ver cómo podemos usar los números en una lista."
   ]
  },
  {
   "cell_type": "code",
   "execution_count": null,
   "metadata": {},
   "outputs": [],
   "source": [
    "# primeros 10 numeros\n",
    "l_num = [1, 2, 3, 4, 5, 6, 7, 8, 9, 10]\n",
    "\n",
    "for num in l_num:\n",
    "    print(num)"
   ]
  },
  {
   "cell_type": "markdown",
   "metadata": {},
   "source": [
    "La funccion *range()*\n",
    "---\n",
    "\n",
    "Esto funciona, aunque no es muy eficiente si queremos trabajar con un gran conjunto de números. La función *range()* nos ayuda a generar largas listas de números. Aquí hay un ejemplo de como hacer generar la lista de los primeros 10 números, usando la función *range()*."
   ]
  },
  {
   "cell_type": "code",
   "execution_count": 101,
   "metadata": {},
   "outputs": [
    {
     "data": {
      "text/plain": [
       "[1, 2, 3, 4, 5, 6, 7, 8, 9]"
      ]
     },
     "execution_count": 101,
     "metadata": {},
     "output_type": "execute_result"
    }
   ],
   "source": [
    "# lista 10 primeros numeros\n",
    "list(range(1,10))\n",
    "\n"
   ]
  },
  {
   "cell_type": "markdown",
   "metadata": {},
   "source": [
    "Por defecto *range* generar números consecutivos en orden creciente aunque también se le puede indicar un paso en la generación. Por defecto el paso es 1."
   ]
  },
  {
   "cell_type": "code",
   "execution_count": 104,
   "metadata": {},
   "outputs": [
    {
     "name": "stdout",
     "output_type": "stream",
     "text": [
      "[0, 5, 10, 15, 20, 25, 30, 35, 40, 45, 50, 55, 60, 65, 70, 75, 80, 85, 90, 95]\n",
      "20\n"
     ]
    }
   ],
   "source": [
    "lista = list(range(0,100,5))\n",
    "\n",
    "print (lista) # el paso es 5.\n",
    "print(len(lista))"
   ]
  },
  {
   "cell_type": "markdown",
   "metadata": {},
   "source": [
    "Se puede crear una lista en orden decreciente poniendo un paso negativo-5."
   ]
  },
  {
   "cell_type": "code",
   "execution_count": 106,
   "metadata": {},
   "outputs": [
    {
     "name": "stdout",
     "output_type": "stream",
     "text": [
      "[100, 95, 90, 85, 80, 75, 70, 65, 60, 55, 50, 45, 40, 35, 30, 25, 20, 15, 10]\n"
     ]
    }
   ],
   "source": [
    "print(list(range(100,5,-5))) # el paso es 5"
   ]
  },
  {
   "cell_type": "markdown",
   "metadata": {},
   "source": [
    "Se suele utilizar en bucles for-in para recorrer secuencias."
   ]
  },
  {
   "cell_type": "code",
   "execution_count": 107,
   "metadata": {},
   "outputs": [
    {
     "name": "stdout",
     "output_type": "stream",
     "text": [
      "0\n",
      "1\n",
      "2\n",
      "3\n",
      "4\n"
     ]
    }
   ],
   "source": [
    "for num in range(0,5):\n",
    "    print(num)"
   ]
  },
  {
   "cell_type": "markdown",
   "metadata": {},
   "source": [
    "Esto es increíblemente poderoso. Ahora podemos crear una lista de varios millones de números tan fácil como creamos una lista de los primeros diez números. En realidad no tiene sentido imprimir el millón de números aquí, pero podemos mostrar que la lista realmente tiene un millón de elementos, y podemos imprimir los últimos elementos para mostrar que la lista es correcta."
   ]
  },
  {
   "cell_type": "code",
   "execution_count": 108,
   "metadata": {},
   "outputs": [
    {
     "name": "stdout",
     "output_type": "stream",
     "text": [
      "La lista de numeros tiene: 1000000 numeros en ella.\n",
      "Los ultimos numeros son:\n",
      "999996\n",
      "999997\n",
      "999998\n",
      "999999\n",
      "1000000\n"
     ]
    }
   ],
   "source": [
    "# guarda el primer millon de numeros\n",
    "numeros = list(range(1,1000001))\n",
    "\n",
    "# muestra la longitud de la lista\n",
    "print(\"La lista de numeros tiene: \" + str(len(numeros)) + \" numeros en ella.\")\n",
    "\n",
    "# muestra los ultimos numeros\n",
    "print(\"Los ultimos numeros son:\")\n",
    "for numero in numeros[-5:]:\n",
    "    print(numero)"
   ]
  },
  {
   "cell_type": "markdown",
   "metadata": {},
   "source": [
    "Aquí hay un par de cosas que merece recordar. La expresión\n",
    "\n",
    "    str (len (números))\n",
    "    \n",
    "toma la longitud de la lista de números y la convierte en una cadena para que se pueda imprimir.\n",
    "La expresión \n",
    "\n",
    "    números [-5:]\n",
    "\n",
    "nos da una parte de la lista. El índice -1 es el último elemento en la lista, y el índice -5 es el elemento cinco lugares desde el final de la lista. Entonces, el corte [-5:] nos da todo, desde ese elemento hasta el final de la lista."
   ]
  },
  {
   "cell_type": "markdown",
   "metadata": {},
   "source": [
    "Las funciones *min()*, *max()*, y *sum()*\n",
    "---\n",
    "Hay tres funciones que se usan habitualmente con listas numéricas. La función *min()* devuelve el número más pequeño de la lista, la función *max()* devuelve el número más grande de la lista y la función *sum()* devuelve la suma de todos los números la lista."
   ]
  },
  {
   "cell_type": "code",
   "execution_count": 109,
   "metadata": {},
   "outputs": [
    {
     "name": "stdout",
     "output_type": "stream",
     "text": [
      "El más joven tiene: 11 años.\n",
      "El más mayor tiene: 38 años.\n",
      "La suma de edades de todos es: 149 años.\n"
     ]
    }
   ],
   "source": [
    "edades = [23, 16, 14, 28, 19, 11, 38]\n",
    "\n",
    "joven = min(edades)\n",
    "viejo = max(edades)\n",
    "suma_edades = sum(edades)\n",
    "\n",
    "print(\"El más joven tiene: \" + str(joven) +  \" años.\")\n",
    "print(\"El más mayor tiene: \" + str(viejo) + \" años.\")\n",
    "print(\"La suma de edades de todos es: \" + str(suma_edades) + \" años.\")"
   ]
  },
  {
   "cell_type": "markdown",
   "metadata": {},
   "source": [
    "# Comprensión de listas (list comprehension)"
   ]
  },
  {
   "cell_type": "markdown",
   "metadata": {},
   "source": [
    "Si eres nuevo en programación, las comprensiones de la lista pueden parecer confusas al principio. Son una forma abreviada de crear y trabajar con listas. Es bueno estar al tanto de las listas de comprensión, porque las verás en el código de otros programadores, y son realmente útiles cuando entiende cómo usarlas. Por ahora, es suficiente saber que existen y reconocerlas cuando las veas.  \n",
    "\n",
    "Vemos como podemos crear una lista que contenga los cuadrados de los primeros 10 números de la forma que ya sabemos."
   ]
  },
  {
   "cell_type": "code",
   "execution_count": 110,
   "metadata": {},
   "outputs": [
    {
     "name": "stdout",
     "output_type": "stream",
     "text": [
      "[1, 4, 9, 16, 25, 36, 49, 64, 81, 100]\n"
     ]
    }
   ],
   "source": [
    "# almacena el cuadrado de los primeros 10 numeros en una lista\n",
    "cuadrados = []\n",
    "\n",
    "for numero in range(1,11):\n",
    "    nuevo_cuadrado = numero**2\n",
    "    cuadrados.append(nuevo_cuadrado)\n",
    "    \n",
    "# mostrar que la lista es correct\n",
    "print(cuadrados)"
   ]
  },
  {
   "cell_type": "markdown",
   "metadata": {},
   "source": [
    "A estas alturas, esto debería tener sentido. Si no es así, repasa el código con estos pensamientos en mente:\n",
    "- Creamos una lista vacía llamada *cuadrados* que contendrá los valores que nos interesan.\n",
    "- Usando la función *range()*, comenzamos un _loop_ que recorrerá los números 1-10.\n",
    "- Cada vez que pasamos por el _loop_, calculamos el cuadrado del número actual elevándolo a la segunda potencia.\n",
    "- Agregamos este nuevo valor a nuestra lista *cuadrados*.\n",
    "- Revisamos nuestra lista y la imprimimos.\n",
    "\n",
    "Ahora hagamos este código más eficiente. Realmente no necesitamos almacenar el nuevo cuadrado en su propia variable *nuevo_cuadrado*; podemos simplemente agregarlo directamente a la lista de cuadrados. La línea\n",
    "\n",
    "    nuevo_cuadrado = número ** 2\n",
    "\n",
    "se saca, y la siguiente línea se ocupa de la operación."
   ]
  },
  {
   "cell_type": "code",
   "execution_count": 111,
   "metadata": {},
   "outputs": [
    {
     "name": "stdout",
     "output_type": "stream",
     "text": [
      "[1, 4, 9, 16, 25, 36, 49, 64, 81, 100]\n"
     ]
    }
   ],
   "source": [
    "# almacena el cuadrado de los primeros 10 numeros en una lista\n",
    "cuadrados = []\n",
    "\n",
    "for numero in range(1,11):\n",
    "    cuadrados.append(numero**2)\n",
    "    \n",
    "# mostrar que la lista es correct\n",
    "print(cuadrados)"
   ]
  },
  {
   "cell_type": "markdown",
   "metadata": {},
   "source": [
    "Las comprensiones de listas nos permiten colapsar las primeras tres líneas de código en una línea de la siguiente forma."
   ]
  },
  {
   "cell_type": "code",
   "execution_count": 116,
   "metadata": {},
   "outputs": [
    {
     "name": "stdout",
     "output_type": "stream",
     "text": [
      "[1, 4, 9, 16, 25, 36, 49, 64, 81, 100]\n",
      "[2, 4, 6, 8, 10, 12, 14, 16, 18, 20, 22, 24, 26, 28, 30, 32, 34, 36, 38, 40, 42, 44, 46, 48, 50, 52, 54, 56, 58, 60, 62, 64, 66, 68, 70, 72, 74, 76, 78, 80, 82, 84, 86, 88, 90, 92, 94, 96, 98, 100, 102, 104, 106, 108, 110, 112, 114, 116, 118, 120, 122, 124, 126, 128, 130, 132, 134, 136, 138, 140, 142, 144, 146, 148, 150, 152, 154, 156, 158, 160, 162, 164, 166, 168, 170, 172, 174, 176, 178, 180, 182, 184, 186, 188, 190, 192, 194, 196, 198, 200, 202, 204, 206, 208, 210, 212, 214, 216, 218, 220, 222, 224, 226, 228, 230, 232, 234, 236, 238, 240, 242, 244, 246, 248, 250, 252, 254, 256, 258, 260, 262, 264, 266, 268, 270, 272, 274, 276, 278, 280, 282, 284, 286, 288, 290, 292, 294, 296, 298, 300, 302, 304, 306, 308, 310, 312, 314, 316, 318, 320, 322, 324, 326, 328, 330, 332, 334, 336, 338, 340, 342, 344, 346, 348, 350, 352, 354, 356, 358, 360, 362, 364, 366, 368, 370, 372, 374, 376, 378, 380, 382, 384, 386, 388, 390, 392, 394, 396, 398, 400, 402, 404, 406, 408, 410, 412, 414, 416, 418, 420, 422, 424, 426, 428, 430, 432, 434, 436, 438, 440, 442, 444, 446, 448, 450, 452, 454, 456, 458, 460, 462, 464, 466, 468, 470, 472, 474, 476, 478, 480, 482, 484, 486, 488, 490, 492, 494, 496, 498, 500, 502, 504, 506, 508, 510, 512, 514, 516, 518, 520, 522, 524, 526, 528, 530, 532, 534, 536, 538, 540, 542, 544, 546, 548, 550, 552, 554, 556, 558, 560, 562, 564, 566, 568, 570, 572, 574, 576, 578, 580, 582, 584, 586, 588, 590, 592, 594, 596, 598, 600, 602, 604, 606, 608, 610, 612, 614, 616, 618, 620, 622, 624, 626, 628, 630, 632, 634, 636, 638, 640, 642, 644, 646, 648, 650, 652, 654, 656, 658, 660, 662, 664, 666, 668, 670, 672, 674, 676, 678, 680, 682, 684, 686, 688, 690, 692, 694, 696, 698, 700, 702, 704, 706, 708, 710, 712, 714, 716, 718, 720, 722, 724, 726, 728, 730, 732, 734, 736, 738, 740, 742, 744, 746, 748, 750, 752, 754, 756, 758, 760, 762, 764, 766, 768, 770, 772, 774, 776, 778, 780, 782, 784, 786, 788, 790, 792, 794, 796, 798, 800, 802, 804, 806, 808, 810, 812, 814, 816, 818, 820, 822, 824, 826, 828, 830, 832, 834, 836, 838, 840, 842, 844, 846, 848, 850, 852, 854, 856, 858, 860, 862, 864, 866, 868, 870, 872, 874, 876, 878, 880, 882, 884, 886, 888, 890, 892, 894, 896, 898, 900, 902, 904, 906, 908, 910, 912, 914, 916, 918, 920, 922, 924, 926, 928, 930, 932, 934, 936, 938, 940, 942, 944, 946, 948, 950, 952, 954, 956, 958, 960, 962, 964, 966, 968, 970, 972, 974, 976, 978, 980, 982, 984, 986, 988, 990, 992, 994, 996, 998, 1000, 1002, 1004, 1006, 1008, 1010, 1012, 1014, 1016, 1018, 1020, 1022, 1024, 1026, 1028, 1030, 1032, 1034, 1036, 1038, 1040, 1042, 1044, 1046, 1048, 1050, 1052, 1054, 1056, 1058, 1060, 1062, 1064, 1066, 1068, 1070, 1072, 1074, 1076, 1078, 1080, 1082, 1084, 1086, 1088, 1090, 1092, 1094, 1096, 1098, 1100, 1102, 1104, 1106, 1108, 1110, 1112, 1114, 1116, 1118, 1120, 1122, 1124, 1126, 1128, 1130, 1132, 1134, 1136, 1138, 1140, 1142, 1144, 1146, 1148, 1150, 1152, 1154, 1156, 1158, 1160, 1162, 1164, 1166, 1168, 1170, 1172, 1174, 1176, 1178, 1180, 1182, 1184, 1186, 1188, 1190, 1192, 1194, 1196, 1198, 1200, 1202, 1204, 1206, 1208, 1210, 1212, 1214, 1216, 1218, 1220, 1222, 1224, 1226, 1228, 1230, 1232, 1234, 1236, 1238, 1240, 1242, 1244, 1246, 1248, 1250, 1252, 1254, 1256, 1258, 1260, 1262, 1264, 1266, 1268, 1270, 1272, 1274, 1276, 1278, 1280, 1282, 1284, 1286, 1288, 1290, 1292, 1294, 1296, 1298, 1300, 1302, 1304, 1306, 1308, 1310, 1312, 1314, 1316, 1318, 1320, 1322, 1324, 1326, 1328, 1330, 1332, 1334, 1336, 1338, 1340, 1342, 1344, 1346, 1348, 1350, 1352, 1354, 1356, 1358, 1360, 1362, 1364, 1366, 1368, 1370, 1372, 1374, 1376, 1378, 1380, 1382, 1384, 1386, 1388, 1390, 1392, 1394, 1396, 1398, 1400, 1402, 1404, 1406, 1408, 1410, 1412, 1414, 1416, 1418, 1420, 1422, 1424, 1426, 1428, 1430, 1432, 1434, 1436, 1438, 1440, 1442, 1444, 1446, 1448, 1450, 1452, 1454, 1456, 1458, 1460, 1462, 1464, 1466, 1468, 1470, 1472, 1474, 1476, 1478, 1480, 1482, 1484, 1486, 1488, 1490, 1492, 1494, 1496, 1498, 1500, 1502, 1504, 1506, 1508, 1510, 1512, 1514, 1516, 1518, 1520, 1522, 1524, 1526, 1528, 1530, 1532, 1534, 1536, 1538, 1540, 1542, 1544, 1546, 1548, 1550, 1552, 1554, 1556, 1558, 1560, 1562, 1564, 1566, 1568, 1570, 1572, 1574, 1576, 1578, 1580, 1582, 1584, 1586, 1588, 1590, 1592, 1594, 1596, 1598, 1600, 1602, 1604, 1606, 1608, 1610, 1612, 1614, 1616, 1618, 1620, 1622, 1624, 1626, 1628, 1630, 1632, 1634, 1636, 1638, 1640, 1642, 1644, 1646, 1648, 1650, 1652, 1654, 1656, 1658, 1660, 1662, 1664, 1666, 1668, 1670, 1672, 1674, 1676, 1678, 1680, 1682, 1684, 1686, 1688, 1690, 1692, 1694, 1696, 1698, 1700, 1702, 1704, 1706, 1708, 1710, 1712, 1714, 1716, 1718, 1720, 1722, 1724, 1726, 1728, 1730, 1732, 1734, 1736, 1738, 1740, 1742, 1744, 1746, 1748, 1750, 1752, 1754, 1756, 1758, 1760, 1762, 1764, 1766, 1768, 1770, 1772, 1774, 1776, 1778, 1780, 1782, 1784, 1786, 1788, 1790, 1792, 1794, 1796, 1798, 1800, 1802, 1804, 1806, 1808, 1810, 1812, 1814, 1816, 1818, 1820, 1822, 1824, 1826, 1828, 1830, 1832, 1834, 1836, 1838, 1840, 1842, 1844, 1846, 1848, 1850, 1852, 1854, 1856, 1858, 1860, 1862, 1864, 1866, 1868, 1870, 1872, 1874, 1876, 1878, 1880, 1882, 1884, 1886, 1888, 1890, 1892, 1894, 1896, 1898, 1900, 1902, 1904, 1906, 1908, 1910, 1912, 1914, 1916, 1918, 1920, 1922, 1924, 1926, 1928, 1930, 1932, 1934, 1936, 1938, 1940, 1942, 1944, 1946, 1948, 1950, 1952, 1954, 1956, 1958, 1960, 1962, 1964, 1966, 1968, 1970, 1972, 1974, 1976, 1978, 1980, 1982, 1984, 1986, 1988, 1990, 1992, 1994, 1996, 1998, 2000, 2002, 2004, 2006, 2008, 2010, 2012, 2014, 2016, 2018, 2020, 2022, 2024, 2026, 2028, 2030, 2032, 2034, 2036, 2038, 2040, 2042, 2044, 2046, 2048, 2050, 2052, 2054, 2056, 2058, 2060, 2062, 2064, 2066, 2068, 2070, 2072, 2074, 2076, 2078, 2080, 2082, 2084, 2086, 2088, 2090, 2092, 2094, 2096, 2098, 2100, 2102, 2104, 2106, 2108, 2110, 2112, 2114, 2116, 2118, 2120, 2122, 2124, 2126, 2128, 2130, 2132, 2134, 2136, 2138, 2140, 2142, 2144, 2146, 2148, 2150, 2152, 2154, 2156, 2158, 2160, 2162, 2164, 2166, 2168, 2170, 2172, 2174, 2176, 2178, 2180, 2182, 2184, 2186, 2188, 2190, 2192, 2194, 2196, 2198, 2200, 2202, 2204, 2206, 2208, 2210, 2212, 2214, 2216, 2218, 2220, 2222, 2224, 2226, 2228, 2230, 2232, 2234, 2236, 2238, 2240, 2242, 2244, 2246, 2248, 2250, 2252, 2254, 2256, 2258, 2260, 2262, 2264, 2266, 2268, 2270, 2272, 2274, 2276, 2278, 2280, 2282, 2284, 2286, 2288, 2290, 2292, 2294, 2296, 2298, 2300, 2302, 2304, 2306, 2308, 2310, 2312, 2314, 2316, 2318, 2320, 2322, 2324, 2326, 2328, 2330, 2332, 2334, 2336, 2338, 2340, 2342, 2344, 2346, 2348, 2350, 2352, 2354, 2356, 2358, 2360, 2362, 2364, 2366, 2368, 2370, 2372, 2374, 2376, 2378, 2380, 2382, 2384, 2386, 2388, 2390, 2392, 2394, 2396, 2398, 2400, 2402, 2404, 2406, 2408, 2410, 2412, 2414, 2416, 2418, 2420, 2422, 2424, 2426, 2428, 2430, 2432, 2434, 2436, 2438, 2440, 2442, 2444, 2446, 2448, 2450, 2452, 2454, 2456, 2458, 2460, 2462, 2464, 2466, 2468, 2470, 2472, 2474, 2476, 2478, 2480, 2482, 2484, 2486, 2488, 2490, 2492, 2494, 2496, 2498, 2500, 2502, 2504, 2506, 2508, 2510, 2512, 2514, 2516, 2518, 2520, 2522, 2524, 2526, 2528, 2530, 2532, 2534, 2536, 2538, 2540, 2542, 2544, 2546, 2548, 2550, 2552, 2554, 2556, 2558, 2560, 2562, 2564, 2566, 2568, 2570, 2572, 2574, 2576, 2578, 2580, 2582, 2584, 2586, 2588, 2590, 2592, 2594, 2596, 2598, 2600, 2602, 2604, 2606, 2608, 2610, 2612, 2614, 2616, 2618, 2620, 2622, 2624, 2626, 2628, 2630, 2632, 2634, 2636, 2638, 2640, 2642, 2644, 2646, 2648, 2650, 2652, 2654, 2656, 2658, 2660, 2662, 2664, 2666, 2668, 2670, 2672, 2674, 2676, 2678, 2680, 2682, 2684, 2686, 2688, 2690, 2692, 2694, 2696, 2698, 2700, 2702, 2704, 2706, 2708, 2710, 2712, 2714, 2716, 2718, 2720, 2722, 2724, 2726, 2728, 2730, 2732, 2734, 2736, 2738, 2740, 2742, 2744, 2746, 2748, 2750, 2752, 2754, 2756, 2758, 2760, 2762, 2764, 2766, 2768, 2770, 2772, 2774, 2776, 2778, 2780, 2782, 2784, 2786, 2788, 2790, 2792, 2794, 2796, 2798, 2800, 2802, 2804, 2806, 2808, 2810, 2812, 2814, 2816, 2818, 2820, 2822, 2824, 2826, 2828, 2830, 2832, 2834, 2836, 2838, 2840, 2842, 2844, 2846, 2848, 2850, 2852, 2854, 2856, 2858, 2860, 2862, 2864, 2866, 2868, 2870, 2872, 2874, 2876, 2878, 2880, 2882, 2884, 2886, 2888, 2890, 2892, 2894, 2896, 2898, 2900, 2902, 2904, 2906, 2908, 2910, 2912, 2914, 2916, 2918, 2920, 2922, 2924, 2926, 2928, 2930, 2932, 2934, 2936, 2938, 2940, 2942, 2944, 2946, 2948, 2950, 2952, 2954, 2956, 2958, 2960, 2962, 2964, 2966, 2968, 2970, 2972, 2974, 2976, 2978, 2980, 2982, 2984, 2986, 2988, 2990, 2992, 2994, 2996, 2998, 3000, 3002, 3004, 3006, 3008, 3010, 3012, 3014, 3016, 3018, 3020, 3022, 3024, 3026, 3028, 3030, 3032, 3034, 3036, 3038, 3040, 3042, 3044, 3046, 3048, 3050, 3052, 3054, 3056, 3058, 3060, 3062, 3064, 3066, 3068, 3070, 3072, 3074, 3076, 3078, 3080, 3082, 3084, 3086, 3088, 3090, 3092, 3094, 3096, 3098, 3100, 3102, 3104, 3106, 3108, 3110, 3112, 3114, 3116, 3118, 3120, 3122, 3124, 3126, 3128, 3130, 3132, 3134, 3136, 3138, 3140, 3142, 3144, 3146, 3148, 3150, 3152, 3154, 3156, 3158, 3160, 3162, 3164, 3166, 3168, 3170, 3172, 3174, 3176, 3178, 3180, 3182, 3184, 3186, 3188, 3190, 3192, 3194, 3196, 3198, 3200, 3202, 3204, 3206, 3208, 3210, 3212, 3214, 3216, 3218, 3220, 3222, 3224, 3226, 3228, 3230, 3232, 3234, 3236, 3238, 3240, 3242, 3244, 3246, 3248, 3250, 3252, 3254, 3256, 3258, 3260, 3262, 3264, 3266, 3268, 3270, 3272, 3274, 3276, 3278, 3280, 3282, 3284, 3286, 3288, 3290, 3292, 3294, 3296, 3298, 3300, 3302, 3304, 3306, 3308, 3310, 3312, 3314, 3316, 3318, 3320, 3322, 3324, 3326, 3328, 3330, 3332, 3334, 3336, 3338, 3340, 3342, 3344, 3346, 3348, 3350, 3352, 3354, 3356, 3358, 3360, 3362, 3364, 3366, 3368, 3370, 3372, 3374, 3376, 3378, 3380, 3382, 3384, 3386, 3388, 3390, 3392, 3394, 3396, 3398, 3400, 3402, 3404, 3406, 3408, 3410, 3412, 3414, 3416, 3418, 3420, 3422, 3424, 3426, 3428, 3430, 3432, 3434, 3436, 3438, 3440, 3442, 3444, 3446, 3448, 3450, 3452, 3454, 3456, 3458, 3460, 3462, 3464, 3466, 3468, 3470, 3472, 3474, 3476, 3478, 3480, 3482, 3484, 3486, 3488, 3490, 3492, 3494, 3496, 3498, 3500, 3502, 3504, 3506, 3508, 3510, 3512, 3514, 3516, 3518, 3520, 3522, 3524, 3526, 3528, 3530, 3532, 3534, 3536, 3538, 3540, 3542, 3544, 3546, 3548, 3550, 3552, 3554, 3556, 3558, 3560, 3562, 3564, 3566, 3568, 3570, 3572, 3574, 3576, 3578, 3580, 3582, 3584, 3586, 3588, 3590, 3592, 3594, 3596, 3598, 3600, 3602, 3604, 3606, 3608, 3610, 3612, 3614, 3616, 3618, 3620, 3622, 3624, 3626, 3628, 3630, 3632, 3634, 3636, 3638, 3640, 3642, 3644, 3646, 3648, 3650, 3652, 3654, 3656, 3658, 3660, 3662, 3664, 3666, 3668, 3670, 3672, 3674, 3676, 3678, 3680, 3682, 3684, 3686, 3688, 3690, 3692, 3694, 3696, 3698, 3700, 3702, 3704, 3706, 3708, 3710, 3712, 3714, 3716, 3718, 3720, 3722, 3724, 3726, 3728, 3730, 3732, 3734, 3736, 3738, 3740, 3742, 3744, 3746, 3748, 3750, 3752, 3754, 3756, 3758, 3760, 3762, 3764, 3766, 3768, 3770, 3772, 3774, 3776, 3778, 3780, 3782, 3784, 3786, 3788, 3790, 3792, 3794, 3796, 3798, 3800, 3802, 3804, 3806, 3808, 3810, 3812, 3814, 3816, 3818, 3820, 3822, 3824, 3826, 3828, 3830, 3832, 3834, 3836, 3838, 3840, 3842, 3844, 3846, 3848, 3850, 3852, 3854, 3856, 3858, 3860, 3862, 3864, 3866, 3868, 3870, 3872, 3874, 3876, 3878, 3880, 3882, 3884, 3886, 3888, 3890, 3892, 3894, 3896, 3898, 3900, 3902, 3904, 3906, 3908, 3910, 3912, 3914, 3916, 3918, 3920, 3922, 3924, 3926, 3928, 3930, 3932, 3934, 3936, 3938, 3940, 3942, 3944, 3946, 3948, 3950, 3952, 3954, 3956, 3958, 3960, 3962, 3964, 3966, 3968, 3970, 3972, 3974, 3976, 3978, 3980, 3982, 3984, 3986, 3988, 3990, 3992, 3994, 3996, 3998]\n"
     ]
    }
   ],
   "source": [
    "cuadrados = [numero**2 for numero in range(1,11)]\n",
    "triangulos = [valor+valor for valor in range(1, 2000)]\n",
    "# mostrar que la lista es correct\n",
    "print(cuadrados)\n",
    "print(triangulos)"
   ]
  },
  {
   "cell_type": "markdown",
   "metadata": {},
   "source": [
    "Debería quedar bastante claro que este código es más eficiente que nuestro enfoque anterior, pero puede no estar claro lo que está sucediendo. Echemos un vistazo a todo lo que está sucediendo en esa primera línea:\n",
    "\n",
    "Definimos una lista llamada *cuadrados*.\n",
    "\n",
    "Mira la segunda parte de lo que está entre corchetes:\n",
    "\n",
    "    for numero in range(1,11)\n",
    "\n",
    "Esto crea un _loop_ que pasa por los números del 1 al 10, almacenando cada valor en la variable *numero*. Ahora podemos ver qué ocurre con cada *numero* en el _loop_:\n",
    "\n",
    "    numero**2\n",
    "\n",
    "Cada número se eleva a la segunda potencia, y este es el valor que se almacena en la lista que definimos. Podríamos leer esta línea de la siguiente manera:\n",
    "\n",
    "cuadrados = [eleva *numero* a la segunda potencia, for nuemro in range(1-10)]"
   ]
  },
  {
   "cell_type": "markdown",
   "metadata": {},
   "source": [
    "### Más ejemplos"
   ]
  },
  {
   "cell_type": "markdown",
   "metadata": {},
   "source": [
    "Una Comprensión de listas para calcular los primeros pares. Como puedes ver, en número de líneas se reduce y el código se simplifica."
   ]
  },
  {
   "cell_type": "code",
   "execution_count": 117,
   "metadata": {},
   "outputs": [
    {
     "name": "stdout",
     "output_type": "stream",
     "text": [
      "[2, 4, 6, 8, 10, 12, 14, 16, 18, 20]\n"
     ]
    }
   ],
   "source": [
    "pares = [numero*2 for numero in range(1,11)]\n",
    "\n",
    "print(pares)"
   ]
  },
  {
   "cell_type": "markdown",
   "metadata": {},
   "source": [
    "## Listas no númericas"
   ]
  },
  {
   "cell_type": "markdown",
   "metadata": {},
   "source": [
    "También podemos usar comprensiones con listas no numéricas. En este caso, crearemos una lista inicial, y luego usaremos una comprensión para hacer una segunda lista de la primera. Aquí hay un ejemplo simple, sin usar comprensiones."
   ]
  },
  {
   "cell_type": "code",
   "execution_count": 118,
   "metadata": {},
   "outputs": [
    {
     "name": "stdout",
     "output_type": "stream",
     "text": [
      "Hola, Juan eres buen estudiante!\n",
      "Hola, Ana eres buen estudiante!\n",
      "Hola, Fran eres buen estudiante!\n"
     ]
    }
   ],
   "source": [
    "estudiantes = ['juan', 'ana', 'fran']\n",
    "\n",
    "# transformelos en buenos estudiantes\n",
    "buenos_estudiantes = []\n",
    "for estudiante in estudiantes:\n",
    "    buenos_estudiantes.append(estudiante.title() + \" eres buen estudiante!\")\n",
    "\n",
    "# Saludemos a los estudiantes\n",
    "for buen_estudiante in buenos_estudiantes:\n",
    "    print(\"Hola, \" + buen_estudiante)"
   ]
  },
  {
   "cell_type": "markdown",
   "metadata": {},
   "source": [
    "Para usar una comprensión de listas en este código, debemos escribir algo como esto:  \n",
    "    \n",
    "    buenos_estudiantes = [agrega 'eres buen estudiante!' a cada estudiante, para cada estudiante en la lista de estudiantes]"
   ]
  },
  {
   "cell_type": "code",
   "execution_count": null,
   "metadata": {},
   "outputs": [],
   "source": [
    "estudiantes = ['juan', 'ana', 'fran']\n",
    "\n",
    "# lista de comprension para transformarlos en buenos estudiantes\n",
    "buenos_estudiantes = [estudiante.title() + \" eres buen estudiante!\" for estudiante in estudiantes]\n",
    "\n",
    "# Saludemos a los estudiantes\n",
    "for buen_estudiante in buenos_estudiantes:\n",
    "    print(\"Hola, \" + buen_estudiante)"
   ]
  },
  {
   "cell_type": "code",
   "execution_count": null,
   "metadata": {},
   "outputs": [],
   "source": []
  },
  {
   "cell_type": "markdown",
   "metadata": {},
   "source": [
    "*Slicing* cadenas\n",
    "===\n",
    "\n",
    "Ahora que nos hemos familiarizado bastante con las listas, podemos echar un vistazo a las cadenas. Recordad que una cadena es realmente una lista de caracteres, por lo que muchos de los conceptos que se trabajan con listas se pueden utilizar de la misma manera con cadenas."
   ]
  },
  {
   "cell_type": "code",
   "execution_count": null,
   "metadata": {},
   "outputs": [],
   "source": [
    "mensaje = \"Hola!\"\n",
    "\n",
    "for letra in mensaje:\n",
    "    print(letra)"
   ]
  },
  {
   "cell_type": "markdown",
   "metadata": {},
   "source": [
    "Podemos acceder a cualquier carácter en una cadena por su posición, del mismo modo que accedemos a los elementos individuales en una lista."
   ]
  },
  {
   "cell_type": "code",
   "execution_count": null,
   "metadata": {},
   "outputs": [],
   "source": [
    "mensaje = \"Hola!\"\n",
    "\n",
    "primer_char = mensaje[0]\n",
    "ultimo_char = mensaje[-1]\n",
    "\n",
    "print(primer_char, ultimo_char)"
   ]
  },
  {
   "cell_type": "markdown",
   "metadata": {},
   "source": [
    "Podemos extender esto para realizar cortes en la cadena."
   ]
  },
  {
   "cell_type": "code",
   "execution_count": null,
   "metadata": {},
   "outputs": [],
   "source": [
    "mensaje = \"Hola Mundo!\"\n",
    "\n",
    "primeros_tres = mensaje[:3]\n",
    "ultimos_tres = mensaje[-3:]\n",
    "\n",
    "print(primeros_tres, ultimos_tres)"
   ]
  },
  {
   "cell_type": "markdown",
   "metadata": {},
   "source": [
    "Encontrando subcadenas\n",
    "---\n",
    "Ahora que hemos visto qué significan los índices para las cadenas, podemos buscar *subcadenas*. Una subcadena es una serie de caracteres que aparecen en una cadena.\n",
    "\n",
    "Usando la palabra clave *in* para averiguar si una subcadena particular aparece en una cadena."
   ]
  },
  {
   "cell_type": "code",
   "execution_count": null,
   "metadata": {},
   "outputs": [],
   "source": [
    "mensaje = \"Me gusta Pamplona.\"\n",
    "pamplona_esta = 'Pamplona' in mensaje\n",
    "print(pamplona_esta)"
   ]
  },
  {
   "cell_type": "markdown",
   "metadata": {},
   "source": [
    "\n",
    "Si deseas saber dónde aparece una subcadena en una cadena, puedes usar el método *find()*. El método *find()* te dice el índice en el que comienza la subcadena."
   ]
  },
  {
   "cell_type": "code",
   "execution_count": null,
   "metadata": {},
   "outputs": [],
   "source": [
    "mensaje = \"Me gusta Pamplona.\"\n",
    "indice_pamplona = mensaje.find('Pamplona')\n",
    "print('Pamplona empieza en el caracter numero: ' + str(indice_pamplona))"
   ]
  },
  {
   "cell_type": "markdown",
   "metadata": {},
   "source": [
    "Sin embargo, ten en cuenta que esta función solo devuelve el índice de la primera aparición de la subcadena que está buscando. Si la subcadena aparece más de una vez, perderá las otras subcadenas."
   ]
  },
  {
   "cell_type": "code",
   "execution_count": null,
   "metadata": {},
   "outputs": [],
   "source": [
    "mensaje = \"Me gusta Pamplona. En Pamplona se celebran los San Fermines\"\n",
    "indice_pamplona = mensaje.find('Pamplona')\n",
    "print('Pamplona empieza en el caracter numero: ' + str(indice_pamplona))"
   ]
  },
  {
   "cell_type": "markdown",
   "metadata": {},
   "source": [
    "Si deseas buscar la última aparición de una subcadena, puedes usar la función *rfind()*."
   ]
  },
  {
   "cell_type": "code",
   "execution_count": null,
   "metadata": {},
   "outputs": [],
   "source": [
    "mensaje = \"Me gusta Pamplona. En Pamplona se celebran los San Fermines\"\n",
    "indice_pamplona = mensaje.rfind('Pamplona')\n",
    "print('Pamplona empieza en el caracter numero: ' + str(indice_pamplona))"
   ]
  },
  {
   "cell_type": "markdown",
   "metadata": {},
   "source": [
    "Reemplazando subcadenas\n",
    "---\n",
    "\n",
    "Puedes usar la función *replace()* para reemplazar cualquier subcadena con otra subcadena. Para usar la función *replace()*, proporciona la subcadena que deseas reemplazar y luego la subcadena con la que deseas reemplazarla. También necesitaras almacenar la nueva cadena, ya sea en la misma variable de cadena o en una nueva variable."
   ]
  },
  {
   "cell_type": "code",
   "execution_count": null,
   "metadata": {},
   "outputs": [],
   "source": [
    "mensaje = \"Me gusta Pamplona. En Pamplona hay verano.\"\n",
    "mensaje = mensaje.replace('Pamplona', 'Madrid')\n",
    "print(mensaje)"
   ]
  },
  {
   "cell_type": "markdown",
   "metadata": {},
   "source": [
    "Contar subcadenas \n",
    "---\n",
    "Si quieres saber cuántas veces aparece una subcadena dentro de una cadena, puedes usar el método *count()*."
   ]
  },
  {
   "cell_type": "code",
   "execution_count": null,
   "metadata": {},
   "outputs": [],
   "source": [
    "mensaje = \"Me gusta Pamplona. En Pamplona se celebran los San Fermines\"\n",
    "n_pamplonas = mensaje.count('Pamplona')\n",
    "print('Pamplona aparece: ' + str(n_pamplonas) + ' veces en la cadena.')"
   ]
  },
  {
   "cell_type": "markdown",
   "metadata": {},
   "source": [
    "De cadenas a listas y viceversa\n",
    "---\n",
    "### Split\n",
    "En muchas ocasiones nos encontraremos convirtiendo cadenas en listas y viceversa. Python nos ofrece una serie de utilidades que conviene conocer si queremos ahorrarnos muchas horas de programacion. Una accion frecuente consiste en obtener una lista con todas las palabras de una cadena. Para ello utilizamos el metodo _split_."
   ]
  },
  {
   "cell_type": "code",
   "execution_count": null,
   "metadata": {},
   "outputs": [],
   "source": [
    "cadena = 'uno dos tres'\n",
    "lista_cadena = cadena.split()\n",
    "print(lista_cadena)"
   ]
  },
  {
   "cell_type": "markdown",
   "metadata": {},
   "source": [
    "De esta forma es muy sencillo contar el numero de palabras de una frase."
   ]
  },
  {
   "cell_type": "code",
   "execution_count": null,
   "metadata": {},
   "outputs": [],
   "source": [
    "cadena = 'Esto es una frase con varias palabras'\n",
    "lista_cadena = cadena.split()\n",
    "print(len(lista_cadena))"
   ]
  },
  {
   "cell_type": "markdown",
   "metadata": {},
   "source": [
    "Por defecto Python crea una lista de la cadena separando por el caracter espacio en blanco. Si queremos que tome como separador otro caracter necesitamos indicarlo como parametro en la funcion _split_."
   ]
  },
  {
   "cell_type": "code",
   "execution_count": null,
   "metadata": {},
   "outputs": [],
   "source": [
    "hora = '19:25:33'\n",
    "print(hora.split(':')) # utilizamos el caracter : como separador"
   ]
  },
  {
   "cell_type": "markdown",
   "metadata": {},
   "source": [
    "Que ocurre con las cadenas maliciosas que estan separadas por diferentes caracteres?. Para obtener un resultado correcto es necesario los separadores sean siempre los mismos"
   ]
  },
  {
   "cell_type": "code",
   "execution_count": null,
   "metadata": {},
   "outputs": [],
   "source": [
    "cadena = 'uno dos:tres cuatro'\n",
    "lista_cadena = cadena.split()\n",
    "print(lista_cadena)"
   ]
  },
  {
   "cell_type": "markdown",
   "metadata": {},
   "source": [
    "### Join\n",
    "El metodo que hace lo contrario a _split_ es _join_. Nos permite una lista de palabras en una frase. Se utiliza poniendo delante el caracter a utilizar para unir las palabras seguido de _.join_ . A continuacion un ejemplo con diferentes caracteres de union."
   ]
  },
  {
   "cell_type": "code",
   "execution_count": null,
   "metadata": {},
   "outputs": [],
   "source": [
    "print(' '.join(['uno','dos','tres']))"
   ]
  },
  {
   "cell_type": "code",
   "execution_count": null,
   "metadata": {},
   "outputs": [],
   "source": [
    "print(':'.join(['19','15','23']))"
   ]
  },
  {
   "cell_type": "code",
   "execution_count": null,
   "metadata": {},
   "outputs": [],
   "source": [
    "print('----'.join(['uno', 'dos', 'tres']))"
   ]
  },
  {
   "cell_type": "markdown",
   "metadata": {},
   "source": [
    "Otros métodos para manipular cadenas\n",
    "---\n",
    "Hay una serie de [otros métodos de cadena](http://docs.python.org/3.3/library/stdtypes.html#string-methods) que no vamos a estudiar aquí, pero es posible echarles un vistazo a ellos si quieres. La mayoría de estos métodos deberían tener sentido en este punto. Es posible que no tengas uso para ninguno de ellos ahora mismo, pero es bueno saber qué se puede hacer con las cadenas. De esta manera tendrás una idea de cómo resolver ciertos problemas, incluso si esto significa volver a consultar la lista de métodos para recordar cómo escribir la sintaxis correcta cuando lo necesites."
   ]
  },
  {
   "cell_type": "markdown",
   "metadata": {},
   "source": [
    "# Tuplas"
   ]
  },
  {
   "cell_type": "markdown",
   "metadata": {},
   "source": [
    "Las tuplas son básicamente listas que no se pueden cambiar. Las listas son bastante dinámicas; pueden crecer a medida que se inserta elementos, y pueden reducirse a medida que eliminan. Puedes modificar cualquier elemento que desees en una lista. A veces nos gusta este comportamiento, pero otras veces queremos asegurarnos de que ningún usuario o parte de un programa pueda cambiar una lista. Para eso son las tuplas.  \n",
    "\n",
    "Técnicamente, las listas son objetos mutables y las tuplas son objetos inmutables. Los objetos mutables pueden cambiar (pensar en mutaciones) y los objetos inmutables no pueden cambiar.\n",
    "\n",
    "Definiendo tuplas y accediendo a sus elementos\n",
    "---\n",
    "\n",
    "Una tupla se define tal y como se define una lista, excepto que se usa paréntesis en lugar de corchetes. Una vez que tengamos una tupla, podemos acceder a los elementos individuales como hacemos con una lista, y podemos recorrer la tupla con un bucle *for*:"
   ]
  },
  {
   "cell_type": "code",
   "execution_count": null,
   "metadata": {},
   "outputs": [],
   "source": [
    "colores = ('rojo', 'verde', 'azul')\n",
    "print(\"El primer color es: \" + colores[0])\n",
    "\n",
    "print(\"\\nLa variable colores contiene:\")\n",
    "for color in colores:\n",
    "    print(\"- \" + color)"
   ]
  },
  {
   "cell_type": "markdown",
   "metadata": {},
   "source": [
    "Si intentas modificar el contenido de una tupla, Python dara error."
   ]
  },
  {
   "cell_type": "code",
   "execution_count": null,
   "metadata": {},
   "outputs": [],
   "source": [
    "colores = ('rojo', 'verde', 'azul')\n",
    "colores.append('amarillo') # esto produce error"
   ]
  },
  {
   "cell_type": "markdown",
   "metadata": {},
   "source": [
    "Lo mismo ocurre cuando intentas eliminar algo de una tupla, o modificar uno de sus elementos. Una vez que define una tupla, puedes estar seguro de que sus valores no cambiarán."
   ]
  },
  {
   "cell_type": "code",
   "execution_count": null,
   "metadata": {},
   "outputs": [],
   "source": [
    "colores = ('rojo', 'verde', 'azul')\n",
    "colores[0] = 'amarillo' # esto produce un error"
   ]
  },
  {
   "cell_type": "markdown",
   "metadata": {},
   "source": [
    "Usando tuplas para construir cadenas\n",
    "---\n",
    "Hemos visto que es muy útil poder mezclar cadenas en castellano sin procesar con valores que están almacenados en variables, como en el siguiente ejemplo:"
   ]
  },
  {
   "cell_type": "code",
   "execution_count": null,
   "metadata": {},
   "outputs": [],
   "source": [
    "animal = 'perro'\n",
    "print(\"Tengo un \" + animal + \".\")"
   ]
  },
  {
   "cell_type": "markdown",
   "metadata": {},
   "source": [
    "Esto es especialmente útil si tenemos que hacer lo siguiente."
   ]
  },
  {
   "cell_type": "code",
   "execution_count": null,
   "metadata": {},
   "outputs": [],
   "source": [
    "animales = ['perro', 'gato', 'oso']\n",
    "for animal in animales:\n",
    "    print(\"Tengo un \" + animal + \".\")"
   ]
  },
  {
   "cell_type": "markdown",
   "metadata": {},
   "source": [
    "Este enfoque de usar el signo + para construir cadenas es bastante intuitivo. Podemos ver que estamos agregando varias cadenas más pequeñas para formar una cadena más larga. Esto es intuitivo, pero requiere mucha escritura. Hay una manera más corta de hacerlo, usando marcadores de sustitución. Ya vimos anteriormente este concepto. Es hora de repasarlo y expandirlo un poco más.\n",
    "\n",
    "Python ignora la mayoría de los caracteres que ponemos dentro de las cadenas. Hay unos pocos caracteres a los que Python presta atención, como vimos con cadenas como \"\\t\" y \"\\n\". Python también presta atención a \"%s\" y \"%d\". Estos son marcadores de sustitución. Cuando Python ve el marcador de sustitución \"%s\", mira hacia adelante y extrae el primer argumento después del signo %:"
   ]
  },
  {
   "cell_type": "code",
   "execution_count": null,
   "metadata": {},
   "outputs": [],
   "source": [
    "animal = 'perro'\n",
    "print(\"Tengo un %s.\" % animal)"
   ]
  },
  {
   "cell_type": "markdown",
   "metadata": {},
   "source": [
    "Esta es una forma mucho más limpia de generar cadenas que incluyen valores. Redactamos nuestra oración en una lista, y luego le decimos a Python qué valores debe insertar en la cadena, en los lugares apropiados.\n",
    "\n",
    "Esto se denomina _formato de cadena_, y tiene el mismo aspecto cuando utiliza una lista.\n"
   ]
  },
  {
   "cell_type": "code",
   "execution_count": null,
   "metadata": {},
   "outputs": [],
   "source": [
    "animales = ['perro', 'gato', 'oso']\n",
    "for animal in animales:\n",
    "    print(\"Tengo un %s.\" % animal)"
   ]
  },
  {
   "cell_type": "markdown",
   "metadata": {},
   "source": [
    "Si tenemos más de un valor para poner en la cadena que se está componiendo, debemos empacar los valores en una tupla."
   ]
  },
  {
   "cell_type": "code",
   "execution_count": null,
   "metadata": {},
   "outputs": [],
   "source": [
    "animales = ['perro', 'gato', 'oso']\n",
    "print(\"Tengo un %s, un %s y un %s.\" % (animales[0], animales[1], animales[2]))"
   ]
  },
  {
   "cell_type": "markdown",
   "metadata": {
    "collapsed": true
   },
   "source": [
    "### Formateo de cadenas con números\n",
    "\n",
    "Si recuerdas, imprimir un número con una cadena puede causar un error."
   ]
  },
  {
   "cell_type": "code",
   "execution_count": null,
   "metadata": {},
   "outputs": [],
   "source": [
    "entero = 23\n",
    "# esto produce un error\n",
    "print(\"Mi número favorito es el: \" + entero + \".\") "
   ]
  },
  {
   "cell_type": "markdown",
   "metadata": {},
   "source": [
    "Python piensa que podrías estar hablando del valor 23 o de los caracteres '23'. Entonces presenta un error, obligándonos a aclarar que queremos que Python trate el número como una cadena. Hacemos esto al convertir el número en una cadena usando la función que realiza el casting a _str()_:"
   ]
  },
  {
   "cell_type": "code",
   "execution_count": null,
   "metadata": {},
   "outputs": [],
   "source": [
    "entero = 23\n",
    "print(\"Mi número favorito es el: \" + str(entero) + \".\") "
   ]
  },
  {
   "cell_type": "markdown",
   "metadata": {},
   "source": [
    "La cadena de formato \"%d\" se ocupa de esto por nosotros. Mira cómo está limpio este código."
   ]
  },
  {
   "cell_type": "code",
   "execution_count": null,
   "metadata": {},
   "outputs": [],
   "source": [
    "enteros = [7, 23, 42]\n",
    "print(\"Mi número favorito es el: %d, %d, y %d.\" % (enteros[0], enteros[1], enteros[2]))"
   ]
  },
  {
   "cell_type": "markdown",
   "metadata": {},
   "source": [
    "Puedes combinar tipos de distintas clases en el _print_."
   ]
  },
  {
   "cell_type": "code",
   "execution_count": null,
   "metadata": {},
   "outputs": [],
   "source": [
    "print(\"Entero: %d, Flotante: %f, y Cadena: %s.\" % (8, 5.5, 'hola'))"
   ]
  },
  {
   "cell_type": "markdown",
   "metadata": {},
   "source": [
    "Hay formas más sofisticadas de hacer cadenas de formato en Python 3, pero guardaremos eso para más adelante porque es un poco menos intuitivo que este enfoque. Por ahora, puedes usar el enfoque que te proporcione de manera consistente el resultado que deseas ver."
   ]
  },
  {
   "cell_type": "markdown",
   "metadata": {},
   "source": [
    "# Terminando bucles antes de tiempo"
   ]
  },
  {
   "cell_type": "markdown",
   "metadata": {},
   "source": [
    "## Break"
   ]
  },
  {
   "cell_type": "markdown",
   "metadata": {},
   "source": [
    "La sentencia break, termina el bucle for-in ."
   ]
  },
  {
   "cell_type": "code",
   "execution_count": null,
   "metadata": {},
   "outputs": [],
   "source": [
    "for n in range(2, 10):\n",
    "    if n == 5:\n",
    "        break\n",
    "    print(n)"
   ]
  },
  {
   "cell_type": "markdown",
   "metadata": {},
   "source": [
    "Si hay más de un bucle se termina el más anidado antes de tiempo."
   ]
  },
  {
   "cell_type": "code",
   "execution_count": null,
   "metadata": {},
   "outputs": [],
   "source": [
    "# este programa calcula primos hasta el numero 10\n",
    "for n in range(2, 10):\n",
    "    for x in range(2, n):\n",
    "        if n % x == 0:\n",
    "            print n, 'es igual a', x, '*', n/x\n",
    "            break\n",
    "    else:\n",
    "         # sigue el bucle sin encontrar un factor\n",
    "        print n, 'es un numero primo'"
   ]
  },
  {
   "cell_type": "markdown",
   "metadata": {},
   "source": [
    "## Continue"
   ]
  },
  {
   "cell_type": "markdown",
   "metadata": {},
   "source": [
    "La sentencia _continue_ es usada dentro de un bucle _while_ o _loop_ para retomar el control de la parte superior del loop sin ejecutar el resto de de las instrucciones que hay dentro del bucle."
   ]
  },
  {
   "cell_type": "code",
   "execution_count": null,
   "metadata": {},
   "outputs": [],
   "source": [
    "# Gracias a continue no imprimimos los valores 3 y 6\n",
    "for x in range(6):  \n",
    "    if (x == 3 or x==6):  \n",
    "        continue  \n",
    "    print(x)  "
   ]
  },
  {
   "cell_type": "markdown",
   "metadata": {},
   "source": [
    "# Ejercicios"
   ]
  },
  {
   "cell_type": "markdown",
   "metadata": {},
   "source": [
    "1 - La lista de trabajo\n",
    "- Haz una lista que incluya cuatro profesiones, como 'programador' y 'conductor de camión'.\n",
    "- Usa la función _list.index()_ para encontrar el índice de una carrera en su lista.\n",
    "- Usa la función _in_ para mostrar que una carrera está en su lista.\n",
    "- Usa la función _append()_ para agregar una nueva carrera a tu lista.\n",
    "- Usa la función de _insert()_ para agregar una nueva carrera al comienzo de la lista.\n",
    "- Usa un loop for-in para mostrar todas las carreras en su lista."
   ]
  },
  {
   "cell_type": "code",
   "execution_count": null,
   "metadata": {},
   "outputs": [],
   "source": []
  },
  {
   "cell_type": "markdown",
   "metadata": {},
   "source": [
    "2 - Comenzando desde la lista vacía\n",
    "- Crea la lista de profesiones, pero esta vez inicia una lista vacía y llénala usando la función _append()_.\n",
    "- Imprime un mensaje que imprima cual es la primera carrera en la que pensaste. \n",
    "- Imprime un mensaje que imprima cual es la última carrera en la que pensaste. "
   ]
  },
  {
   "cell_type": "code",
   "execution_count": null,
   "metadata": {},
   "outputs": [],
   "source": []
  },
  {
   "cell_type": "markdown",
   "metadata": {},
   "source": [
    "3 - Lista de trabajo ordenada\n",
    "- Comienza con la lista que creaste en el ejercicio 1.\n",
    "- Imprime la lista en diferentes órdenes.\n",
    "- Cada vez que imprimas la lista, usa un bucle _for-in_ en lugar de imprimir la lista entera.\n",
    "    - Imprime un mensaje cada vez que diga en qué orden deberíamos ver la lista.\n",
    "    - Imprime la lista en su orden original.\n",
    "    - Imprime la lista en orden alfabético.\n",
    "    - Imprime la lista en su orden original.\n",
    "    - Imprime la lista en orden alfabético inverso.\n",
    "    - Imprime la lista en su orden original.\n",
    "    - Imprime la lista en el orden inverso al que comenzó.\n",
    "    - Imprime la lista en su orden original\n",
    "    - Ordena de forma permanente la lista en orden alfabético y luego imprímela.\n",
    "    - Ordena de forma permanente la lista en orden alfabético inverso y luego imprímela."
   ]
  },
  {
   "cell_type": "code",
   "execution_count": null,
   "metadata": {},
   "outputs": [],
   "source": []
  },
  {
   "cell_type": "markdown",
   "metadata": {},
   "source": [
    "4 - Números ordenados\n",
    "- Haz una lista de 5 números, en orden aleatorio.\n",
    "- Vas a imprimir la lista en varios órdenes diferentes.\n",
    "- Cada vez que imprima la lista, usa un bucle _for-in_ en lugar de imprimir la lista entera.\n",
    "    - Imprime un mensaje cada vez que nos diga en qué orden deberíamos ver la lista.\n",
    "    - Imprime los números en el orden original.\n",
    "    - Imprime los números en orden creciente.\n",
    "    - Imprime los números en el orden original.\n",
    "    - Imprime los números en orden decreciente.\n",
    "    - Imprime los números en su orden original.\n",
    "    - Imprime los números en el orden inverso desde cómo comenzaron.\n",
    "    - Imprime los números en el orden original.\n",
    "    - Ordena de forma permanente los números en orden creciente y luego imprímelos.\n",
    "    - Ordena los números de forma permanente en orden decreciente y luego imprímelos."
   ]
  },
  {
   "cell_type": "code",
   "execution_count": null,
   "metadata": {},
   "outputs": [],
   "source": []
  },
  {
   "cell_type": "markdown",
   "metadata": {},
   "source": [
    "5 - Longitudes de lista\n",
    "- Copia dos o tres de las listas que hiciste en los ejercicios anteriores, o crea dos o tres listas nuevas.\n",
    "- Imprime una serie de mensajes que nos digan la longitude de cada lista."
   ]
  },
  {
   "cell_type": "code",
   "execution_count": null,
   "metadata": {},
   "outputs": [],
   "source": []
  },
  {
   "cell_type": "markdown",
   "metadata": {},
   "source": [
    "6 - Lista de gente Famosa\n",
    "- Crea una lista que incluya los nombres de cuatro personas famosas.\n",
    "- Elimina a cada persona de la lista, una cada vez, usando cada uno de los cuatro métodos que acabamos de ver:\n",
    "    - _Popea_ el último elemento de la lista y _popea_ cualquier elemento excepto el último.\n",
    "    - Elimina un elemento por su posición y un elemento por su valor.\n",
    "- Imprime un mensaje de no quedan personas famosas en su lista, e imprime la lista para mostrar que está vacía."
   ]
  },
  {
   "cell_type": "code",
   "execution_count": null,
   "metadata": {},
   "outputs": [],
   "source": []
  },
  {
   "cell_type": "markdown",
   "metadata": {},
   "source": [
    "7 - Cortes del alfabeto\n",
    "- Almacena las primeras diez letras del alfabeto en una lista.\n",
    "- Usa un _slice_ para imprimir las primeras tres letras del alfabeto.\n",
    "- Usa un _slice_ para imprimir tres letras del medio de la lista.\n",
    "- Usa un _slice_ para imprimir las letras desde cualquier punto en el medio de la lista, hasta el final."
   ]
  },
  {
   "cell_type": "code",
   "execution_count": null,
   "metadata": {},
   "outputs": [],
   "source": []
  },
  {
   "cell_type": "code",
   "execution_count": null,
   "metadata": {},
   "outputs": [],
   "source": []
  },
  {
   "cell_type": "markdown",
   "metadata": {},
   "source": [
    "8 - Lista protegida\n",
    "- El objetivo en este ejercicio es demostrar que la copia de una lista protege la lista original.\n",
    "- Haz una lista con los nombres de tres personas.\n",
    "- Usa un _slice_ para hacer una copia de la lista completa. Recuerda como se realizaba la compia completa.\n",
    "- Agrega al menos dos nombres nuevos a la nueva copia de la lista.\n",
    "- Haz un _loop_ que imprima todos los nombres en la lista original, junto con un mensaje de que esta es la lista original.\n",
    "- Haga un _loop_ que imprima todos los nombres en la lista copiada, junto con un mensaje de que esta es la lista copiada."
   ]
  },
  {
   "cell_type": "code",
   "execution_count": null,
   "metadata": {},
   "outputs": [],
   "source": []
  },
  {
   "cell_type": "markdown",
   "metadata": {},
   "source": [
    "9 - Utiliza la función _range()_ para almacenar los primeros veinte números (1-20) en una lista e imprimirlos."
   ]
  },
  {
   "cell_type": "code",
   "execution_count": null,
   "metadata": {},
   "outputs": [],
   "source": []
  },
  {
   "cell_type": "markdown",
   "metadata": {},
   "source": [
    "10 - Coge el codigo del ejercicio anterior y cambia el número final a un número mucho más grande. ¿Cuánto tiempo le toma al ordenador imprimir el primer millón de números? (La mayoría de la gente nunca verá un millón de números desplazarse ante sus ojos. Cuidado que esto puede ralentizar mucho tu ordenador)."
   ]
  },
  {
   "cell_type": "code",
   "execution_count": null,
   "metadata": {},
   "outputs": [],
   "source": []
  },
  {
   "cell_type": "markdown",
   "metadata": {},
   "source": [
    "11 - Imagina cinco carteras con diferentes cantidades de efectivo en ellas. Almacena estos cinco valores en una lista e imprime los siguientes mensajes:\n",
    "- \"La cartera más gorda tiene euros _valor_ en ella\".\n",
    "- \"La cartera más delgada tiene euros _valor_ en ella\".\n",
    "- \"Todas juntas, estas carteras tienen euros _valor_ en ellas\"."
   ]
  },
  {
   "cell_type": "code",
   "execution_count": null,
   "metadata": {},
   "outputs": [],
   "source": []
  },
  {
   "cell_type": "markdown",
   "metadata": {},
   "source": [
    "12 - Creando listas de comprensión\n",
    "- Haz una lista de los primeros diez múltiplos de diez (10, 20, 30 ... 90, 100) usando una lista de comprensión. Imprime tu lista.\n",
    "\n",
    "- Vimos cómo hacer una lista de los primeros diez cuadrados. Haz una lista de los primeros diez cubos (1, 8, 27 ... 1000) usando una lista de comprensión, e imprímelos.\n",
    "\n",
    "- Almacena cinco nombres en una lista. Haz una segunda lista que agregue la frase \"¡es increíble!\" a cada nombre, usando una lista de comprensión. Imprime la increíble versión de los nombres.\n",
    "\n",
    "- Trabajando al revés. Escribe el siguiente código sin usar una lista de comprensión:\n",
    "\n",
    "    mas_13 = [numero + 13 for numero in range(1,11)]"
   ]
  },
  {
   "cell_type": "code",
   "execution_count": null,
   "metadata": {},
   "outputs": [],
   "source": []
  },
  {
   "cell_type": "markdown",
   "metadata": {},
   "source": [
    "13 - Trabajo con cadenas y listas.\n",
    "\n",
    "- Almacenar una frase en una variable. Usa un bucle for para imprimir cada carácter de la frase en una línea separada.\n",
    "- Almacena una frase en una variable. Crea una lista de tu frase. Imprime la lista.\n",
    "- Almacena una frase en una variable. Utilizando _slicing_ imprime los primeros cinco caracteres, cinco caracteres consecutivos del medio y los últimos cinco caracteres de la oración."
   ]
  },
  {
   "cell_type": "code",
   "execution_count": null,
   "metadata": {},
   "outputs": [],
   "source": []
  },
  {
   "cell_type": "markdown",
   "metadata": {},
   "source": [
    "14 - Buscando Python\n",
    "- Almacena una frase en una variable, asegurándote de usar la palabra *Python* al menos dos veces en la frase.\n",
    "- Usa la palabra clave *in* para probar que la palabra *Python* está realmente en la frase.\n",
    "- Usa la función *find()* para mostrar dónde aparece la palabra *Python* en la frase.\n",
    "- Utilice la función *rfind()* para mostrar el último lugar donde aparece * Python * en la frase.\n",
    "- Usa la función *count()* para mostrar cuántas veces aparece la palabra *Python*.\n",
    "- Usa la función *split()* para dividir la frase en una lista de palabras. Imprime la lista sin formato y utiliza un _loop_ para imprimir cada palabra en su propia línea.\n",
    "- Usa la función *replace()* para cambiar *Python* a *Ruby* en la frase."
   ]
  },
  {
   "cell_type": "code",
   "execution_count": null,
   "metadata": {},
   "outputs": [],
   "source": []
  },
  {
   "cell_type": "markdown",
   "metadata": {},
   "source": [
    "15 - Puntuaciones de gimnastas\n",
    "- Un gimnasta puede obtener una puntuación  entre 1 y 10 de cada juez; nada más bajo, nada más elevado. Todos las puntuatciones son valores enteros; no hay puntuaciones decimales de ningún juez.\n",
    "- Almacena las puntuaciones que un posible gimnasta puede obtener de un juez en una tupla.\n",
    "- Imprime la frase 'La puntuación mas baja posible es ... y la puntuación más alta posible es .... Utiliza los valores de la tupla creada anteriormente.\n",
    "- Imprime una serie de mensajes, \"Un juez puede darle a un gimnasta ... puntos\" con todas las posibilidades de puntos que se pueden dar."
   ]
  },
  {
   "cell_type": "code",
   "execution_count": null,
   "metadata": {},
   "outputs": [],
   "source": []
  },
  {
   "cell_type": "markdown",
   "metadata": {},
   "source": [
    "16 - Imprimiendo con formato\n",
    "- Elige un programa que ya hayas escrito que utilice concatenación de cadenas.\n",
    "- Reescribe tus secciones de cadena usando *%s* y *%d* en lugar de concatenación.\n",
    "- Repita esto con otros dos programas que ya ha escrito."
   ]
  },
  {
   "cell_type": "code",
   "execution_count": null,
   "metadata": {},
   "outputs": [],
   "source": []
  },
  {
   "cell_type": "markdown",
   "metadata": {},
   "source": [
    "17 - Escribe un programa que calcule la descomposición en factores primos de un número."
   ]
  },
  {
   "cell_type": "code",
   "execution_count": null,
   "metadata": {},
   "outputs": [],
   "source": []
  },
  {
   "cell_type": "markdown",
   "metadata": {},
   "source": [
    "18 - Escribe un programa que calcule el factorial de un número."
   ]
  },
  {
   "cell_type": "code",
   "execution_count": null,
   "metadata": {},
   "outputs": [],
   "source": []
  },
  {
   "cell_type": "markdown",
   "metadata": {},
   "source": [
    "19 - Escribe un programa que dado un número, escriba la lista de todos los números primos hasta él."
   ]
  },
  {
   "cell_type": "code",
   "execution_count": null,
   "metadata": {},
   "outputs": [],
   "source": []
  },
  {
   "cell_type": "markdown",
   "metadata": {},
   "source": [
    "20 - Escriba un programa que dada la siguiente lista cree dos listas diferentes con el nombre y los apellidos"
   ]
  },
  {
   "cell_type": "code",
   "execution_count": null,
   "metadata": {},
   "outputs": [],
   "source": [
    "lista = ['Maria','Lopez','Juan','Garcia','Ivan','Martinez']"
   ]
  },
  {
   "cell_type": "markdown",
   "metadata": {},
   "source": [
    "21 - Escribe un programa que elimine los duplicados de una lista"
   ]
  },
  {
   "cell_type": "code",
   "execution_count": null,
   "metadata": {},
   "outputs": [],
   "source": [
    "lista = [1, 1, 2, 2, 3, 1, 2, 5, 6, 7, 8]"
   ]
  },
  {
   "cell_type": "markdown",
   "metadata": {},
   "source": [
    "22 - Escribe un programa que invierta una lista"
   ]
  },
  {
   "cell_type": "code",
   "execution_count": null,
   "metadata": {},
   "outputs": [],
   "source": [
    "lista = ['Di', 'buen', 'dia', 'a', 'papa']"
   ]
  },
  {
   "cell_type": "markdown",
   "metadata": {},
   "source": [
    "23 - Vamos con algo de biotecnología\n",
    "#### Contando Nucleótidos de ADN\n",
    "- [El proyecto Rosalind](http://rosalind.info/problems/locations/) es un [conjunto de problemas](http://rosalind.info/problems/list-view/) basado en conceptos de biotecnología. Está destinado a mostrar cómo las habilidades de programación pueden ayudar a resolver problemas en genética y biología.\n",
    "- Si has entendido la sección sobre cadenas, tienes suficiente información para resolver el primer problema en el Proyecto Rosalind, [Contando ADN Nucleótidos](http://rosalind.info/problems/dna/). Prueba el problema.\n",
    "- Si resuelves el problema, logueate y prueba la versión completa del problema.\n",
    "\n",
    "#### Transcribir ADN en ARN\n",
    "- También tienes suficiente información para probar el segundo problema, [Transcribir ADN en ARN](http://rosalind.info/problems/rna/). Prueba el problema.\n",
    "- Si resuelves el problema, logueate y prueba la versión completa del problema.\n",
    "\n",
    "#### Complemento de un filamento de ADN\n",
    "- Lo adivinaste!, ahora puedes probar el tercer problema también: [Complemento de un filamento de ADN](http://rosalind.info/problems/revc/). Prueba el problema y luego prueba la versión completa si has tenido éxito."
   ]
  },
  {
   "cell_type": "markdown",
   "metadata": {},
   "source": [
    "24 - Crea las siguientes listas de comprension que formulen las expresiones siguientes:\n",
    "    \n",
    " S = x<sup>2</sup> : x in {0...9}  \n",
    " V = (1, 2, 4, 8, ... 2<sup>12</sup>)  \n",
    " M = {x | x in S and x even}"
   ]
  },
  {
   "cell_type": "code",
   "execution_count": null,
   "metadata": {},
   "outputs": [],
   "source": []
  },
  {
   "cell_type": "markdown",
   "metadata": {},
   "source": [
    "25 - Genera una lista de comprension con los numeros primos hasta 50. HINT: Puede ser mas sencillo generar una lista con los numeros no primos primero y generar  la de primos a partir de esa."
   ]
  },
  {
   "cell_type": "code",
   "execution_count": null,
   "metadata": {},
   "outputs": [],
   "source": []
  },
  {
   "cell_type": "markdown",
   "metadata": {},
   "source": [
    "26 - Genera en una comprension de listas los elementos de la siguiente lista en minusculas, mayusculas y la longitude de cada uno. HINT: El resultado sera una lista de listas."
   ]
  },
  {
   "cell_type": "code",
   "execution_count": null,
   "metadata": {},
   "outputs": [],
   "source": []
  }
 ],
 "metadata": {
  "kernelspec": {
   "display_name": "Python 3",
   "language": "python",
   "name": "python3"
  },
  "language_info": {
   "codemirror_mode": {
    "name": "ipython",
    "version": 3
   },
   "file_extension": ".py",
   "mimetype": "text/x-python",
   "name": "python",
   "nbconvert_exporter": "python",
   "pygments_lexer": "ipython3",
   "version": "3.6.2"
  }
 },
 "nbformat": 4,
 "nbformat_minor": 1
}
