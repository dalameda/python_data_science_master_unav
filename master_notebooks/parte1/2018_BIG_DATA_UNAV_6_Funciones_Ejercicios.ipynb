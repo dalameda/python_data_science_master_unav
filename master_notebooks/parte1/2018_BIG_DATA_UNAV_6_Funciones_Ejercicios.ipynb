{
 "cells": [
  {
   "cell_type": "markdown",
   "metadata": {},
   "source": [
    "# Funciones"
   ]
  },
  {
   "cell_type": "markdown",
   "metadata": {},
   "source": [
    "Llevamos usando funciones desde que comenzamos el curso de manera implicita. Algunos ejemplos son:"
   ]
  },
  {
   "cell_type": "code",
   "execution_count": null,
   "metadata": {
    "collapsed": true
   },
   "outputs": [],
   "source": [
    "print abs(-3)"
   ]
  },
  {
   "cell_type": "code",
   "execution_count": null,
   "metadata": {
    "collapsed": true
   },
   "outputs": [],
   "source": [
    "print type(str(3))"
   ]
  },
  {
   "cell_type": "code",
   "execution_count": null,
   "metadata": {
    "collapsed": true
   },
   "outputs": [],
   "source": [
    "print ord('3')"
   ]
  },
  {
   "cell_type": "code",
   "execution_count": null,
   "metadata": {
    "collapsed": true
   },
   "outputs": [],
   "source": [
    "print sum([18, 19, 20])"
   ]
  },
  {
   "cell_type": "code",
   "execution_count": null,
   "metadata": {
    "collapsed": true
   },
   "outputs": [],
   "source": [
    "print range(5)"
   ]
  },
  {
   "cell_type": "code",
   "execution_count": null,
   "metadata": {
    "collapsed": true
   },
   "outputs": [],
   "source": [
    "print round(2.5)\n",
    "print round(2.4)"
   ]
  },
  {
   "cell_type": "markdown",
   "metadata": {},
   "source": [
    "En el contexto de la programación una función es una secuencia de sentencias que ejecuta una operación deseada y tiene un nombre. Esta operación se especifica en una definición de función. La sintaxis para una definición de función en Python es:\n",
    "\n",
    "def NOMBRE( LISTA DE PARAMETROS ):  \n",
    "      \n",
    "    SENTENCIAS\n",
    "    \n",
    "Puedes inventar los nombres que desees para sus funciones siempre y cuando no uses una palabra reservada de Python. La lista de parámetros especifica qué información, si es que la hay, se debe proporcionar a fin de usar la nueva función.\n",
    "\n",
    "Se puede incluir cualquier número de sentencias dentro de la función, pero todas deben sangrarse a partir del margen izquierdo. La definición de función es la primera de diversas sentencias, teniendo todas ellas la misma estructura:\n",
    "\n",
    "Un encabezado, que empieza con una palabra reservada y termina con dos puntos.\n",
    "Un cuerpo consistente de una o más sentencias de Python, cada una de ellas con la misma sangría a partir del margen izquierdo.\n",
    "En una definición de función la palabra reservada en el encabezado es _def_, y enseguida se escribe el nombre de la función y una lista de parámetros encerrados entre paréntesis. La lista de parámetros puede estar vacía o contener un sinnúmero de parámetros. En cualquier caso los paréntesis se requieren.\n",
    "\n",
    "La primera funcion que escribiremos no tiene parámetros, por lo que la sintaxis luce así:"
   ]
  },
  {
   "cell_type": "code",
   "execution_count": 1,
   "metadata": {
    "collapsed": true
   },
   "outputs": [],
   "source": [
    "def print_hello(): # funcion sin parametros\n",
    "    print 'hello'"
   ]
  },
  {
   "cell_type": "markdown",
   "metadata": {},
   "source": [
    "Una vez definida, hay que invocar la funcion para poder ejecutarla."
   ]
  },
  {
   "cell_type": "code",
   "execution_count": 3,
   "metadata": {},
   "outputs": [
    {
     "name": "stdout",
     "output_type": "stream",
     "text": [
      "hello\n"
     ]
    }
   ],
   "source": [
    "print_hello()"
   ]
  },
  {
   "cell_type": "code",
   "execution_count": 4,
   "metadata": {
    "scrolled": true
   },
   "outputs": [
    {
     "name": "stdout",
     "output_type": "stream",
     "text": [
      "hello\n",
      "hello\n",
      "hello\n",
      "hello\n",
      "hello\n"
     ]
    }
   ],
   "source": [
    "for i in range(5):\n",
    "    print_hello()"
   ]
  },
  {
   "cell_type": "markdown",
   "metadata": {},
   "source": [
    "Vamos a declarar una funcion con un parametro de entrada y que retorna un valor"
   ]
  },
  {
   "cell_type": "code",
   "execution_count": 3,
   "metadata": {
    "collapsed": true
   },
   "outputs": [],
   "source": [
    "# funcion que calcula el cuadrado de un numero\n",
    "def cuadrado(x): # en este caso x es el parametro de entrada\n",
    "    return x**2 # retornamos el cuadrado"
   ]
  },
  {
   "cell_type": "code",
   "execution_count": null,
   "metadata": {
    "collapsed": true
   },
   "outputs": [],
   "source": [
    "print cuadrado(3)\n",
    "for i in range(5):\n",
    "    print cuadrado(i)"
   ]
  },
  {
   "cell_type": "code",
   "execution_count": null,
   "metadata": {
    "collapsed": true
   },
   "outputs": [],
   "source": [
    "print cubo(5) # cubo no esta definida asi que nos dara un error"
   ]
  },
  {
   "cell_type": "code",
   "execution_count": 6,
   "metadata": {
    "collapsed": true
   },
   "outputs": [],
   "source": [
    "def cubo(x):\n",
    "    return x**3"
   ]
  },
  {
   "cell_type": "code",
   "execution_count": null,
   "metadata": {
    "collapsed": true
   },
   "outputs": [],
   "source": [
    "print cubo(5) # ahora podemos usarla ya esta declarada"
   ]
  },
  {
   "cell_type": "markdown",
   "metadata": {},
   "source": [
    "Los parámetros de entrada son nombres genéricos a modo de alias para poder referirlos en el cuerpo de la función. De esta forma, podemos definir la funcion cubo de multiples formas y todas significan los mismo.\n"
   ]
  },
  {
   "cell_type": "code",
   "execution_count": null,
   "metadata": {
    "collapsed": true
   },
   "outputs": [],
   "source": [
    "def cubo(x):\n",
    "    x = x**3\n",
    "    return x\n",
    "\n",
    "print cubo(3)\n",
    "\n",
    "def cubo(y):\n",
    "    return y**3\n",
    "\n",
    "print cubo(3)\n",
    "\n",
    "def cubo(z):\n",
    "    return z**3\n",
    "\n",
    "print cubo(3)"
   ]
  },
  {
   "cell_type": "markdown",
   "metadata": {},
   "source": [
    "Las funciones pueden llevar multiples sentencias de distinto tipo y dependiendo de los parametros de entrada devolver unos valores u otros"
   ]
  },
  {
   "cell_type": "code",
   "execution_count": 13,
   "metadata": {
    "collapsed": true
   },
   "outputs": [],
   "source": [
    "# devolvemos false si edad < 18 y True si es mayor de edad\n",
    "def mayor_de_edad(edad):\n",
    "    if edad < 18:\n",
    "        res = False\n",
    "    else:\n",
    "        res = True\n",
    "    return res"
   ]
  },
  {
   "cell_type": "code",
   "execution_count": null,
   "metadata": {
    "collapsed": true
   },
   "outputs": [],
   "source": [
    "lista = [15, 23, 28, 12, 18, 75, 36, 7]\n",
    "for i in lista:\n",
    "    if mayor_de_edad(i):\n",
    "        print i"
   ]
  },
  {
   "cell_type": "markdown",
   "metadata": {},
   "source": [
    "No todas las funciones llevan parametros de entrada tambien llamados argumentos. Por ejemplo:"
   ]
  },
  {
   "cell_type": "code",
   "execution_count": 18,
   "metadata": {
    "collapsed": true
   },
   "outputs": [],
   "source": [
    "def menu():\n",
    "    opcion = ''\n",
    "    while not ('1' <= opcion <= '3'):\n",
    "        print '1 - Anadir stock'\n",
    "        print '2 - Retirar stock'\n",
    "        print '3 - Consultar stock'\n",
    "        opcion = raw_input('Escoja una opcion:')\n",
    "        if not (opcion >= '1' and opcion <= '3'):\n",
    "            print 'Solo puede escoger los numeros 1, 2 o 3. Intentelo de nuevo'\n",
    "    return opcion"
   ]
  },
  {
   "cell_type": "code",
   "execution_count": null,
   "metadata": {
    "collapsed": true
   },
   "outputs": [],
   "source": [
    "menu()"
   ]
  },
  {
   "cell_type": "markdown",
   "metadata": {},
   "source": [
    "Y otras funciones pueden hacer cosas variopintas:"
   ]
  },
  {
   "cell_type": "code",
   "execution_count": 26,
   "metadata": {
    "collapsed": true
   },
   "outputs": [],
   "source": [
    "def calcula_media_std(x):\n",
    "    media = sum(x) / len(x)\n",
    "    std = (sum([(xi-xmedia)**2 for xi,xmedia in zip(x, [media]*len(x))])/len(x))**.5\n",
    "    return [media, std]"
   ]
  },
  {
   "cell_type": "code",
   "execution_count": null,
   "metadata": {
    "collapsed": true
   },
   "outputs": [],
   "source": [
    "print calcula_media_std([9,3,8,8,9,8,9,18])"
   ]
  },
  {
   "cell_type": "code",
   "execution_count": null,
   "metadata": {
    "collapsed": true
   },
   "outputs": [],
   "source": [
    "print calcula_media_std(9)"
   ]
  },
  {
   "cell_type": "markdown",
   "metadata": {},
   "source": [
    "# Modulos"
   ]
  },
  {
   "cell_type": "markdown",
   "metadata": {},
   "source": [
    "Un modulo es una coleccion de funciones que ya estan definidas y se pueden utilizar. Existen unas basicas que ya estan dentro de la libreria estandar de Python.  \n",
    "Vamos a importar el modulo _math_ entero"
   ]
  },
  {
   "cell_type": "code",
   "execution_count": 33,
   "metadata": {
    "collapsed": true
   },
   "outputs": [],
   "source": [
    "import math"
   ]
  },
  {
   "cell_type": "markdown",
   "metadata": {},
   "source": [
    "Ahora podemos utilizar las funciones que el modulo contiene para una descripcion detallada acudir a   \n",
    "\n",
    "https://docs.python.org/2/library/math.html"
   ]
  },
  {
   "cell_type": "code",
   "execution_count": null,
   "metadata": {
    "collapsed": true
   },
   "outputs": [],
   "source": [
    "print math.factorial(5) # devuelve factorial\n",
    "print math.floor(5.1) # devuelve redondeo entero hacia abajo\n",
    "print math.exp(5) # devuelve e elevado a 5\n",
    "print math.log10(1000)"
   ]
  },
  {
   "cell_type": "markdown",
   "metadata": {},
   "source": [
    "Ahora podemos importar funciones especificas de un modulo"
   ]
  },
  {
   "cell_type": "code",
   "execution_count": 37,
   "metadata": {
    "collapsed": true
   },
   "outputs": [],
   "source": [
    "from random import random # la funcion random devuelve numeros aleatorios entre 0.0 y 1.0"
   ]
  },
  {
   "cell_type": "code",
   "execution_count": null,
   "metadata": {
    "collapsed": true
   },
   "outputs": [],
   "source": [
    "for i in range(10):\n",
    "    print random()"
   ]
  },
  {
   "cell_type": "markdown",
   "metadata": {},
   "source": [
    "Una vez importada la funcion se puede utilizar dentro de una funcion que nosotros definamos"
   ]
  },
  {
   "cell_type": "code",
   "execution_count": null,
   "metadata": {
    "collapsed": true
   },
   "outputs": [],
   "source": [
    "def n_aleatorios(n):\n",
    "    lista = []\n",
    "    for i in range(n):\n",
    "        lista.append(random())\n",
    "    return lista\n",
    "\n",
    "print n_aleatorios(8)\n",
    "print n_aleatorios(5)"
   ]
  },
  {
   "cell_type": "markdown",
   "metadata": {},
   "source": [
    "# Ejercicios"
   ]
  },
  {
   "cell_type": "markdown",
   "metadata": {},
   "source": [
    "1 - Define una funcion llamada _raiz_cubica_ que devuelva la raiz cubica de un numero que se pasa como argumento"
   ]
  },
  {
   "cell_type": "code",
   "execution_count": null,
   "metadata": {
    "collapsed": true
   },
   "outputs": [],
   "source": []
  },
  {
   "cell_type": "markdown",
   "metadata": {},
   "source": [
    "2 - Define una funcion que se llame _area_circulo_ y que a partir del radio del circulo, devuelva su area. Puedes utilizar como aproximacion al numero PI = 3.1416"
   ]
  },
  {
   "cell_type": "code",
   "execution_count": null,
   "metadata": {
    "collapsed": true
   },
   "outputs": [],
   "source": []
  },
  {
   "cell_type": "markdown",
   "metadata": {},
   "source": [
    "3 - Define una funcion que convierta grados Farenheit en centigrados. (Para calcular los grados centigrados has de restar 32 a los grados Farenheit y multiplicar\n",
    "el resultado por cinco novenos.)"
   ]
  },
  {
   "cell_type": "code",
   "execution_count": null,
   "metadata": {
    "collapsed": true
   },
   "outputs": [],
   "source": []
  },
  {
   "cell_type": "markdown",
   "metadata": {},
   "source": [
    "4 - Define una funcion que convierta grados centigrados en grados Farenheit."
   ]
  },
  {
   "cell_type": "code",
   "execution_count": null,
   "metadata": {
    "collapsed": true
   },
   "outputs": [],
   "source": []
  },
  {
   "cell_type": "markdown",
   "metadata": {},
   "source": [
    "5 - Define una funcion que convierta radianes en grados.(Recuerda que 360 grados son 2PI radianes.)"
   ]
  },
  {
   "cell_type": "code",
   "execution_count": null,
   "metadata": {
    "collapsed": true
   },
   "outputs": [],
   "source": []
  },
  {
   "cell_type": "markdown",
   "metadata": {},
   "source": [
    "6 - Define una funcion que convierta grados en radianes."
   ]
  },
  {
   "cell_type": "code",
   "execution_count": null,
   "metadata": {
    "collapsed": true
   },
   "outputs": [],
   "source": []
  },
  {
   "cell_type": "markdown",
   "metadata": {},
   "source": [
    "7 - Disena una funcion que reciba una cadena y devuelva cierto si empieza por minuscula\n",
    "y falso en caso contrario."
   ]
  },
  {
   "cell_type": "code",
   "execution_count": null,
   "metadata": {
    "collapsed": true
   },
   "outputs": [],
   "source": []
  },
  {
   "cell_type": "markdown",
   "metadata": {},
   "source": [
    "8 - Disena una funcion llamada es_repeticion que reciba una cadena y nos diga si la cadena esta formada mediante la concatenacion de una cadena consigo misma. Por ejemplo, es_repeticion('abab') devolvera True, pues la cadena 'abab' esta formada con la cadena 'ab' repetida; por contra es_repeticion('ababab') devolvera False."
   ]
  },
  {
   "cell_type": "code",
   "execution_count": null,
   "metadata": {
    "collapsed": true
   },
   "outputs": [],
   "source": []
  },
  {
   "cell_type": "markdown",
   "metadata": {},
   "source": [
    "9 - Disena una funcion que, dada una lista de numeros enteros, devuelva el numero de series que hay en ella. Llamamos serie a todo tramo de la lista con valores identicos.Por ejemplo, la lista [1, 1, 8, 8, 8, 8, 0, 0, 0, 2, 10, 10] tiene 5 series (ten en cuenta que el 2 forma parte de una serie de un solo elemento)."
   ]
  },
  {
   "cell_type": "code",
   "execution_count": null,
   "metadata": {
    "collapsed": true
   },
   "outputs": [],
   "source": []
  },
  {
   "cell_type": "markdown",
   "metadata": {},
   "source": [
    "10 - Disena una funcion que diga en que posicion empieza la ((serie)) mas larga de una lista. En el ejemplo del ejercicio anterior, la serie mas larga empieza en la posicion 2 (que es el indice donde aparece el primer 8)  (Nota: si hay dos series de igual longitud y esta es la mayor, debes\n",
    "devolver la posicion de la primera de las series. Por ejemplo, para [8, 2, 2, 9, 9] deber´as\n",
    "devolver la posicion 1.)"
   ]
  },
  {
   "cell_type": "code",
   "execution_count": null,
   "metadata": {
    "collapsed": true,
    "scrolled": true
   },
   "outputs": [],
   "source": []
  },
  {
   "cell_type": "markdown",
   "metadata": {},
   "source": [
    "11 - Escribe un programa que genere 20 numeros aleatorios entre 0 y 10. Utiliza las funciones que necesites de los diferentes modulos de python.   NOTA: Puedes usar alguna de las funciones del modulo _random_."
   ]
  },
  {
   "cell_type": "code",
   "execution_count": null,
   "metadata": {
    "collapsed": true
   },
   "outputs": [],
   "source": []
  },
  {
   "cell_type": "code",
   "execution_count": null,
   "metadata": {
    "collapsed": true
   },
   "outputs": [],
   "source": []
  },
  {
   "cell_type": "markdown",
   "metadata": {},
   "source": [
    "12 - Escribe un programa que simule el lanzamiento de un dado 10 veces. Cuales son los resultados? son aleatorios? si repites varias veces la prueba que ocurre?"
   ]
  },
  {
   "cell_type": "code",
   "execution_count": null,
   "metadata": {
    "collapsed": true
   },
   "outputs": [],
   "source": []
  },
  {
   "cell_type": "markdown",
   "metadata": {},
   "source": [
    "13 - Escribe una funcion que dada una lista de enteros calcule la media, mediana, desviacion estandar, varianza y la suma de los factoriales de los elementos de la lista."
   ]
  },
  {
   "cell_type": "code",
   "execution_count": null,
   "metadata": {
    "collapsed": true
   },
   "outputs": [],
   "source": []
  },
  {
   "cell_type": "markdown",
   "metadata": {},
   "source": [
    "14 - El modulo _time_ se puede utilizar para medir la ejecucion de un programa. Escribe un programa que permita medir el tiempo de ejecucion en segundos de un programa."
   ]
  },
  {
   "cell_type": "code",
   "execution_count": null,
   "metadata": {
    "collapsed": true
   },
   "outputs": [],
   "source": []
  },
  {
   "cell_type": "markdown",
   "metadata": {},
   "source": [
    "15 - Escribe un programa que cree una lista vacia y le anada 1 millon de elementos de dos formas diferentes. Primero utilizando el operador _+_ (que va concatenando listas). Posteriormente utilizando el metodo append. Mide el tiempo de ejecucion de ambos. Ves alguna diferencia?"
   ]
  },
  {
   "cell_type": "code",
   "execution_count": null,
   "metadata": {
    "collapsed": true
   },
   "outputs": [],
   "source": []
  },
  {
   "cell_type": "markdown",
   "metadata": {},
   "source": [
    "16 - Crea un programa que permita gestionar funciones sencillas de un cajero automatico. Las funciones que tiene que tener el menu son las siguientes:  \n",
    "\n",
    "1 - Retirar dinero  \n",
    "2 - Ingresar dinero  \n",
    "3 - Consultar saldo  \n",
    "4 - Salir  \n",
    "\n",
    "Crea una variable con 1000 euros de saldo. Cuando el usuario ejecute el programa, y vaya realizando cada una de las operaciones, la variable saldo debe actualizarse correspondientemente. Por ejemplo, si efectuamos una operacion de retirar saldo, el saldo debe verse decrementado por la cantidad retirada y asi con las demas operaciones. \n",
    "\n",
    "NOTA: Es importante que tengas en cuenta el control del saldo. El saldo bajo ningun concepto puede ser negativo"
   ]
  },
  {
   "cell_type": "code",
   "execution_count": null,
   "metadata": {
    "collapsed": true
   },
   "outputs": [],
   "source": []
  },
  {
   "cell_type": "markdown",
   "metadata": {},
   "source": [
    "17 - Una matriz puede ser representada en Python como una lista de listas. Por ejemplo:  \n",
    "    \n",
    "    a = [[1, 2, 3],[4, 5, 6],[7, 8, 9]]  representa la matriz\n",
    "    \n",
    "    1  2  3\n",
    "    4  5  6\n",
    "    7  8  9\n",
    "    \n",
    "    Escribe una funcion que dadas dos matrices, realice su suma. Ten en cuenta que deberas comprobar que la suma se puede realizar. Para que se pueda llevar a cabo la suma de matrices, ambas matrices deben tener el mismo numero de dimensiones. A modo de ejemplo:\n",
    "    \n",
    "    1 1      2 2    3 3\n",
    "    1 1  +   2 2 =  3 3\n",
    "    1 1      2 2    3 3"
   ]
  },
  {
   "cell_type": "code",
   "execution_count": null,
   "metadata": {
    "collapsed": true
   },
   "outputs": [],
   "source": []
  },
  {
   "cell_type": "markdown",
   "metadata": {},
   "source": [
    "18 - Escribe una funcion que simule el lanzamiento de una moneda al aire n veces. La funcion debe devolver el numero de caras y cruces que han salido"
   ]
  },
  {
   "cell_type": "code",
   "execution_count": null,
   "metadata": {
    "collapsed": true
   },
   "outputs": [],
   "source": []
  },
  {
   "cell_type": "markdown",
   "metadata": {},
   "source": [
    "19 - Escribe una funcion que simule el lanzamiento de una moneda trucada al aire n veces. La moneda esta trucada para que 7 de cada 10 veces salga cara. La funcion debe devolver el numero de caras y cruces que han salido"
   ]
  },
  {
   "cell_type": "code",
   "execution_count": null,
   "metadata": {
    "collapsed": true
   },
   "outputs": [],
   "source": []
  },
  {
   "cell_type": "code",
   "execution_count": null,
   "metadata": {
    "collapsed": true
   },
   "outputs": [],
   "source": []
  },
  {
   "cell_type": "markdown",
   "metadata": {},
   "source": [
    "20 - El modulo _scipy.stats_ permite acceder a funciones estadisticas. Utiliza la funcion _ttest\\_ind_ para realizar un test de Student que compare la nota media de dos clases."
   ]
  },
  {
   "cell_type": "code",
   "execution_count": null,
   "metadata": {
    "collapsed": true
   },
   "outputs": [],
   "source": []
  },
  {
   "cell_type": "markdown",
   "metadata": {},
   "source": [
    "21 - Cuando nos registramos en una web es necesario validar la direccion de email y si cumple con un formato correcto de modo que la web nos pueda decir que ha habido un problema y permitar corregir la direccion. Escribe un programa que chequee si una direccion de email es valida o no. Despues haz un programa que pida una direccion a un usuario y diga si es correcta o no. En caso de no serlo, debera imprimir un mensaje de aviso y dejar volver a pedir al usuario que introduzca la direccion.\n",
    "Algunos ejemplos de direcciones validas son:  \n",
    "\n",
    "\n",
    "info@unavarra.es  \n",
    "the_uni00d@gmail.com\n",
    "\n",
    "Algunos ejemplos de direcciones NO validas son:\n",
    "\n",
    "jose garcia@hotmail.com  \n",
    "cristina@gmail\n",
    "\n"
   ]
  },
  {
   "cell_type": "code",
   "execution_count": null,
   "metadata": {
    "collapsed": true
   },
   "outputs": [],
   "source": []
  },
  {
   "cell_type": "markdown",
   "metadata": {},
   "source": [
    "22 - Escribe una funcion que verifique si una password cumple los requisitos necesarios para poder aceptarlo. Estos son:\n",
    "* Al menos debe tener una letra mayusculas\n",
    "* Al menos una letra en minusculas\n",
    "* Al menos debe tener 8 caracteres de longitud\n",
    "\n",
    "Testea y asegurate que la funcion hace su cometido correctamente."
   ]
  },
  {
   "cell_type": "code",
   "execution_count": null,
   "metadata": {
    "collapsed": true
   },
   "outputs": [],
   "source": []
  },
  {
   "cell_type": "markdown",
   "metadata": {},
   "source": [
    "23 - Utilizando las funciones definidas en los ejercicios anteriores escribe un programa que sirva para registrar a un usuario en una pagina web. Debera primero pedir el usuario que debe ser un direccion de email y luego el password. Realiza todas las comprobaciones necesarias y controles de errores que creas convenientes. Al final de la creacion debera mostrarse un mensaje indicando que la creacion se ha realizado correctamente."
   ]
  },
  {
   "cell_type": "code",
   "execution_count": null,
   "metadata": {
    "collapsed": true
   },
   "outputs": [],
   "source": []
  },
  {
   "cell_type": "markdown",
   "metadata": {},
   "source": [
    "24 - Vamos a escribir nuestro primero juego. El _mastermind_. En este juego se genera un numero aleatorio de 4 cifras y el usuario debe adivinarlo en el menor numero de intentos posible. Cada vez que el usuario escribe un numero, se comprueban cuantos digitos son correctos y se informa pero no se dice si la posicion es correcta o no. Podemos indicar el numero de digitos correctos utilizando \\* por ejemplo. Veamos una ejecucion:\n",
    "\n",
    "---MASTERMIND---  \n",
    "\n",
    "1> 1442  \n",
    "\\*  \n",
    "2> 2443  \n",
    "  \n",
    "3> 1321  \n",
    "\\*  \n",
    "4> 1214  \n",
    "\\*  \n",
    "5> 1134  \n",
    "\\****\n",
    "\n",
    "Bien hecho, has acertado el numero en 5 intentos"
   ]
  },
  {
   "cell_type": "markdown",
   "metadata": {},
   "source": [
    "25 - Crear ahorcado a partir de diccionario"
   ]
  },
  {
   "cell_type": "code",
   "execution_count": 4,
   "metadata": {},
   "outputs": [
    {
     "name": "stdout",
     "output_type": "stream",
     "text": [
      "/Users/ivan/Documents/personal/UNAV/IntroduccionAPython/1aParte/7 - Funciones\r\n"
     ]
    }
   ],
   "source": [
    "!pwd"
   ]
  },
  {
   "cell_type": "code",
   "execution_count": 37,
   "metadata": {
    "scrolled": false
   },
   "outputs": [
    {
     "name": "stdout",
     "output_type": "stream",
     "text": [
      "_ _ _ _ _ _ \n"
     ]
    }
   ],
   "source": [
    "import random\n",
    "\n",
    "def genera_palabra():\n",
    "    with open('listado-general.txt', 'r') as f:\n",
    "        n_words = len(f.readlines())\n",
    "    n = random.randrange(1, n_words, 1)\n",
    "    with open('listado-general.txt', 'r') as f:\n",
    "        for ii in range(n):\n",
    "            word = f.readline()\n",
    "            if ii == n:\n",
    "                break\n",
    "    return word\n",
    "\n",
    "word = genera_palabra()\n",
    "\n",
    "print 'Bienvenido al ahorcado...'\n",
    "print 'Tiene 10 oportunidades para averiguar la palabra:'\n",
    "\n",
    "\n",
    "print '_ '*len(word)\n"
   ]
  },
  {
   "cell_type": "code",
   "execution_count": 26,
   "metadata": {},
   "outputs": [
    {
     "name": "stdout",
     "output_type": "stream",
     "text": [
      "7 - Funciones.pdf      Funciones.ipynb        listado-general.txt\r\n",
      "7 - Funciones.pptx     Funciones_solved.ipynb\r\n"
     ]
    }
   ],
   "source": [
    "!ls"
   ]
  },
  {
   "cell_type": "code",
   "execution_count": 41,
   "metadata": {},
   "outputs": [
    {
     "name": "stdout",
     "output_type": "stream",
     "text": [
      "\n",
      "_________ \n",
      "|  | \n",
      "|  0 \n",
      "| /|\\ \n",
      "| / \\ \n",
      "| \n",
      "|\n",
      "\n"
     ]
    }
   ],
   "source": [
    "print '''\n",
    "_________ \n",
    "|  | \n",
    "|  0 \n",
    "| /|\\ \n",
    "| / \\ \n",
    "| \n",
    "|\n",
    "'''"
   ]
  },
  {
   "cell_type": "code",
   "execution_count": 69,
   "metadata": {
    "collapsed": true
   },
   "outputs": [],
   "source": [
    "def dibuja_ahorcado(n=1):\n",
    "    if n==1:\n",
    "        print '|'\n",
    "    elif n==2:\n",
    "        print '''\n",
    "| \n",
    "|\n",
    "'''\n",
    "    elif n==3:\n",
    "        print '''\n",
    "|\n",
    "| \n",
    "|\n",
    "'''\n",
    "    elif n==4:\n",
    "        print ''' \n",
    "| \n",
    "|\n",
    "| \n",
    "|\n",
    "'''\n",
    "    elif n==5:\n",
    "        print '''\n",
    "|\n",
    "|\n",
    "|\n",
    "| \n",
    "|\n",
    "'''\n",
    "    elif n==6:\n",
    "        print '''\n",
    "| \n",
    "| \n",
    "| \n",
    "|\n",
    "| \n",
    "|\n",
    "'''\n",
    "    elif n==7:\n",
    "        print '''\n",
    "_________ \n",
    "|\n",
    "| \n",
    "|\n",
    "|\n",
    "| \n",
    "|\n",
    "'''\n",
    "    elif n==8:\n",
    "        print '''\n",
    "_________ \n",
    "|  | \n",
    "|\n",
    "| \n",
    "|\n",
    "| \n",
    "|\n",
    "'''\n",
    "    elif n==9:\n",
    "        print '''\n",
    "_________ \n",
    "|  | \n",
    "|  0 \n",
    "| \n",
    "| \n",
    "| \n",
    "|\n",
    "'''\n",
    "    elif n==10:\n",
    "        print '''\n",
    "_________ \n",
    "|  | \n",
    "|  0 \n",
    "|  |\n",
    "|\n",
    "| \n",
    "|\n",
    "'''\n",
    "    elif n==11:\n",
    "        print '''\n",
    "_________ \n",
    "|  | \n",
    "|  0 \n",
    "|  |\\\\\n",
    "| \n",
    "| \n",
    "|\n",
    "'''\n",
    "    elif n==12:\n",
    "        print '''\n",
    "_________ \n",
    "|  | \n",
    "|  0 \n",
    "| /|\\ \n",
    "| \n",
    "| \n",
    "|\n",
    "'''\n",
    "    elif n==13:\n",
    "        print '''\n",
    "_________ \n",
    "|  | \n",
    "|  0 \n",
    "| /|\\ \n",
    "| /\n",
    "| \n",
    "|\n",
    "'''\n",
    "    else:\n",
    "        print '''\n",
    "_________ \n",
    "|  | \n",
    "|  0 \n",
    "| /|\\ \n",
    "| / \\\\\n",
    "| \n",
    "|\n",
    "'''\n",
    "        \n",
    "        "
   ]
  },
  {
   "cell_type": "code",
   "execution_count": 70,
   "metadata": {},
   "outputs": [
    {
     "name": "stdout",
     "output_type": "stream",
     "text": [
      "\n",
      "_________ \n",
      "|  | \n",
      "|  0 \n",
      "| /|\\ \n",
      "| / \\\n",
      "| \n",
      "|\n",
      "\n"
     ]
    }
   ],
   "source": [
    "dibuja_ahorcado(15)"
   ]
  },
  {
   "cell_type": "code",
   "execution_count": 64,
   "metadata": {},
   "outputs": [
    {
     "name": "stdout",
     "output_type": "stream",
     "text": [
      "0\n",
      "1\n",
      "|\n",
      "2\n",
      "\n",
      "| \n",
      "|\n",
      "\n",
      "3\n",
      "\n",
      "|\n",
      "| \n",
      "|\n",
      "\n",
      "4\n",
      " \n",
      "| \n",
      "|\n",
      "| \n",
      "|\n",
      "\n",
      "5\n",
      "\n",
      "|\n",
      "|\n",
      "|\n",
      "| \n",
      "|\n",
      "\n",
      "6\n",
      "\n",
      "| \n",
      "| \n",
      "| \n",
      "|\n",
      "| \n",
      "|\n",
      "\n",
      "7\n",
      "\n",
      "_________ \n",
      "|\n",
      "| \n",
      "|\n",
      "|\n",
      "| \n",
      "|\n",
      "\n",
      "8\n",
      "\n",
      "_________ \n",
      "|  | \n",
      "|\n",
      "| \n",
      "|\n",
      "| \n",
      "|\n",
      "\n",
      "9\n",
      "\n",
      "_________ \n",
      "|  | \n",
      "|  0 \n",
      "| \n",
      "| \n",
      "| \n",
      "|\n",
      "\n",
      "10\n",
      "\n",
      "_________ \n",
      "|  | \n",
      "|  0 \n",
      "|  |\n",
      "|\n",
      "| \n",
      "|\n",
      "\n",
      "11\n",
      "\n",
      "_________ \n",
      "|  | \n",
      "|  0 \n",
      "|  |\\\n",
      "| \n",
      "| \n",
      "|\n",
      "\n",
      "12\n",
      "\n",
      "_________ \n",
      "|  | \n",
      "|  0 \n",
      "| /|\\ \n",
      "| \n",
      "| \n",
      "|\n",
      "\n",
      "13\n",
      "\n",
      "_________ \n",
      "|  | \n",
      "|  0 \n",
      "| /|\\ \n",
      "| /\n",
      "| \n",
      "|\n",
      "\n",
      "14\n"
     ]
    }
   ],
   "source": [
    "for i in range(15):\n",
    "    print i\n",
    "    dibuja_ahorcado(i)"
   ]
  },
  {
   "cell_type": "code",
   "execution_count": null,
   "metadata": {
    "collapsed": true
   },
   "outputs": [],
   "source": []
  }
 ],
 "metadata": {
  "kernelspec": {
   "display_name": "Python 3",
   "language": "python",
   "name": "python3"
  },
  "language_info": {
   "codemirror_mode": {
    "name": "ipython",
    "version": 3
   },
   "file_extension": ".py",
   "mimetype": "text/x-python",
   "name": "python",
   "nbconvert_exporter": "python",
   "pygments_lexer": "ipython3",
   "version": "3.6.2"
  }
 },
 "nbformat": 4,
 "nbformat_minor": 1
}
