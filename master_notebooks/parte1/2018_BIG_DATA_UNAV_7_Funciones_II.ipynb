{
 "cells": [
  {
   "cell_type": "markdown",
   "metadata": {},
   "source": [
    "---\n",
    "# Experto Big Data UNAV 2018 - Notebook 7 - Funciones (II)\n",
    "---"
   ]
  },
  {
   "cell_type": "markdown",
   "metadata": {},
   "source": [
    "¡Más funciones!\n",
    "========\n",
    "\n",
    "Anteriormente aprendimos las versiones más simples de las funciones. En esta sección aprenderemos conceptos más generales sobre funciones, tales como cómo usar funciones para devolver valores y cómo pasar diferentes tipos de estructuras de datos entre funciones, así como una pequeña introducción a módulos"
   ]
  },
  {
   "cell_type": "markdown",
   "metadata": {},
   "source": [
    "# Índice <a name=\"indice\"></a>\n",
    "\n",
    "- [Argumentos por defecto](#Argumentos-por-defecto)\n",
    "    - [Ejercicios](#Ejercicios-default)\n",
    "- [Argumentos posicionales](#Argumentos-posicionales)\n",
    "    - [Ejercicios](#Ejercicios-positional)\n",
    "- [Argumentos clave](#Argumentos-de-palabra-clave)\n",
    "    - [Mezclando argumentos posicionales y clave](#Mezclando-argumentos-posicionales-y-palabra-clave)\n",
    "    - [Ejercicios](#Ejercicios-keyword)\n",
    "- [Aceptando un número variable de argumentos](#Aceptando-un-numero-arbitrario-de-argumentos)\n",
    "    - [Aceptando una secuencia de longitud variable](#Aceptando-una-secuencia-de-elementos-de-longitud-variable)\n",
    "    - [Aceptando un numero variable de argumentos clave](#Aceptando-un-n%C3%BAmero-variable-de-argumentos-palabra-clave)\n",
    "- [Funciones lambda](#Funciones-lambda)\n",
    "- [Modulos](#Modulos)"
   ]
  },
  {
   "cell_type": "markdown",
   "metadata": {},
   "source": [
    "Argumentos por defecto\n",
    "============\n",
    "[Volver al índice](#indice)\n",
    "\n",
    "En el notebook anterior empezamos con este ejemplo:"
   ]
  },
  {
   "cell_type": "code",
   "execution_count": null,
   "metadata": {},
   "outputs": [],
   "source": [
    "def agradecimiento(nombre):\n",
    "    # Esta función saca por pantalla un mensaje de agradecimiento en dos líneas\n",
    "    print(\"\\n¡Buen trabajo, %s!\" % nombre)\n",
    "    print(\"Muchas gracias por tu dedicación al proyecto.\")\n",
    "    \n",
    "agradecimiento('Adriana')\n",
    "agradecimiento('Pedro')\n",
    "agradecimiento('Carolina')"
   ]
  },
  {
   "cell_type": "markdown",
   "metadata": {},
   "source": [
    "Esta función hace lo que tiene que hacer, pero si no pasamos ningún argumento, falla:"
   ]
  },
  {
   "cell_type": "code",
   "execution_count": null,
   "metadata": {},
   "outputs": [],
   "source": [
    "def agradecimiento(nombre):\n",
    "    # Esta función saca por pantalla un mensaje de agradecimiento en dos líneas\n",
    "    print(\"\\n¡Buen trabajo, %s!\" % nombre)\n",
    "    print(\"Muchas gracias por tu dedicación al proyecto.\")\n",
    "    \n",
    "agradecimiento('Adriana')\n",
    "agradecimiento('Pedro')\n",
    "agradecimiento('Carolina')\n",
    "agradecimiento()\n"
   ]
  },
  {
   "cell_type": "markdown",
   "metadata": {},
   "source": [
    "\n",
    "Eso tiene sentido; la función necesita tener un nombre para hacer su trabajo, por lo que sin un nombre está bloqueada.\n",
    "\n",
    "Si queremos que la función haga algo por defecto, incluso si no se le pasa información, podemos hacerlo dando los valores predeterminados de sus argumentos. Para ello, especifique los valores predeterminados cuando definimos la función:"
   ]
  },
  {
   "cell_type": "code",
   "execution_count": null,
   "metadata": {},
   "outputs": [],
   "source": [
    "def agradecimiento(nombre='cualquiera'):\n",
    "    # Esta función saca por pantalla un mensaje de agradecimiento en dos líneas\n",
    "    print(\"\\n¡Buen trabajo, %s!\" % nombre)\n",
    "    print(\"Muchas gracias por tu dedicación al proyecto.\")\n",
    "    \n",
    "agradecimiento('Adriana')\n",
    "agradecimiento('Pedro')\n",
    "agradecimiento('Carolina')\n",
    "agradecimiento()"
   ]
  },
  {
   "cell_type": "markdown",
   "metadata": {},
   "source": [
    "\n",
    "Esto es particularmente útil cuando tenemos un número de argumentos en la función, y algunos de esos argumentos casi siempre tienen el mismo valor. Esto permite que las personas que usan la función solo especifiquen los valores que son únicos para su uso de la función y se puedan \"olvidar\" del resto."
   ]
  },
  {
   "cell_type": "markdown",
   "metadata": {},
   "source": [
    "<a id=\"Ejercicios-default\"></a>\n",
    "Ejercicios\n",
    "-----------\n",
    "\n",
    "#### Juegos de mesa\n",
    "\n",
    "- Escribe una función que acepte el nombre de un juego e imprima una frase como \"Me gusta jugar al ajedrez\".\n",
    "- Proporciona al argumento un valor predeterminado, por ejemplo `ajedrez`.\n",
    "- Llama a la función al menos tres veces. Asegúrate de que al menos una de las llamadas incluya un argumento, y al menos una llamada no incluya argumentos.\n",
    "\n",
    "#### Película favorita\n",
    "\n",
    "- Escribir una función que acepte el nombre de una película e imprima una frase como, \"Mi película favorita es Memorias de África\".\n",
    "- Dale al argumento un valor predeterminado, como `Memorias de África`.\n",
    "- Llama a la función al menos tres veces. Asegúrate de que al menos una de las llamadas incluya un argumento, y al menos una llamada no incluya argumentos."
   ]
  },
  {
   "cell_type": "code",
   "execution_count": null,
   "metadata": {},
   "outputs": [],
   "source": []
  },
  {
   "cell_type": "code",
   "execution_count": null,
   "metadata": {},
   "outputs": [],
   "source": [
    "def juegos_de_mesa(juego='ajedrez'):\n",
    "    print('Me gusta jugar a %s' % (juego))\n",
    "    \n",
    "juegos_de_mesa('cartas')\n",
    "juegos_de_mesa('damas')\n",
    "juegos_de_mesa()\n",
    "\n",
    "def pelicula_favorita(peli='Titanic'):\n",
    "    print('Mi pelicula favorita es %s' % peli)\n",
    "    \n",
    "pelicula_favorita('La vida de Brian')\n",
    "pelicula_favorita('LaLaLand')\n",
    "pelicula_favorita()\n",
    "\n"
   ]
  },
  {
   "cell_type": "markdown",
   "metadata": {},
   "source": [
    "Argumentos posicionales\n",
    "=============\n",
    "[Volver al índice](#indice)\n",
    "\n",
    "Mucho de lo que tendrás que aprender sobre el uso de funciones implica cómo pasar valores cuando llamamos a la función a la función en sí. El ejemplo que acabamos de ver es bastante simple, ya que la función solo necesitaba un argumento para hacer su trabajo. Echemos un vistazo a una función que requiere dos argumentos para hacer su trabajo.\n",
    "\n",
    "Hagamos una función simple que tome en tres argumentos. Hagamos una función que tome el nombre y apellido de una persona, y luego imprima todo lo que sabe sobre la persona.\n",
    "\n",
    "Aquí tenemos una implementación simple de esta función:"
   ]
  },
  {
   "cell_type": "code",
   "execution_count": null,
   "metadata": {},
   "outputs": [],
   "source": [
    "def describir_persona(nombre, apellido, edad):\n",
    "    # Esta función toma el nombre, apellido y edad\n",
    "    # de una persona y lo saca por pantalla en un \n",
    "    # formato simple\n",
    "    print(\"Nombre: %s\" % nombre.title())\n",
    "    print(\"Apellido: %s\" % apellido.title())\n",
    "    print(\"Edad: %d\\n\" % edad)\n",
    "\n",
    "describir_persona('pedro', 'garcia', 71)\n",
    "describir_persona('leire', 'ochoa', 22)\n",
    "describir_persona('adrian', 'perez', 33)"
   ]
  },
  {
   "cell_type": "markdown",
   "metadata": {},
   "source": [
    "Los argumentos en esta función son nombre, apeliido y edad. Estos se llaman argumentos posicionales porque Python sabe qué valor asignar a cada uno por el orden en el que le da los valores de la función. En la línea de llamada\n",
    "\n",
    "`describir_persona('pedro', 'garcia', 71)`\n",
    "\n",
    "enviamos los valores pedro, garcia y 71 a la función. Python mapea con el primer valor pedro con el primer argumento nombre. Mapea con el segundo valor garcia con el segundo argumento apellido. Finalmente, mapea con el tercer valor 71 con el tercer argumento edad.\n",
    "\n",
    "Esto es bastante sencillo, pero significa que debemos asegurarnos de que los argumentos estén en el orden correcto. Si cambiamos el orden, obtenemos resultados sin sentido o un error:"
   ]
  },
  {
   "cell_type": "code",
   "execution_count": null,
   "metadata": {},
   "outputs": [],
   "source": [
    "def describir_persona(nombre, apellido, edad):\n",
    "    # Esta función toma el nombre, apellido y edad\n",
    "    # de una persona y lo saca por pantalla en un \n",
    "    # formato simple\n",
    "    print(\"Nombre: %s\" % nombre.title())\n",
    "    print(\"Apellido: %s\" % apellido.title())\n",
    "    print(\"Edad: %d\\n\" % edad)\n",
    "\n",
    "describir_persona(71, 'pedro', 'garcia')\n",
    "describir_persona(22, 'leire', 'ochoa')\n",
    "describir_persona('adrian', 33, 'perez')"
   ]
  },
  {
   "cell_type": "markdown",
   "metadata": {},
   "source": [
    "Esto falla porque Python intenta hacer coincidir el valor 71 con el argumento `nombre`, el valor * pedro * con el argumento` apellido`, y el valor * garcia * con el argumento `edad`. Luego, cuando intenta imprimir el valor `nombre.title ()`, se da cuenta de que no puede usar el método `title ()` en un entero."
   ]
  },
  {
   "cell_type": "markdown",
   "metadata": {},
   "source": [
    "<a id=\"Ejercicios-positional\"></a>\n",
    "Ejercicios\n",
    "-----------\n",
    "\n",
    "#### Colores favoritos\n",
    "\n",
    "- Escribir una función que tome dos argumentos, el nombre de una persona y su color favorito. La función debe imprimir una declaración como \"el color favorito de María es azul\".\n",
    "- Llamar a la función tres veces, con una persona diferente y color cada vez.\n",
    "\n",
    "#### Teléfonos\n",
    "\n",
    "- Escribir una función que tenga dos argumentos, una marca de teléfono y un nombre de modelo. La función debe imprimir una frase como \"iPhone 6 Plus\".\n",
    "- Llamar a la función tres veces, con una combinación diferente de marca y modelo cada vez."
   ]
  },
  {
   "cell_type": "code",
   "execution_count": null,
   "metadata": {},
   "outputs": [],
   "source": [
    "def color_favorito(nombre='luis', color='verde'):\n",
    "    print('El color favorito de %s es %s' % (nombre, color))\n",
    "    \n",
    "color_favorito('Maria', 'azul')\n",
    "color_favorito('Pedro', 'rojo')\n",
    "color_favorito()\n",
    "\n",
    "def telefono_movil(marca='Apple', modelo=8):\n",
    "    print('La marca es {0} y el modelo es {1}'.format(marca, modelo))\n",
    "    \n",
    "telefono_movil()\n",
    "telefono_movil('Samsung', 'S7')\n",
    "telefono_movil('Nexus', 6)"
   ]
  },
  {
   "cell_type": "markdown",
   "metadata": {},
   "source": [
    "Argumentos de palabra clave\n",
    "===============\n",
    "[Volver al índice](#indice)\n",
    "\n",
    "Python nos permite usar una sintaxis llamada * argumentos clave *. En este caso, podemos dar los argumentos en cualquier orden cuando llamemos a la función, siempre que usemos el nombre de los argumentos en la llamada. Aquí se muestra cómo se puede hacer que el código anterior funcione usando argumentos de palabra clave:"
   ]
  },
  {
   "cell_type": "code",
   "execution_count": null,
   "metadata": {},
   "outputs": [],
   "source": [
    "def describir_persona(nombre, apellido, edad):\n",
    "    # Esta función toma el nombre, apellido y edad\n",
    "    # de una persona y lo saca por pantalla en un \n",
    "    # formato simple\n",
    "    print(\"Nombre: %s\" % nombre.title())\n",
    "    print(\"Apellido: %s\" % apellido.title())\n",
    "    print(\"Edad: %d\\n\" % edad)\n",
    "\n",
    "describir_persona(edad=71, nombre='pedro', apellido='garcia')\n",
    "describir_persona(nombre='leire', edad=22, apellido='ochoa')\n",
    "describir_persona(edad=33, nombre='adrian', apellido='perez')\n"
   ]
  },
  {
   "cell_type": "markdown",
   "metadata": {},
   "source": [
    "Esto funciona, porque Python no tiene que mapear valores a argumentos por posición. Mapea con el valor 71 con el argumento `edad`, porque el valor 71 está claramente marcado para ir con ese argumento. Esta sintaxis es un poco más tipada, pero crea un código muy legible."
   ]
  },
  {
   "cell_type": "markdown",
   "metadata": {},
   "source": [
    "Mezclando argumentos posicionales y palabra clave\n",
    "--------------------------------------------------------\n",
    "\n",
    "A veces puede tener sentido mezclar argumentos posicionales y de palabras clave. En nuestro ejemplo anterior, podemos esperar que esta función siempre incluya un nombre y un apellido. Antes de comenzar a mezclar los argumentos posicionales y de palabras clave, agreguemos otra información a nuestra descripción de una persona. Volvamos también a usar solo argumentos posicionales por un momento:"
   ]
  },
  {
   "cell_type": "code",
   "execution_count": null,
   "metadata": {},
   "outputs": [],
   "source": [
    "def describir_persona(nombre, apellido, edad, lenguaje_favorito):\n",
    "    # Esta función toma el nombre, apellido y edad\n",
    "    # de una persona y lo saca por pantalla en un \n",
    "    # formato simple\n",
    "    print(\"Nombre: %s\" % nombre.title())\n",
    "    print(\"Apellido: %s\" % apellido.title())\n",
    "    print(\"Edad: %d\" % edad)\n",
    "    print(\"Lenguaje favorito: %s\\n\" % lenguaje_favorito)\n",
    "    \n",
    "\n",
    "describir_persona('pedro', 'garcia', 71, 'C')\n",
    "describir_persona('leire', 'ochoa', 22, 'Go')\n",
    "describir_persona('adrian', 'perez', 33, 'R')"
   ]
  },
  {
   "cell_type": "markdown",
   "metadata": {},
   "source": [
    "\n",
    "Podemos esperar que cualquiera que use esta función proporcione un nombre y un apellido, en ese orden. Pero ahora estamos comenzando a incluir cierta información que podría no aplicarse a todos. Podemos abordar esto manteniendo los argumentos posicionales para el primer nombre y el apellido, pero esperamos argumentos de palabra clave para todo lo demás. Podemos mostrar esto al agregar algunas personas más y tener información diferente sobre cada persona:"
   ]
  },
  {
   "cell_type": "code",
   "execution_count": null,
   "metadata": {},
   "outputs": [],
   "source": [
    "def describir_persona(nombre, \n",
    "                      apellido, \n",
    "                      edad=None, \n",
    "                      lenguaje_favorito=None, \n",
    "                      fecha_fallecimiento=None):\n",
    "    # Esta función toma el nombre, apellido y edad\n",
    "    # de una persona y lo saca por pantalla en un \n",
    "    # formato simple\n",
    "    \n",
    "    # Información obligatoria\n",
    "    print(\"Nombre: %s\" % nombre.title())\n",
    "    print(\"Apellido: %s\" % apellido.title())\n",
    "    \n",
    "    # Información opcional\n",
    "    if edad:\n",
    "        print(\"Edad: %d\" % edad)\n",
    "    if lenguaje_favorito:\n",
    "        print(\"Lenguaje favorito: %s\" % lenguaje_favorito)\n",
    "    if fecha_fallecimiento:\n",
    "        print(\"Fallecio: %d\" % fecha_fallecimiento)\n",
    "        \n",
    "    # Salto de linea\n",
    "    print('\\n')\n",
    "    \n",
    "describir_persona('pedro', 'garcia', lenguaje_favorito='C')\n",
    "describir_persona('leire', 'ochoa', edad=22)\n",
    "describir_persona('leire', 'ochoa', edad=0)\n",
    "describir_persona('adrian', 'perez', edad=33, lenguaje_favorito='R')\n",
    "describir_persona('dennis', 'ritchie', lenguaje_favorito='C', fecha_fallecimiento=2011)\n",
    "describir_persona('guido', 'van rossum', lenguaje_favorito='Python')\n"
   ]
  },
  {
   "cell_type": "markdown",
   "metadata": {},
   "source": [
    "Todos necesitamos un nombre y un apellido, pero todo lo demás es opcional. Este código aprovecha la palabra clave de Python `None`, que actúa como un valor vacío para una variable. De esta forma, el usuario puede proporcionar cualquiera de los valores 'adicionales' que le interesan. No se muestran los argumentos que no reciben un valor. Python combina estos valores adicionales por nombre, en lugar de por posición. Esta es una forma muy común y útil para definir funciones, y muy legible, no da a lugar a error como puede ocurrir con los argumentos posicionales."
   ]
  },
  {
   "cell_type": "markdown",
   "metadata": {},
   "source": [
    "<a id=\"Ejercicios-keyword\"></a>\n",
    "Ejercicios\n",
    "-----------\n",
    "\n",
    "#### Equipos deportivos\n",
    "\n",
    "- Escribir una función que incluya dos argumentos, el nombre de una ciudad y el nombre de un equipo deportivo de esa ciudad.\n",
    "- Llamar a la función tres veces, usando una combinación de argumentos posicionales y de palabras clave.\n",
    "\n",
    "#### Idiomas del mundo\n",
    "\n",
    "- Escribe una función que incluya dos argumentos, el nombre de un país y un idioma principal hablado allí.\n",
    "- Llamar a la función tres veces, usando una combinación de argumentos posicionales y de palabras clave."
   ]
  },
  {
   "cell_type": "code",
   "execution_count": null,
   "metadata": {},
   "outputs": [],
   "source": [
    "def equipo_ciudad(ciudad, equipo=None):\n",
    "    print('El equipo de la ciudad {0} es {1}'.format(ciudad, equipo if equipo is not None else 'No hay'))\n",
    "    \n",
    "equipo_ciudad('Madrid', 'Madrid C.F.')\n",
    "equipo_ciudad('Bilbao', 'Athelic')\n",
    "equipo_ciudad('Leon')\n",
    "\n",
    "\n",
    "def idioma_pais(pais=None, idioma=None):\n",
    "    print('El idioma de {0} es {1}'.format(pais if pais else 'Universo', \n",
    "                                           idioma if idioma else 'Esperanto'))\n",
    "    \n",
    "idioma_pais()\n",
    "idioma_pais('Andorra')\n",
    "idioma_pais('Francia', 'frances')\n",
    "idioma_pais('chino')\n",
    "idioma_pais(pais=None, idioma='chino')\n",
    "idioma_pais(idioma='aleman')"
   ]
  },
  {
   "cell_type": "markdown",
   "metadata": {},
   "source": [
    "Aceptando un numero arbitrario de argumentos\n",
    "=========================\n",
    "[Volver al índice](#indice)\n",
    "\n",
    "Ahora hemos visto que el uso de argumentos de palabras clave puede permitirnos llamar a funciones de forma mucho más flexible.\n",
    "\n",
    "- Esto nos beneficia en nuestros propios programas, porque podemos escribir una función que pueda manejar muchas situaciones diferentes.\n",
    "- Esto nos beneficia si otros programadores usan nuestros programas, porque nuestras funciones se pueden aplicar a una amplia gama de situaciones.\n",
    "- Esto nos beneficia cuando usamos las funciones de otros programadores, porque sus funciones se pueden aplicar a muchas situaciones que nos puedan interesar.\n",
    "\n",
    "Sin embargo, hay otro problema que podemos resolver. Consideremos una función que toma dos números, e imprime la suma de los dos números:"
   ]
  },
  {
   "cell_type": "code",
   "execution_count": null,
   "metadata": {},
   "outputs": [],
   "source": [
    "def sumador(num_1, num_2):\n",
    "    # Esta función suma dos numeros e imprime por pantalla el resultado\n",
    "    suma = num_1 + num_2\n",
    "    print(\"La suma de los dos números es %d.\" % suma)\n",
    "    \n",
    "# Vamos a probar la función\n",
    "sumador(1, 2)\n",
    "sumador(-1, 2)\n",
    "sumador(1, -2)"
   ]
  },
  {
   "cell_type": "markdown",
   "metadata": {},
   "source": [
    "\n",
    "Esta función parece funcionar bien. Pero, ¿qué pasa si le pasamos tres números, lo cual es algo perfectamente razonable de hacer matemáticamente?"
   ]
  },
  {
   "cell_type": "code",
   "execution_count": null,
   "metadata": {},
   "outputs": [],
   "source": [
    "def sumador(num_1, num_2):\n",
    "    # Esta función suma dos numeros e imprime por pantalla el resultado\n",
    "    suma = num_1 + num_2\n",
    "    print(\"La suma de los dos números es %d.\" % suma)\n",
    "    \n",
    "# Vamos a probar la función con tres numeros\n",
    "sumador(1, 2, 3)"
   ]
  },
  {
   "cell_type": "markdown",
   "metadata": {},
   "source": [
    "\n",
    "Esta función falla porque no importa qué combinación de argumentos posicionales y palabras clave usemos, la función solo acepta dos argumentos. De hecho, una función escrita de esta manera solo funcionará con * exactamente * dos argumentos."
   ]
  },
  {
   "cell_type": "markdown",
   "metadata": {},
   "source": [
    "Aceptando una secuencia de elementos de longitud variable\n",
    "------------------------------------------------------------------\n",
    "\n",
    "Python nos proporciona una sintaxis para permitir que una función acepte una cantidad arbitraria de argumentos. Si colocamos un argumento al final de la lista de argumentos, con un asterisco delante de él, ese argumento recogerá los valores restantes de la declaración de llamada en una tupla. Aquí hay un ejemplo que demuestra cómo funciona esto:"
   ]
  },
  {
   "cell_type": "code",
   "execution_count": null,
   "metadata": {},
   "outputs": [],
   "source": [
    "def ejemplo_funcion(arg_1, arg_2, *arg_3):\n",
    "    # Echemos un vistazo a los argumentos\n",
    "    print('\\narg_1:', arg_1)\n",
    "    print('arg_2:', arg_2)\n",
    "    print('arg_3:', arg_3)\n",
    "    \n",
    "ejemplo_funcion(1, 2)\n",
    "ejemplo_funcion(1, 2, 3)\n",
    "ejemplo_funcion(1, 2, 3, 4)\n",
    "ejemplo_funcion(1, 2, 3, 4, 5)"
   ]
  },
  {
   "cell_type": "markdown",
   "metadata": {},
   "source": [
    "\n",
    "Como vemos, el argumento 3 es una tupla, una lista inmutable (no podemos cambiar sus valores). Por lo tanto podemos iterar sobre este argumento.\n",
    "\n",
    "**NOTA:** Por convención, en Python se llama a este argumento siempre `args` como veremos mas adelante, pero en realidad podemos llamarlo como nos apetezca, como veremos a continuación."
   ]
  },
  {
   "cell_type": "code",
   "execution_count": null,
   "metadata": {},
   "outputs": [],
   "source": [
    "def ejemplo_funcion(arg_1, arg_2, *arg_3):\n",
    "    # Echemos un vistazo a los argumentos\n",
    "    print('\\narg_1:', arg_1)\n",
    "    print('arg_2:', arg_2)\n",
    "    for value in arg_3:\n",
    "        print('arg_3:', value)\n",
    "    \n",
    "ejemplo_funcion(1, 2)\n",
    "ejemplo_funcion(1, 2, 3)\n",
    "ejemplo_funcion(1, 2, 3, 4)\n",
    "ejemplo_funcion(1, 2, 3, 4, 5)"
   ]
  },
  {
   "cell_type": "markdown",
   "metadata": {},
   "source": [
    "\n",
    "Volvamos a reescribir la función sumador () para aceptar dos o más argumentos, e imprimir la suma de esos números:"
   ]
  },
  {
   "cell_type": "code",
   "execution_count": null,
   "metadata": {},
   "outputs": [],
   "source": [
    "def sumador(num_1, num_2, *nums):\n",
    "    # Esta función suma dos numeros e imprime por pantalla el resultado\n",
    "    suma = num_1 + num_2\n",
    "    \n",
    "    total_numeros = []\n",
    "    total_numeros.append(num_1)\n",
    "    total_numeros.append(num_2)\n",
    "    \n",
    "    for num in nums:\n",
    "        suma = suma + num\n",
    "        total_numeros.append(num)\n",
    "    \n",
    "    suma_de = ''\n",
    "    for index, num in enumerate(total_numeros):\n",
    "        if index != len(total_numeros)-1:\n",
    "            suma_de += str(num) + '+'\n",
    "        else:\n",
    "            suma_de += str(num)\n",
    "            \n",
    "    print('La suma de ' + suma_de + ' es {0}'.format(suma))\n",
    "    #print(\"La suma de los números es %d.\" % suma)\n",
    "    \n",
    "# Vamos a probar la función\n",
    "sumador(1, 2)\n",
    "sumador(-1, 2)\n",
    "sumador(1, -2, 1)\n",
    "sumador(1, -2, 1, 10, 10)\n"
   ]
  },
  {
   "cell_type": "markdown",
   "metadata": {},
   "source": [
    "En esta nueva versión de la función, Python hace lo siguiente:\n",
    "\n",
    "- almacena el primer valor en la llamada en el argumento `num_1`;\n",
    "- almacena el segundo valor en la llamada en el argumento `num_2`;\n",
    "- almacena todos los demás valores en la llamada como una tupla en el argumento `nums`.\n",
    "\n",
    "Entonces podemos \"descomprimir\" o \"desenpaquetar\" estos valores, usando un ciclo for. Podemos demostrar cuán flexible es esta función llamándola varias veces, con un número diferente de argumentos cada vez."
   ]
  },
  {
   "cell_type": "markdown",
   "metadata": {},
   "source": [
    "Aceptando un número variable de argumentos palabra clave\n",
    "-----------------------------------------------------------------\n",
    "\n",
    "\n",
    "Python también proporciona una sintaxis para aceptar un número arbitrario de argumentos de tipo palabra clave. La sintaxis es tal que así:"
   ]
  },
  {
   "cell_type": "code",
   "execution_count": null,
   "metadata": {},
   "outputs": [],
   "source": [
    "def ejemplo_funcion(arg_1, arg_2, **kwargs):\n",
    "    # Veamos el valor de los argumentos\n",
    "    print('\\narg_1:', arg_1)\n",
    "    print('arg_2:', arg_2)\n",
    "    print('arg_3:', kwargs)\n",
    "\n",
    "ejemplo_funcion('a', 'b')\n",
    "ejemplo_funcion('a', 'b', valor_3='c')\n",
    "ejemplo_funcion('a', 'b', valor_3='c', valor_4='d')\n",
    "ejemplo_funcion('a', 'b', valor_3='c', valor_4='d', valor_5='e')"
   ]
  },
  {
   "cell_type": "markdown",
   "metadata": {},
   "source": [
    "\n",
    "El tercer argumento tiene dos asteriscos delante, que le indica a Python que recopile todos los argumentos clave-valor restantes en la llamada. Este argumento se denomina comúnmente `kwargs` como en el caso anterior era `args`, esto es por convención pero siempre podremos llamarlo como queramos. \n",
    "\n",
    "Vemos en el resultado que estos pares clave-valor están almacenados en un tipo de datos diccionario. Podemos recorrer este diccionario para trabajar con todos los valores que se pasan a la función:"
   ]
  },
  {
   "cell_type": "code",
   "execution_count": null,
   "metadata": {},
   "outputs": [],
   "source": [
    "def ejemplo_funcion(arg_1, arg_2, **kwargs):\n",
    "    # Veamos el valor de los argumentos\n",
    "    print('\\narg_1:', arg_1)\n",
    "    print('arg_2:', arg_2)\n",
    "    for clave, valor in kwargs.items():\n",
    "        print('La clave es {clave} y valor es {valor}'.format(clave=clave,\n",
    "                                                              valor=valor))\n",
    "\n",
    "ejemplo_funcion('a', 'b')\n",
    "ejemplo_funcion('a', 'b', valor_3='c')\n",
    "ejemplo_funcion('a', 'b', valor_3='c', valor_4='d')\n",
    "ejemplo_funcion('a', 'b', valor_3='c', valor_4='d', valor_5='e')"
   ]
  },
  {
   "cell_type": "markdown",
   "metadata": {},
   "source": [
    "\n",
    "Anteriormente creamos una función que nos permitía describir a una persona, y teníamos tres cosas que podríamos describir acerca de una persona. Podríamos incluir su edad, su idioma favorito y la fecha en que fallecieron. Pero esa era la única información que podíamos incluir, porque era la única información que la función estaba preparada para manejar:"
   ]
  },
  {
   "cell_type": "code",
   "execution_count": null,
   "metadata": {},
   "outputs": [],
   "source": [
    "def describir_persona(nombre, \n",
    "                      apellido, \n",
    "                      edad=None, \n",
    "                      lenguaje_favorito=None, \n",
    "                      fecha_fallecimiento=None):\n",
    "    # Esta función toma el nombre, apellido y edad\n",
    "    # de una persona y lo saca por pantalla en un \n",
    "    # formato simple\n",
    "    \n",
    "    # Información obligatoria\n",
    "    print(\"Nombre: %s\" % nombre.title())\n",
    "    print(\"Apellido: %s\" % apellido.title())\n",
    "    \n",
    "    # Información opcional\n",
    "    if edad:\n",
    "        print(\"Edad: %d\" % edad)\n",
    "    if lenguaje_favorito:\n",
    "        print(\"Lenguaje favorito: %s\" % lenguaje_favorito)\n",
    "    if fecha_fallecimiento:\n",
    "        print(\"Fallecio: %d\" % fecha_fallecimiento)\n",
    "        \n",
    "    # Salto de linea\n",
    "    print('\\n')\n",
    "    \n",
    "describir_persona('pedro', 'garcia', lenguaje_favorito='C')\n",
    "describir_persona('leire', 'ochoa', edad=22)\n",
    "describir_persona('adrian', 'perez', edad=33, lenguaje_favorito='R')\n",
    "describir_persona('dennis', 'ritchie', lenguaje_favorito='C', fecha_fallecimiento=2011)\n",
    "describir_persona('guido', 'van rossum', lenguaje_favorito='Python')"
   ]
  },
  {
   "cell_type": "markdown",
   "metadata": {},
   "source": [
    "\n",
    "Podemos hacer que esta función sea mucho más flexible al aceptar cualquier número de argumentos de tipo palabra clave. Así es como sería la función usando la sintaxis para aceptar tantos argumentos de palabra clave como la persona que la llama quiera proporcionar:"
   ]
  },
  {
   "cell_type": "code",
   "execution_count": null,
   "metadata": {},
   "outputs": [],
   "source": [
    "def describir_persona(nombre, apellido, **kwargs):\n",
    "    # Esta función toma el nombre, apellido y edad\n",
    "    # de una persona y un numero variable de argumentos\n",
    "    # y lo saca por pantalla en un formato simple\n",
    "    \n",
    "    # Información obligatoria\n",
    "    print(\"Nombre: %s\" % nombre.title())\n",
    "    print(\"Apellido: %s\" % apellido.title())\n",
    "    \n",
    "    # Informacion opcional\n",
    "    for clave in kwargs:\n",
    "        print(kwargs[clave])\n",
    "        print(type(kwargs[clave]))\n",
    "        print(\"%s: %s\" % (clave.title(), kwargs[clave]))\n",
    "        \n",
    "    # Salto de linea\n",
    "    print('\\n')\n",
    "    \n",
    "describir_persona('pedro', 'garcia', lenguaje_favorito='C')\n",
    "describir_persona('leire', 'ochoa', edad=22)\n",
    "describir_persona('adrian', 'perez', edad=33, lenguaje_favorito='R')\n",
    "describir_persona('dennis', 'ritchie', lenguaje_favorito='C', fecha_fallecimiento=2011)\n",
    "describir_persona('guido', 'van rossum', lenguaje_favorito='Python')\n",
    "describir_persona('Luke', 'Skywalker', queja='Obi Wan era un plasta')"
   ]
  },
  {
   "cell_type": "markdown",
   "metadata": {},
   "source": [
    "\n",
    "Esto es bastante más limpio y elegante. Obtenemos el mismo resultado, y no tenemos que incluir muchas pruebas para ver qué tipo de información se pasó a la funciiempre requerimos un nombre y un apellido, pero más allá de eso, la persona que llama es libre de proporcionar un par de palabras clave-valor para describir a una persona. Como se puede ver en la ultima llamada se puede proporcionar cualquier tipo de información a esta función. También limpiamos la salida reemplazando cualquier guión bajo en las teclas con un espacio."
   ]
  },
  {
   "cell_type": "markdown",
   "metadata": {},
   "source": [
    "Funciones lambda\n",
    "-------------------\n",
    "[Volver al índice](#indice)\n",
    "\n",
    "En Python disponemos de un tipo de funciones denominado con la palabra reservada `lambda` que permite crear funciones anónimas en una línea.\n",
    "\n",
    "Veamos con un ejemplo de como definimos una función como hemos aprendido hasta ahora:\n"
   ]
  },
  {
   "cell_type": "code",
   "execution_count": null,
   "metadata": {},
   "outputs": [],
   "source": [
    "import math\n",
    "\n",
    "def raiz_cuadrada(x): \n",
    "    return math.sqrt(x)\n",
    "\n",
    "x = raiz_cuadrada(64)\n",
    "print(x)\n",
    "y = raiz_cuadrada(16)\n",
    "print(y)"
   ]
  },
  {
   "cell_type": "markdown",
   "metadata": {},
   "source": [
    "Esto podemos escribirlo como una función lambda tal que así:"
   ]
  },
  {
   "cell_type": "code",
   "execution_count": null,
   "metadata": {},
   "outputs": [],
   "source": [
    "r = lambda x: math.sqrt(x)\n",
    "print(r)\n",
    "print(r(64))\n"
   ]
  },
  {
   "cell_type": "markdown",
   "metadata": {},
   "source": [
    "Lo que ocurre aquí es lo siguiente:\n",
    "\n",
    "Definimos una parametro de entrada *x* sobre el cual realizamos una operación *math.sqrt(x)* y devolvemos la función, no el resultado, las funciones lambda nunca necesitan hacer return. \n",
    "\n",
    "Es decir:\n",
    "\n",
    "`lambda` <argumentos>: <operaciones>\n",
    "    \n",
    "Los argumentos pueden ser más de uno, siempre separados por comas y las operaciones también puede ser más de una pero en general suele ser una exclusivamente.\n",
    "\n",
    "Veamos más ejemplos:"
   ]
  },
  {
   "cell_type": "code",
   "execution_count": null,
   "metadata": {},
   "outputs": [],
   "source": [
    "suma = lambda x, y:   x + y\n",
    "\n",
    "print(suma(10, 10))\n",
    "print((lambda x,y: x + y)(10, 20))\n",
    "\n",
    "salida = lambda *x: ' '.join(x)\n",
    "print(salida('Viva', 'Python', '!'))\n",
    "print((lambda *x: ' '.join(x))('Me', 'gusta', 'mas', 'Java'))\n"
   ]
  },
  {
   "cell_type": "markdown",
   "metadata": {},
   "source": [
    "Recordemos que lambda son funciones anonimas, no es necesario asignarlas a una variable primero para llamarlas, como se ve en los ejemplos anteriores. Esta forma de utilizar lambda no es muy común, se suele utilizar en combinación con otras funciones que veremos a continuación."
   ]
  },
  {
   "cell_type": "markdown",
   "metadata": {},
   "source": [
    "Funciones especiales\n",
    "-----------------------\n",
    "\n",
    "Existe un conjunto de funciones *especiales* en Python que suelen ser utilizadas con bastante frecuencia en el mundo del análisis de datos que son  `map`, `filter`, `reduce` ya que como estas requieren una función y una secuencia, suelen ser usadas siempre en combinación. \n",
    "\n",
    "#### Función map\n",
    "\n",
    "La función map aplica una función a una secuencia\n",
    "\n",
    "`map(funcion, secuencia)`\n",
    "\n",
    "Por eso encaja tan bien con lambda, ya que nos permite definir la función justo cuando llamamos a la función map.\n",
    "\n",
    "Ejemplos:"
   ]
  },
  {
   "cell_type": "code",
   "execution_count": null,
   "metadata": {},
   "outputs": [],
   "source": [
    "lista = [1,2,3,4,5]\n",
    "\n",
    "cuadrados = map(lambda x: x*x, lista)\n",
    "print(type(cuadrados))\n",
    "print(list(cuadrados))\n",
    "# O de forma anonima\n",
    "print(list(map((lambda x: x*x), lista)))\n",
    "\n",
    "# Convertir temperaturas de Celsius a Farenheit\n",
    "celsius = [39.2, 36.5, 37.3, 37.8]\n",
    "fahrenheit = map(lambda x: (9/5)*x + 32, celsius)\n",
    "print(list(fahrenheit))"
   ]
  },
  {
   "cell_type": "markdown",
   "metadata": {},
   "source": [
    "#### Función filter \n",
    "\n",
    "La función `filter` se usa para crear una nueva lista filtrando aquellos elementos con el criterio definido en al función lambda\n",
    "\n",
    "`filter(funcion, secuencia)`\n",
    "\n",
    "Ejemplos:\n"
   ]
  },
  {
   "cell_type": "code",
   "execution_count": null,
   "metadata": {},
   "outputs": [],
   "source": [
    "# Filtramos los numeros pares\n",
    "fib = [0,1,1,2,3,5,8,13,21,34,55]\n",
    "res = filter(lambda x: x % 2 !=0, fib)\n",
    "print(list(res))\n",
    "# Filtramos los numero impares\n",
    "res = filter(lambda x: x % 2 == 0, fib)\n",
    "print(list(res))\n",
    "\n",
    "# Filtrar los nombres que no empiezan con 'a'\n",
    "nombres = ['ana', 'pedro', 'juan', 'alvaro', 'maite']\n",
    "res = filter(lambda x: x.startswith('a') , nombres)\n",
    "print(list(res))\n"
   ]
  },
  {
   "cell_type": "markdown",
   "metadata": {},
   "source": [
    "Modulos\n",
    "--------\n",
    "\n",
    "Un modulo es una colección de funciones que ya estan definidas y se pueden utilizar. Existen unas basicas que ya estan dentro de la libreria estandar de Python.\n",
    "Vamos a importar el modulo math entero\n"
   ]
  },
  {
   "cell_type": "code",
   "execution_count": null,
   "metadata": {},
   "outputs": [],
   "source": [
    "import math"
   ]
  },
  {
   "cell_type": "markdown",
   "metadata": {},
   "source": [
    "\n",
    "Ahora podemos utilizar las funciones que el modulo contiene para una descripcion detallada acudir a https://docs.python.org/3/library/math.html"
   ]
  },
  {
   "cell_type": "code",
   "execution_count": null,
   "metadata": {},
   "outputs": [],
   "source": [
    "print(math.factorial(5) ) # devuelve factorial\n",
    "print (math.floor(5.1)) # devuelve redondeo entero hacia abajo\n",
    "print (math.exp(5)) # devuelve e elevado a 5\n",
    "print (math.log10(1000))"
   ]
  },
  {
   "cell_type": "markdown",
   "metadata": {},
   "source": [
    "También podemos importar exclusivamente funciones en particular de un módulo"
   ]
  },
  {
   "cell_type": "code",
   "execution_count": null,
   "metadata": {},
   "outputs": [],
   "source": [
    "import random as ran"
   ]
  },
  {
   "cell_type": "markdown",
   "metadata": {},
   "source": [
    "Ahora podemos importar funciones especificas del modulo random, en este caso hemos importado la funcion random del módulo random.\n",
    "\n",
    "La funcion random devuelve numeros aleatorios entre 0.0 y 1.0"
   ]
  },
  {
   "cell_type": "code",
   "execution_count": null,
   "metadata": {},
   "outputs": [],
   "source": [
    "for i in range(10):\n",
    "    print (random.random())"
   ]
  },
  {
   "cell_type": "markdown",
   "metadata": {},
   "source": [
    "Una vez importada la funcion se puede utilizar dentro de una funcion que nosotros definamos\n",
    "\n"
   ]
  },
  {
   "cell_type": "code",
   "execution_count": null,
   "metadata": {},
   "outputs": [],
   "source": [
    "def n_aleatorios(n):\n",
    "    import sys\n",
    "    print(sys.version)\n",
    "    lista = []\n",
    "    for i in range(n):\n",
    "        lista.append(random.random())\n",
    "    return lista\n",
    "\n",
    "print (n_aleatorios(8))\n",
    "print (n_aleatorios(5))"
   ]
  },
  {
   "cell_type": "markdown",
   "metadata": {},
   "source": [
    "# Ejercicios\n",
    "\n",
    "1 - Define una funcion llamada _raiz_cubica_ que devuelva la raiz cubica de un numero que se pasa como argumento\n"
   ]
  },
  {
   "cell_type": "code",
   "execution_count": null,
   "metadata": {},
   "outputs": [],
   "source": [
    "import math\n",
    "\n",
    "def raiz_cubica(numero):\n",
    "    return numero**(1/3)\n",
    "\n",
    "\n",
    "print(raiz_cubica(27))\n",
    "print(math.pow(27, 1/3))\n",
    "print((lambda x: x**(1/3))(27))\n"
   ]
  },
  {
   "cell_type": "markdown",
   "metadata": {},
   "source": [
    "2 - Define una funcion que se llame _area_circulo_ y que a partir del radio del circulo, devuelva su area. Puedes utilizar como aproximacion al numero PI = 3.1416\n"
   ]
  },
  {
   "cell_type": "code",
   "execution_count": null,
   "metadata": {},
   "outputs": [],
   "source": [
    "from math import pi\n",
    "\n",
    "pi_nuestro = 3.1416\n",
    "\n",
    "def area_circulo(radio, pi):\n",
    "    return pi*(radio**2)\n",
    "\n",
    "print(area_circulo(49, pi))\n",
    "#print(area_circulo(49, pi_nuestro))\n",
    "\n",
    "#print((lambda x: pi*(x**2))(49))"
   ]
  },
  {
   "cell_type": "markdown",
   "metadata": {},
   "source": [
    "3 - Define una funcion que convierta grados Farenheit en centigrados. (Para calcular los grados centigrados has de restar 32 a los grados Farenheit y multiplicar\n",
    "el resultado por cinco novenos.)\n"
   ]
  },
  {
   "cell_type": "code",
   "execution_count": null,
   "metadata": {},
   "outputs": [],
   "source": [
    "def convertir_farenheit_celsius(medida):\n",
    "    return (medida - 32) * (5/9)\n",
    "\n",
    "print(convertir_farenheit_celsius(100))\n",
    "print(convertir_farenheit_celsius(50))\n",
    "print(convertir_farenheit_celsius(220))\n"
   ]
  },
  {
   "cell_type": "markdown",
   "metadata": {},
   "source": [
    "4 - Define una funcion que convierta grados centigrados en grados Farenheit.\n",
    "\n"
   ]
  },
  {
   "cell_type": "code",
   "execution_count": null,
   "metadata": {},
   "outputs": [],
   "source": [
    "def convertir_celsius_farenheit(medida):\n",
    "    return (medida * 9/5) + 32\n",
    "\n",
    "print(convertir_celsius_farenheit(37))\n",
    "print(convertir_celsius_farenheit(10))\n",
    "print(convertir_celsius_farenheit(104))"
   ]
  },
  {
   "cell_type": "markdown",
   "metadata": {},
   "source": [
    "5 - Define una funcion que convierta radianes en grados.(Recuerda que 360 grados son 2PI radianes.)\n",
    "\n"
   ]
  },
  {
   "cell_type": "code",
   "execution_count": null,
   "metadata": {},
   "outputs": [],
   "source": [
    "from math import pi\n",
    "\n",
    "def convertir_radianes_grados(radianes):\n",
    "    return (radianes * 180) / pi\n",
    "\n",
    "print(convertir_radianes_grados(1))\n",
    "print(convertir_radianes_grados(15))\n",
    "print(convertir_radianes_grados(-15))\n"
   ]
  },
  {
   "cell_type": "markdown",
   "metadata": {},
   "source": [
    "6 - Define una funcion que convierta grados en radianes.\n"
   ]
  },
  {
   "cell_type": "code",
   "execution_count": null,
   "metadata": {},
   "outputs": [],
   "source": [
    "from math import pi\n",
    "\n",
    "def convertir_grados_radianes(grados):\n",
    "    return (grados * pi) / 180\n",
    "\n",
    "print(convertir_grados_radianes(57))\n",
    "print(convertir_grados_radianes(180))\n",
    "print(convertir_grados_radianes(270))"
   ]
  },
  {
   "cell_type": "markdown",
   "metadata": {},
   "source": [
    "7 - Disena una funcion que reciba una cadena y devuelva cierto si empieza por minuscula\n",
    "y falso en caso contrario.\n",
    "\n",
    "\n"
   ]
  },
  {
   "cell_type": "code",
   "execution_count": null,
   "metadata": {},
   "outputs": [],
   "source": [
    "def minuscula(cadena):\n",
    "    return cadena[0].lower() == cadena[0]\n",
    "\n",
    "minuscula('abracadabra')\n",
    "minuscula('Atchus')\n",
    "\n",
    "#print((lambda x: x[0].lower() == x[0])('abracadabra'))\n",
    "#print((lambda x: x[0].lower() == x[0])('Abracadabra'))"
   ]
  },
  {
   "cell_type": "markdown",
   "metadata": {},
   "source": [
    "8 - Disena una funcion llamada es_repeticion que reciba una cadena y nos diga si la cadena esta formada mediante la concatenacion de una cadena consigo misma. Por ejemplo, es_repeticion('abab') devolvera True, pues la cadena 'abab' esta formada con la cadena 'ab' repetida; por contra es_repeticion('ababab') devolvera False.\n"
   ]
  },
  {
   "cell_type": "code",
   "execution_count": null,
   "metadata": {},
   "outputs": [],
   "source": [
    "def es_repeticion(cadena):\n",
    "    mitad = int(len(cadena)/2)\n",
    "    print(cadena[:mitad])\n",
    "    print(cadena[mitad:])\n",
    "    if cadena[:mitad] == cadena[mitad:]:\n",
    "        return True\n",
    "    \n",
    "#es_repeticion('abab')\n",
    "\n",
    "print((lambda x: x[:int(len(x)/2)] == x[int(len(x)/2):])('abab'))"
   ]
  },
  {
   "cell_type": "markdown",
   "metadata": {},
   "source": [
    "9 - Disena una funcion que, dada una lista de numeros enteros, devuelva el numero de series que hay en ella. Llamamos serie a todo tramo de la lista con valores identicos.Por ejemplo, la lista [1, 1, 8, 8, 8, 8, 0, 0, 0, 2, 10, 10] tiene 5 series (ten en cuenta que el 2 forma parte de una serie de un solo elemento).\n"
   ]
  },
  {
   "cell_type": "code",
   "execution_count": null,
   "metadata": {},
   "outputs": [],
   "source": [
    "def series(numeros):\n",
    "    series = 1\n",
    "    valor = numeros[0]\n",
    "    for numero in numeros[1:]:\n",
    "        if numero != valor:\n",
    "            series += 1\n",
    "            valor = numero\n",
    "    return series\n",
    "            \n",
    "lista =  [1, 1, 8, 8, 8, 8, 0, 0, 0, 2, 10, 10]\n",
    "series(lista)"
   ]
  },
  {
   "cell_type": "markdown",
   "metadata": {},
   "source": [
    "10 - Disena una funcion que diga en que posicion empieza la ((serie)) mas larga de una lista. En el ejemplo del ejercicio anterior, la serie mas larga empieza en la posicion 2 (que es el indice donde aparece el primer 8)  (Nota: si hay dos series de igual longitud y esta es la mayor, debes\n",
    "devolver la posicion de la primera de las series. Por ejemplo, para [8, 2, 2, 9, 9] deber´as\n",
    "devolver la posicion 1.)\n",
    "\n"
   ]
  },
  {
   "cell_type": "code",
   "execution_count": null,
   "metadata": {},
   "outputs": [],
   "source": [
    "def series(numeros):\n",
    "    longitudes = {}\n",
    "    indice = 0\n",
    "    valor = numeros[0]\n",
    "    \n",
    "    for posicion, numero in enumerate(numeros[1:]):\n",
    "        if numero != valor:\n",
    "            if indice in longitudes.keys():\n",
    "                longitudes[indice].append(valor)\n",
    "                valor = numero\n",
    "                indice = posicion + 1\n",
    "            else:\n",
    "                longitudes[indice] = []\n",
    "                longitudes[indice].append(valor)\n",
    "                valor = numero\n",
    "                indice = posicion + 1\n",
    "                longitudes[indice] = []\n",
    "                longitudes[indice].append(numero)\n",
    "\n",
    "            \n",
    "        else:\n",
    "            if indice in longitudes.keys(): \n",
    "                longitudes[indice].append(numero)\n",
    "            else:\n",
    "                longitudes[indice] = []\n",
    "                longitudes[indice].append(numero)\n",
    "            \n",
    "    return longitudes\n",
    "            \n",
    "lista =  [1, 1, 8, 8, 8, 8, 0, 0, 0, 2, 10, 10]\n",
    "dictionary = series(lista)\n",
    "\n",
    "longitud = 0\n",
    "posicion = 0\n",
    "for key, value in dictionary.items():\n",
    "    if len(value) > longitud:\n",
    "        longitud = len(value)\n",
    "        posicion = key\n",
    "        \n",
    "print('La serie mas larga tiene {0} elementos y estaba en la posicion {1} en la lista'.format(longitud, posicion))"
   ]
  },
  {
   "cell_type": "markdown",
   "metadata": {},
   "source": [
    "11 - Escribe un programa que genere 20 numeros aleatorios entre 0 y 10. Utiliza las funciones que necesites de los diferentes modulos de python.   NOTA: Puedes usar alguna de las funciones del modulo _random_.\n"
   ]
  },
  {
   "cell_type": "code",
   "execution_count": null,
   "metadata": {},
   "outputs": [],
   "source": [
    "import random\n",
    "\n",
    "def generar(rango, elementos):\n",
    "    return [random.randint(0, rango) for x in range(elementos)]\n",
    "\n",
    "print(generar(10, 20))"
   ]
  },
  {
   "cell_type": "markdown",
   "metadata": {},
   "source": [
    "12 - Escribe un programa que simule el lanzamiento de un dado 10 veces. Cuales son los resultados? son aleatorios? si repites varias veces la prueba que ocurre?\n"
   ]
  },
  {
   "cell_type": "code",
   "execution_count": null,
   "metadata": {},
   "outputs": [],
   "source": [
    "import random\n",
    "\n",
    "def lanzar_dado(iteraciones):\n",
    "    return [random.randint(1, 6) for x in range(iteraciones)]\n",
    "\n",
    "print(lanzar_dado(10))\n",
    "print(lanzar_dado(10))\n",
    "print(lanzar_dado(10))\n",
    "print(lanzar_dado(10))"
   ]
  },
  {
   "cell_type": "markdown",
   "metadata": {},
   "source": [
    "13 - Escribe una funcion que dada una lista de enteros calcule la media, mediana, desviacion estandar, varianza y la suma de los factoriales de los elementos de la lista.\n",
    "\n"
   ]
  },
  {
   "cell_type": "code",
   "execution_count": null,
   "metadata": {},
   "outputs": [],
   "source": [
    "import statistics as st\n",
    "import random\n",
    "\n",
    "numeros = [random.randint(1, 1000) for x in range(50)]\n",
    "\n",
    "print('La lista es {0}'.format(numeros))\n",
    "print('La media es {0}'.format(st.mean(numeros)))\n",
    "print('La mediana es {0}'.format(st.median(numeros)))\n",
    "print('La desviacion estandar es {0}'.format(st.pstdev(numeros)))\n",
    "print('La varianza es {0}'.format(st.pvariance(numeros)))\n",
    "\n"
   ]
  },
  {
   "cell_type": "markdown",
   "metadata": {},
   "source": [
    "14 - El modulo _time_ se puede utilizar para medir la ejecucion de un programa. Escribe un programa que permita medir el tiempo de ejecucion en segundos de un programa.\n",
    "\n"
   ]
  },
  {
   "cell_type": "code",
   "execution_count": null,
   "metadata": {},
   "outputs": [],
   "source": [
    "import timeit\n",
    "import random\n",
    "import math\n",
    "\n",
    "start_time = timeit.default_timer()\n",
    "\n",
    "numeros = [random.randint(2, 10000) for x in range(100)]\n",
    "print(numeros)\n",
    "for numero in numeros:\n",
    "    factorial = 0\n",
    "    if numero < 0:\n",
    "        next\n",
    "    elif numero == 0:\n",
    "        next\n",
    "    else:\n",
    "        for i in range(1, numero + 1):\n",
    "            factorial = factorial * i\n",
    "\n",
    "\n",
    "milisegundos = int(math.ceil(1000 * (timeit.default_timer() - start_time)))\n",
    "print(milisegundos)"
   ]
  },
  {
   "cell_type": "markdown",
   "metadata": {},
   "source": [
    "15 - Escribe un programa que cree una lista vacia y le anada 1 millon de elementos de dos formas diferentes. Primero utilizando el operador _+_ (que va concatenando listas). Posteriormente utilizando el metodo append. Mide el tiempo de ejecucion de ambos. Ves alguna diferencia?\n"
   ]
  },
  {
   "cell_type": "code",
   "execution_count": null,
   "metadata": {},
   "outputs": [],
   "source": [
    "import timeit\n",
    "import random\n",
    "import math\n",
    "\n",
    "start_time = timeit.default_timer()\n",
    "\n",
    "numeros = [x for x in range(1000000)]\n",
    "#print(numeros)\n",
    "\n",
    "milisegundos = int(math.ceil(1000 * (timeit.default_timer() - start_time)))\n",
    "print(milisegundos)\n",
    "\n",
    "start_time = timeit.default_timer()\n",
    "\n",
    "lista = []\n",
    "for x in range(1000000):\n",
    "    lista.append(x)\n",
    "#print(numeros)\n",
    "\n",
    "milisegundos = int(math.ceil(1000 * (timeit.default_timer() - start_time)))\n",
    "print(milisegundos)\n",
    "\n"
   ]
  },
  {
   "cell_type": "markdown",
   "metadata": {},
   "source": [
    "\n",
    "16 - Crea un programa que permita gestionar funciones sencillas de un cajero automatico. Las funciones que tiene que tener el menu son las siguientes:  \n",
    "\n",
    "1 - Retirar dinero  \n",
    "2 - Ingresar dinero  \n",
    "3 - Consultar saldo  \n",
    "4 - Salir  \n",
    "\n",
    "Crea una variable con 1000 euros de saldo. Cuando el usuario ejecute el programa, y vaya realizando cada una de las operaciones, la variable saldo debe actualizarse correspondientemente. Por ejemplo, si efectuamos una operacion de retirar saldo, el saldo debe verse decrementado por la cantidad retirada y asi con las demas operaciones. \n",
    "\n",
    "NOTA: Es importante que tengas en cuenta el control del saldo. El saldo bajo ningun concepto puede ser negativo\n",
    "\n",
    "\n",
    "\n"
   ]
  },
  {
   "cell_type": "code",
   "execution_count": null,
   "metadata": {},
   "outputs": [],
   "source": [
    "saldo = 1000\n",
    "    \n",
    "operacion = input('''Por favor introduzca la operacion a realizar:\n",
    "[1] Retirar dinero\n",
    "[2] Ingresar dinero\n",
    "[3] Consultar saldo\n",
    "[4] Salir\n",
    "''')\n",
    "\n",
    "while operacion != '4':\n",
    "    \n",
    "    operacion = input('''Por favor introduzca la operacion a realizar:\n",
    "[1] Retirar dinero\n",
    "[2] Ingresar dinero\n",
    "[3] Consultar saldo\n",
    "[4] Salir\n",
    "    ''')\n",
    "    \n",
    "    if operacion == '1':\n",
    "        if saldo <= 0:\n",
    "            print('No tiene saldo suficiente para retirar ninguna cantidad')\n",
    "        else:\n",
    "            cantidad = input('Por favor introduzca la cantidad a retirar, el saldo disponible es {0}€'.format(saldo))\n",
    "            if int(cantidad) > saldo:\n",
    "                print('No dispone de fondos suficientes')\n",
    "            else:\n",
    "                saldo -= int(cantidad)\n",
    "                print('Gracias por hacer uso de nuestros cajeros de la red MakeMeRich')    \n",
    "    elif operacion == '2':\n",
    "        cantidad = input('Por favor introduzca la cantidad a ingresar, el saldo disponible es {0}€'.format(saldo))\n",
    "        saldo += int(cantidad)\n",
    "        print('Gracias por hacer uso de nuestros cajeros de la red MakeMeRich')  \n",
    "    elif operacion == '3':\n",
    "        print('El saldo disponible es {0}€'.format(saldo))\n",
    "        print('Gracias por hacer uso de nuestros cajeros de la red MakeMeRich')  \n",
    "    \n"
   ]
  },
  {
   "cell_type": "markdown",
   "metadata": {},
   "source": [
    "17 - Una matriz puede ser representada en Python como una lista de listas. Por ejemplo:  \n",
    "    \n",
    "    a = [[1, 2, 3],[4, 5, 6],[7, 8, 9]]  representa la matriz\n",
    "    \n",
    "    1  2  3\n",
    "    4  5  6\n",
    "    7  8  9\n",
    "    \n",
    "    Escribe una funcion que dadas dos matrices, realice su suma. Ten en cuenta que deberas comprobar que la suma se puede realizar. Para que se pueda llevar a cabo la suma de matrices, ambas matrices deben tener el mismo numero de dimensiones. A modo de ejemplo:\n",
    "    \n",
    "    1 1      2 2    3 3\n",
    "    1 1  +   2 2 =  3 3\n",
    "    1 1      2 2    3 3\n",
    "\n"
   ]
  },
  {
   "cell_type": "code",
   "execution_count": null,
   "metadata": {},
   "outputs": [],
   "source": [
    "a = [[1, 2, 3],[4, 5, 6],[7, 8, 9]]\n",
    "b = [[9, 8, 7],[6, 5, 4],[3, 2, 1]]\n",
    "\n",
    "\n",
    "# Comprobamos si las dos listas tienen el mismo numero de elemento, sino tienen dimensiones distintas\n",
    "if len(a) == len(b):\n",
    "    lista_a = all(len(x) == len(a[0]) for x in a)\n",
    "    lista_b = all(len(x) == len(b[0]) for x in a)\n",
    "    if lista_a and lista_b:\n",
    "        if len(a[0]) == len(b[0]):\n",
    "            # Matriz resultado inicializada a ceros para poder acceder por posicion a fila - columna\n",
    "            resultado = [[0] * len(a[0]) for _ in range(len(a[0]))]\n",
    "            # iteramos las filas\n",
    "            for i in range(len(a)):\n",
    "                # iteramos las columnas\n",
    "                for j in range(len(b)):\n",
    "                    resultado[i][j] = a[i][j] + b[i][j]\n",
    "            print(resultado)\n",
    "\n",
    "        else:\n",
    "            print('Las dos listas son de tamaño distinto, no se puede continuar')\n",
    "    else:\n",
    "        print('Las dos listas son de tamaño distinto, no se puede continuar')\n",
    "\n",
    "else:\n",
    "    print('Las dos listas son de tamaño distinto, no se puede continuar')\n",
    "    "
   ]
  },
  {
   "cell_type": "markdown",
   "metadata": {},
   "source": [
    "18 - Escribe una funcion que simule el lanzamiento de una moneda al aire n veces. La funcion debe devolver el numero de caras y cruces que han salido\n",
    "\n"
   ]
  },
  {
   "cell_type": "code",
   "execution_count": null,
   "metadata": {},
   "outputs": [],
   "source": [
    "import random\n",
    "\n",
    "muestras = [ random.randint(0, 1) for i in range(100) ]\n",
    "caras = muestras.count(0)\n",
    "cruzes = muestras.count(1)\n",
    "\n",
    "for m in muestras:\n",
    "    msg = 'Caras' if m==0 else 'Cruzes'\n",
    "    print(msg)\n",
    "\n",
    "print(\"Numero caras es %d, Nuemero cruzes es %d\" % (caras, cruzes))"
   ]
  },
  {
   "cell_type": "markdown",
   "metadata": {},
   "source": [
    "19 - Escribe una funcion que simule el lanzamiento de una moneda trucada al aire n veces. La moneda esta trucada para que 7 de cada 10 veces salga cara. La funcion debe devolver el numero de caras y cruces que han salido\n",
    "\n"
   ]
  },
  {
   "cell_type": "code",
   "execution_count": null,
   "metadata": {},
   "outputs": [],
   "source": [
    "import random\n",
    "\n",
    "muestras = [ random.randint(0, 1) for i in range(100) ]\n",
    "\n",
    "iteraciones = 1000\n",
    "caras = 0\n",
    "cruzes = 0\n",
    "\n",
    "def tiro_dado(prob_cara=0.7):\n",
    "    return random.random() < prob_cara\n",
    "\n",
    "for x in range(10):\n",
    "    \n",
    "    if tiro_dado():\n",
    "        #print(\"Cara\")\n",
    "        caras += 1\n",
    "    else:\n",
    "        #print(\"Cruzes\")\n",
    "        cruzes += 1\n",
    "\n",
    "print(\"Numero caras es %d, Nuemero cruzes es %d\" % (caras, cruzes))"
   ]
  },
  {
   "cell_type": "markdown",
   "metadata": {},
   "source": [
    "20 - El modulo _scipy.stats_ permite acceder a funciones estadisticas. Utiliza la funcion _ttest\\_ind_ para realizar un test de Student que compare la nota media de dos clases.\n"
   ]
  },
  {
   "cell_type": "code",
   "execution_count": null,
   "metadata": {},
   "outputs": [],
   "source": [
    "# Enunciado incompleto, ignorar"
   ]
  },
  {
   "cell_type": "markdown",
   "metadata": {},
   "source": [
    "21 - Cuando nos registramos en una web es necesario validar la direccion de email y si cumple con un formato correcto de modo que la web nos pueda decir que ha habido un problema y permitar corregir la direccion. Escribe un programa que chequee si una direccion de email es valida o no. Despues haz un programa que pida una direccion a un usuario y diga si es correcta o no. En caso de no serlo, debera imprimir un mensaje de aviso y dejar volver a pedir al usuario que introduzca la direccion.\n",
    "Algunos ejemplos de direcciones validas son:  \n",
    "\n",
    "\n",
    "info@unavarra.es  \n",
    "the_uni00d@gmail.com\n",
    "\n",
    "Algunos ejemplos de direcciones NO validas son:\n",
    "\n",
    "jose garcia@hotmail.com  \n",
    "cristina@gmail\n"
   ]
  },
  {
   "cell_type": "code",
   "execution_count": null,
   "metadata": {},
   "outputs": [],
   "source": [
    "import re\n",
    "\n",
    "def validar_direccion(email):\n",
    "    patron = r'[^@]+@[^@]+\\.[^@]+'\n",
    "    if re.match(patron, email):\n",
    "        return True\n",
    "    else:\n",
    "        return False\n",
    "\n",
    "print(validar_direccion('jose garcia@hotmail.com'))\n",
    "print(validar_direccion('jose garcia@hotm'))"
   ]
  },
  {
   "cell_type": "markdown",
   "metadata": {},
   "source": [
    "22 - Escribe una funcion que verifique si una password cumple los requisitos necesarios para poder aceptarlo. Estos son:\n",
    "* Al menos debe tener una letra mayusculas\n",
    "* Al menos una letra en minusculas\n",
    "* Al menos debe tener 8 caracteres de longitud\n",
    "\n",
    "Testea y asegurate que la funcion hace su cometido correctamente.\n",
    "\n",
    "\n",
    "\n"
   ]
  },
  {
   "cell_type": "code",
   "execution_count": null,
   "metadata": {},
   "outputs": [],
   "source": [
    "import re\n",
    "\n",
    "def validar_password(password):\n",
    "    # Usamos un nuevo tipo de agrupamiento conocido como lookaround que no cuantifica los matches, mas info \n",
    "    # https://www.regular-expressions.info/lookaround.html, esto nos permite comprobar que con tres grupos, \n",
    "    # existen al menos un caracter de los 8 que forman el password que es mayuscula, minuscula y/o digito, en \n",
    "    # cualquier posicion del string (por eso importante lo de no contarlo)\n",
    "    patron = r'^(?=.*[A-Z])(?=.*[a-z])(?=.*\\d)[a-zA-Z\\d]{8,}$'\n",
    "    if re.match(patron, password):\n",
    "        return True\n",
    "    else:\n",
    "        return False\n",
    "\n",
    "print(validar_password(('aaaaaaaaaaaa')))\n",
    "print(validar_password(('aaaaa333AZaaa')))\n",
    "print(validar_password(('333AZaaaddd2')))\n",
    "print(validar_password(('AZaaaddd2')))"
   ]
  },
  {
   "cell_type": "markdown",
   "metadata": {},
   "source": [
    "23 - Utilizando las funciones definidas en los ejercicios anteriores escribe un programa que sirva para registrar a un usuario en una pagina web. Debera primero pedir el usuario que debe ser un direccion de email y luego el password. Realiza todas las comprobaciones necesarias y controles de errores que creas convenientes. Al final de la creacion debera mostrarse un mensaje indicando que la creacion se ha realizado correctamente.\n",
    "\n"
   ]
  },
  {
   "cell_type": "code",
   "execution_count": null,
   "metadata": {},
   "outputs": [],
   "source": [
    "import re\n",
    "\n",
    "\n",
    "def validar_direccion(email):\n",
    "    patron = r'[^@]+@[^@]+\\.[^@]+'\n",
    "    if re.match(patron, email):\n",
    "        return True\n",
    "    else:\n",
    "        return False\n",
    "\n",
    "def validar_password(password):\n",
    "    patron = r'^(?=.*[A-Z])(?=.*[a-z])(?=.*\\d)[a-zA-Z\\d]{8,}$'\n",
    "    if re.match(patron, password):\n",
    "        return True\n",
    "    else:\n",
    "        return False\n",
    "    \n",
    "def registrar_usuario():\n",
    "    finalizado = False\n",
    "    while not finalizado:\n",
    "        direccion = input('Por favor introduzca una dirección de correo eletrónico...')\n",
    "        if validar_direccion(direccion):\n",
    "            password = input('Por favor introduzca su contraseña, debe tener como mínimo 8 caracteres, contener una mayuscula, una minuscula y un dígito')\n",
    "            if validar_password(password):\n",
    "                print('Enhorabuena, ha creado un usuario en nuestra página web con usuario {0} y contraseña {1}'.format(direccion, password))\n",
    "                finalizado = True\n",
    "            else:\n",
    "                print('La contraseña introducida es incorrecta, lo sentimos, intentelo de nuevo')\n",
    "        else:\n",
    "            print('La dirección introducida es incorrecta, lo sentimos, intentelo de nuevo')\n",
    "            \n",
    "registrar_usuario()"
   ]
  },
  {
   "cell_type": "markdown",
   "metadata": {},
   "source": [
    "24 - Vamos a escribir nuestro primero juego. El _mastermind_. En este juego se genera un numero aleatorio de 4 cifras y el usuario debe adivinarlo en el menor numero de intentos posible. Cada vez que el usuario escribe un numero, se comprueban cuantos digitos son correctos y se informa pero no se dice si la posicion es correcta o no. Podemos indicar el numero de digitos correctos utilizando \\* por ejemplo. Veamos una ejecucion:\n",
    "\n",
    "---MASTERMIND---  \n",
    "\n",
    "1> 1442  \n",
    "\\*  \n",
    "2> 2443  \n",
    "  \n",
    "3> 1321  \n",
    "\\*  \n",
    "4> 1214  \n",
    "\\*  \n",
    "5> 1134  \n",
    "\\****\n",
    "\n",
    "Bien hecho, has acertado el numero en 5 intentos\n",
    "\n"
   ]
  },
  {
   "cell_type": "code",
   "execution_count": null,
   "metadata": {},
   "outputs": [],
   "source": [
    "from random import randint\n",
    "\n",
    "# Generamos un numero aleatorio de 4 digitos del 1-9 cada uno\n",
    "numeros = [randint(1, 9) for _ in range(4)]\n",
    "num_intentos = 0\n",
    "aciertos = None\n",
    "\n",
    "# Iteramos hasta no haber descubierto todos los numeros\n",
    "while numeros != aciertos:\n",
    "    # Pedimos cuatro valores al usuario, uno por digito y lo metemos en una lista\n",
    "    aciertos = [\n",
    "        int(input(\"Introduce el primer digito: \")),\n",
    "        int(input(\"Introduce el segundo digito: \")),\n",
    "        int(input(\"Introduce el tercer digito: \")),\n",
    "        int(input(\"Introduce el cuarto digito: \"))\n",
    "    ]\n",
    "\n",
    "    num_intentos += 1\n",
    "\n",
    "    # Mostramos un mensaje con el numero de aciertos.\n",
    "    numero_aciertos = len([1 for i in range(4) if numeros[i] == aciertos[i]])\n",
    "    print('Has acertado {0} numeros'.format(numero_aciertos))\n",
    "\n",
    "# Si ha ganado mostramos un mensaje \n",
    "print('¡Enhorabuena!')\n",
    "print('Has necesitado {0} intentos para adivinar el numero'.format(num_intentos))"
   ]
  },
  {
   "cell_type": "markdown",
   "metadata": {},
   "source": [
    "25 - Crear el juego del ahorcado, debes obtener una palabra aleatoria del fichero listado-general.txt y usarla para que la adivine el jugador. El jugador dispone de 10 intentos para adivinar la palabra, sino finaliza la partida. Visualiza "
   ]
  },
  {
   "cell_type": "code",
   "execution_count": null,
   "metadata": {},
   "outputs": [],
   "source": [
    "import time\n",
    "import random\n",
    "\n",
    "def genera_palabra():\n",
    "    # Esta funcion selecciona una palabra al azar del fichero con palabras\n",
    "    with open('listado-general.txt', 'r') as f:\n",
    "        n_words = len(f.readlines())\n",
    "    n = random.randrange(1, n_words, 1)\n",
    "    with open('listado-general.txt', 'r') as f:\n",
    "        for ii in range(n):\n",
    "            word = f.readline()\n",
    "            if ii == n:\n",
    "                break\n",
    "    return word\n",
    "\n",
    "\n",
    "def actualizar_progreso(intento, palabra, progreso):\n",
    "    i = 0\n",
    "    while i < len(palabra):\n",
    "        if intento == palabra[i]:\n",
    "            progreso[i] = intento\n",
    "            i += 1\n",
    "        else:\n",
    "            i += 1\n",
    "    return \"\".join(progreso)                \n",
    "                \n",
    "\n",
    "def dibuja_ahorcado(n=1):\n",
    "    if n==1:\n",
    "        print('|')\n",
    "    elif n==2:\n",
    "        print('''\n",
    "| \n",
    "|\n",
    "''')\n",
    "    elif n==3:\n",
    "        print('''\n",
    "|\n",
    "| \n",
    "|\n",
    "''')\n",
    "    elif n==4:\n",
    "        print(''' \n",
    "| \n",
    "|\n",
    "| \n",
    "|\n",
    "''')\n",
    "    elif n==5:\n",
    "        print('''\n",
    "_________ \n",
    "|   \n",
    "|\n",
    "| \n",
    "|\n",
    "| \n",
    "|\n",
    "''')\n",
    "    elif n==6:\n",
    "        print('''\n",
    "_________ \n",
    "|  | \n",
    "|\n",
    "| \n",
    "|\n",
    "| \n",
    "|\n",
    "''')\n",
    "    elif n==7:\n",
    "        print('''\n",
    "_________ \n",
    "|  | \n",
    "|  0\n",
    "| \n",
    "|\n",
    "| \n",
    "|\n",
    "''')\n",
    "    elif n==8:\n",
    "        print('''\n",
    "_________ \n",
    "|  | \n",
    "|  0\n",
    "|  |\n",
    "|\n",
    "| \n",
    "|\n",
    "''')\n",
    "    elif n==9:\n",
    "        print('''\n",
    "_________ \n",
    "|  | \n",
    "|  0\n",
    "|  |\n",
    "| /\n",
    "| \n",
    "|\n",
    "''')\n",
    "    elif n==10:\n",
    "        print('''\n",
    "_________ \n",
    "|  | \n",
    "|  0\n",
    "|  |\n",
    "| / \\\\\n",
    "| \n",
    "|\n",
    "''')  \n",
    "\n",
    "palabra = genera_palabra()\n",
    "palabra = ''.join(palabra.strip())\n",
    "print(palabra)\n",
    "\n",
    "print('Bienvenido al juego del ahorcado...')\n",
    "print('Tiene 10 oportunidades para averiguar la palabra')\n",
    "print('La palabra a adivinar tiene {0} letras '.format(len(palabra)))\n",
    "\n",
    "# Esperamos un segundo\n",
    "time.sleep(1)\n",
    "\n",
    "print('Empezamos...')\n",
    "time.sleep(0.5)\n",
    "\n",
    "aciertos = ''\n",
    "\n",
    "# Almacenamos el numero de tiradas\n",
    "fallos = 0\n",
    "letras_usadas = []\n",
    "progreso = ['?' for x in range(len(palabra))]\n",
    "\n",
    "# Iteramos hasta que no queden tiradas\n",
    "while fallos < 10:         \n",
    "\n",
    "    intento = input(\"Introduce una letra...\\n\")\n",
    "\n",
    "    if intento in palabra and intento not in letras_usadas:\n",
    "        print(\"Parece que has acertado...\")\n",
    "        letras_usadas += intento\n",
    "        # Comprobamos si ya ha acertado todo...\n",
    "        progreso_actual = actualizar_progreso(intento, palabra, progreso)\n",
    "        if progreso_actual == palabra:\n",
    "            print('Enhorabuena, has ganado! Te libras de la horca!!')\n",
    "            break\n",
    "        dibuja_ahorcado(fallos + 1)\n",
    "        print(\"Progreso: \" + progreso_actual)\n",
    "        print(\"Letras usadas: {0}\".format(letras_usadas))\n",
    "    elif intento not in palabra and intento not in letras_usadas:\n",
    "        fallos += 1\n",
    "        print(\"Parece que te has equivocado...la soga empieza a apretar..\") \n",
    "        letras_usadas += intento\n",
    "        dibuja_ahorcado(fallos + 1)\n",
    "        print(\"Progreso: \" + actualizar_progreso(intento, palabra, progreso))\n",
    "        print(\"Letras usadas: {0}\".format(letras_usadas))\n",
    "    else:\n",
    "        print(\"Esa letra ya las has utilizado...intentalo de nuevo\")\n",
    "\n",
    "if fallos > 9:\n",
    "    print('Lo sentimos, pero parece que has acabado colgado')\n",
    "\n",
    "\n",
    "        \n"
   ]
  },
  {
   "cell_type": "code",
   "execution_count": null,
   "metadata": {},
   "outputs": [],
   "source": []
  },
  {
   "cell_type": "code",
   "execution_count": null,
   "metadata": {},
   "outputs": [],
   "source": []
  },
  {
   "cell_type": "code",
   "execution_count": null,
   "metadata": {},
   "outputs": [],
   "source": []
  }
 ],
 "metadata": {
  "kernelspec": {
   "display_name": "Python 3",
   "language": "python",
   "name": "python3"
  },
  "language_info": {
   "codemirror_mode": {
    "name": "ipython",
    "version": 3
   },
   "file_extension": ".py",
   "mimetype": "text/x-python",
   "name": "python",
   "nbconvert_exporter": "python",
   "pygments_lexer": "ipython3",
   "version": "3.5.2"
  }
 },
 "nbformat": 4,
 "nbformat_minor": 1
}
