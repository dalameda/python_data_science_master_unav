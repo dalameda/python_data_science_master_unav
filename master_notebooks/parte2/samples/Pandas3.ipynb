{
 "cells": [
  {
   "cell_type": "markdown",
   "metadata": {},
   "source": [
    "# Trabajando con Pandas"
   ]
  },
  {
   "cell_type": "code",
   "execution_count": 1,
   "metadata": {
    "collapsed": true
   },
   "outputs": [],
   "source": [
    "import pandas as pd # import pandas\n",
    "import numpy as np # import numpy\n",
    "import matplotlib.pyplot as plt # import libreria para plotear\n",
    "pd.set_option('max_columns', 50) # maximo de columnas a mostrar cuando se muestra un pandas dataframe\n",
    "# indica a python que plotee en el notebook\n",
    "from IPython.display import display, HTML\n",
    "%matplotlib inline "
   ]
  },
  {
   "cell_type": "markdown",
   "metadata": {},
   "source": [
    "## Inspeccion"
   ]
  },
  {
   "cell_type": "markdown",
   "metadata": {},
   "source": [
    "Inspeccion de dataframes. Primero cargamos el fichero."
   ]
  },
  {
   "cell_type": "code",
   "execution_count": 1,
   "metadata": {},
   "outputs": [
    {
     "ename": "TypeError",
     "evalue": "len() takes exactly one argument (0 given)",
     "output_type": "error",
     "traceback": [
      "\u001b[0;31m---------------------------------------------------------------------------\u001b[0m",
      "\u001b[0;31mTypeError\u001b[0m                                 Traceback (most recent call last)",
      "\u001b[0;32m<ipython-input-1-adf3103c7c3e>\u001b[0m in \u001b[0;36m<module>\u001b[0;34m()\u001b[0m\n\u001b[0;32m----> 1\u001b[0;31m \u001b[0mlen\u001b[0m\u001b[0;34m(\u001b[0m\u001b[0;34m)\u001b[0m\u001b[0;34m\u001b[0m\u001b[0m\n\u001b[0m",
      "\u001b[0;31mTypeError\u001b[0m: len() takes exactly one argument (0 given)"
     ]
    }
   ],
   "source": [
    "len()"
   ]
  },
  {
   "cell_type": "code",
   "execution_count": 150,
   "metadata": {},
   "outputs": [],
   "source": [
    "columnas = ['idsub','sexo','edad','altura','peso','tratamiento','supervivencia']\n",
    "#sexo = np.random.choice([0,1], 100, p = [.5,.5])\n",
    "idsub = np.arange(1000,1100,1)\n",
    "sexo = np.concatenate((np.zeros(50), np.ones(50)))\n",
    "edad = np.random.randint(20, high=70, size=100)\n",
    "altura_mujer = np.random.randint(150, high=175, size=50)\n",
    "altura_hombre = np.random.randint(160, high=190, size=50)\n",
    "altura = np.concatenate((altura_hombre, altura_mujer))\n",
    "peso_mujer = np.random.randint(50, high=70, size=50)\n",
    "peso_hombre = np.random.randint(55, high=90, size=50)\n",
    "peso = np.concatenate((peso_hombre, peso_mujer))\n",
    "tratamiento = np.random.choice([0,1], 100, p = [.5,.5])\n",
    "supervivencia = np.random.choice([1,2,3,4,5], 100, p = [.1,.2,.3,.1,.3])\n",
    "\n",
    "df = pd.DataFrame(np.transpose([idsub,sexo,edad,altura,peso,tratamiento,supervivencia]), columns = columnas)\n",
    "df.to_csv('sanity.csv', index=0)"
   ]
  },
  {
   "cell_type": "code",
   "execution_count": 3,
   "metadata": {
    "collapsed": true
   },
   "outputs": [],
   "source": [
    "df = pd.read_csv('sanity.csv')"
   ]
  },
  {
   "cell_type": "markdown",
   "metadata": {},
   "source": [
    "El dataset contiene datos de un estudio realizado sobre pacientes con cancer de pulmon. Esta estructurado de la forma siguiente:\n",
    "\n",
    "idbus --> identificador de la persona en el hospital  \n",
    "sexo --> 0 (varon), 1 (mujer)  \n",
    "edad --> edad de la persona  \n",
    "altura --> altura de la persona en cm  \n",
    "peso --> peso de la persona en kg  \n",
    "tratamiento --> 0 (quimioterapia), 1 (radioterapia)  \n",
    "supervivencia --> años de supervivencia desde el tratamiento   \n",
    "\n",
    "------------------------------------------------------------"
   ]
  },
  {
   "cell_type": "code",
   "execution_count": 41,
   "metadata": {},
   "outputs": [
    {
     "data": {
      "text/html": [
       "<div>\n",
       "<table border=\"1\" class=\"dataframe\">\n",
       "  <thead>\n",
       "    <tr style=\"text-align: right;\">\n",
       "      <th></th>\n",
       "      <th>idsub</th>\n",
       "      <th>sexo</th>\n",
       "      <th>edad</th>\n",
       "      <th>altura</th>\n",
       "      <th>peso</th>\n",
       "      <th>tratamiento</th>\n",
       "      <th>supervivencia</th>\n",
       "    </tr>\n",
       "  </thead>\n",
       "  <tbody>\n",
       "    <tr>\n",
       "      <th>0</th>\n",
       "      <td>1000</td>\n",
       "      <td>0</td>\n",
       "      <td>52</td>\n",
       "      <td>181</td>\n",
       "      <td>70</td>\n",
       "      <td>1</td>\n",
       "      <td>4</td>\n",
       "    </tr>\n",
       "    <tr>\n",
       "      <th>1</th>\n",
       "      <td>1001</td>\n",
       "      <td>0</td>\n",
       "      <td>52</td>\n",
       "      <td>189</td>\n",
       "      <td>64</td>\n",
       "      <td>0</td>\n",
       "      <td>4</td>\n",
       "    </tr>\n",
       "    <tr>\n",
       "      <th>2</th>\n",
       "      <td>1002</td>\n",
       "      <td>0</td>\n",
       "      <td>35</td>\n",
       "      <td>173</td>\n",
       "      <td>77</td>\n",
       "      <td>1</td>\n",
       "      <td>5</td>\n",
       "    </tr>\n",
       "    <tr>\n",
       "      <th>3</th>\n",
       "      <td>1003</td>\n",
       "      <td>0</td>\n",
       "      <td>67</td>\n",
       "      <td>170</td>\n",
       "      <td>72</td>\n",
       "      <td>1</td>\n",
       "      <td>3</td>\n",
       "    </tr>\n",
       "    <tr>\n",
       "      <th>4</th>\n",
       "      <td>1004</td>\n",
       "      <td>0</td>\n",
       "      <td>25</td>\n",
       "      <td>161</td>\n",
       "      <td>77</td>\n",
       "      <td>0</td>\n",
       "      <td>5</td>\n",
       "    </tr>\n",
       "  </tbody>\n",
       "</table>\n",
       "</div>"
      ],
      "text/plain": [
       "   idsub  sexo  edad  altura  peso  tratamiento  supervivencia\n",
       "0   1000     0    52     181    70            1              4\n",
       "1   1001     0    52     189    64            0              4\n",
       "2   1002     0    35     173    77            1              5\n",
       "3   1003     0    67     170    72            1              3\n",
       "4   1004     0    25     161    77            0              5"
      ]
     },
     "execution_count": 41,
     "metadata": {},
     "output_type": "execute_result"
    }
   ],
   "source": [
    "df.head(5)"
   ]
  },
  {
   "cell_type": "markdown",
   "metadata": {},
   "source": [
    "_info()_ nos da la siguiente informaicon acerca del dataframe.  \n",
    "1. Es una variable de tipo DataFrame\n",
    "2. El numero de filas y el rango del indice (de 0 hasta N-1)\n",
    "3. El numero de columnas\n",
    "4. El nombre de las columnas y cuantos nulls hay en cada una\n",
    "5. El tipo de datos de cada columna (tipo object se refiere principalmente a cadenas)\n",
    "6. La cantidad de memoria RAM usada por el dataframe"
   ]
  },
  {
   "cell_type": "code",
   "execution_count": 42,
   "metadata": {},
   "outputs": [
    {
     "name": "stdout",
     "output_type": "stream",
     "text": [
      "<class 'pandas.core.frame.DataFrame'>\n",
      "Int64Index: 100 entries, 0 to 99\n",
      "Data columns (total 7 columns):\n",
      "idsub            100 non-null float64\n",
      "sexo             100 non-null float64\n",
      "edad             100 non-null float64\n",
      "altura           100 non-null float64\n",
      "peso             100 non-null float64\n",
      "tratamiento      100 non-null float64\n",
      "supervivencia    100 non-null float64\n",
      "dtypes: float64(7)\n",
      "memory usage: 6.2 KB\n"
     ]
    }
   ],
   "source": [
    "df.info()"
   ]
  },
  {
   "cell_type": "markdown",
   "metadata": {},
   "source": [
    "Si queremos saber los tipos de datos de las columnas podemos utilizar _dtypes_."
   ]
  },
  {
   "cell_type": "code",
   "execution_count": 43,
   "metadata": {},
   "outputs": [
    {
     "data": {
      "text/plain": [
       "idsub            float64\n",
       "sexo             float64\n",
       "edad             float64\n",
       "altura           float64\n",
       "peso             float64\n",
       "tratamiento      float64\n",
       "supervivencia    float64\n",
       "dtype: object"
      ]
     },
     "execution_count": 43,
     "metadata": {},
     "output_type": "execute_result"
    }
   ],
   "source": [
    "df.dtypes"
   ]
  },
  {
   "cell_type": "markdown",
   "metadata": {},
   "source": [
    "Existe un metodo muy interesante que proporciona estadisticas basicas para las columnas numericas. Se llama _describe()_. Permite obtener una vision general muy  rapida del dataframe."
   ]
  },
  {
   "cell_type": "code",
   "execution_count": 44,
   "metadata": {},
   "outputs": [
    {
     "data": {
      "text/html": [
       "<div>\n",
       "<table border=\"1\" class=\"dataframe\">\n",
       "  <thead>\n",
       "    <tr style=\"text-align: right;\">\n",
       "      <th></th>\n",
       "      <th>idsub</th>\n",
       "      <th>sexo</th>\n",
       "      <th>edad</th>\n",
       "      <th>altura</th>\n",
       "      <th>peso</th>\n",
       "      <th>tratamiento</th>\n",
       "      <th>supervivencia</th>\n",
       "    </tr>\n",
       "  </thead>\n",
       "  <tbody>\n",
       "    <tr>\n",
       "      <th>count</th>\n",
       "      <td>100.000000</td>\n",
       "      <td>100.000000</td>\n",
       "      <td>100.000000</td>\n",
       "      <td>100.000000</td>\n",
       "      <td>100.000000</td>\n",
       "      <td>100.000000</td>\n",
       "      <td>100.000000</td>\n",
       "    </tr>\n",
       "    <tr>\n",
       "      <th>mean</th>\n",
       "      <td>1049.500000</td>\n",
       "      <td>0.500000</td>\n",
       "      <td>45.330000</td>\n",
       "      <td>167.140000</td>\n",
       "      <td>67.280000</td>\n",
       "      <td>0.530000</td>\n",
       "      <td>3.280000</td>\n",
       "    </tr>\n",
       "    <tr>\n",
       "      <th>std</th>\n",
       "      <td>29.011492</td>\n",
       "      <td>0.502519</td>\n",
       "      <td>15.086321</td>\n",
       "      <td>10.623987</td>\n",
       "      <td>10.829328</td>\n",
       "      <td>0.501614</td>\n",
       "      <td>1.318708</td>\n",
       "    </tr>\n",
       "    <tr>\n",
       "      <th>min</th>\n",
       "      <td>1000.000000</td>\n",
       "      <td>0.000000</td>\n",
       "      <td>20.000000</td>\n",
       "      <td>150.000000</td>\n",
       "      <td>50.000000</td>\n",
       "      <td>0.000000</td>\n",
       "      <td>1.000000</td>\n",
       "    </tr>\n",
       "    <tr>\n",
       "      <th>25%</th>\n",
       "      <td>1024.750000</td>\n",
       "      <td>0.000000</td>\n",
       "      <td>31.000000</td>\n",
       "      <td>159.500000</td>\n",
       "      <td>59.000000</td>\n",
       "      <td>0.000000</td>\n",
       "      <td>2.000000</td>\n",
       "    </tr>\n",
       "    <tr>\n",
       "      <th>50%</th>\n",
       "      <td>1049.500000</td>\n",
       "      <td>0.500000</td>\n",
       "      <td>45.500000</td>\n",
       "      <td>167.000000</td>\n",
       "      <td>65.500000</td>\n",
       "      <td>1.000000</td>\n",
       "      <td>3.000000</td>\n",
       "    </tr>\n",
       "    <tr>\n",
       "      <th>75%</th>\n",
       "      <td>1074.250000</td>\n",
       "      <td>1.000000</td>\n",
       "      <td>58.000000</td>\n",
       "      <td>175.000000</td>\n",
       "      <td>75.250000</td>\n",
       "      <td>1.000000</td>\n",
       "      <td>5.000000</td>\n",
       "    </tr>\n",
       "    <tr>\n",
       "      <th>max</th>\n",
       "      <td>1099.000000</td>\n",
       "      <td>1.000000</td>\n",
       "      <td>68.000000</td>\n",
       "      <td>189.000000</td>\n",
       "      <td>89.000000</td>\n",
       "      <td>1.000000</td>\n",
       "      <td>5.000000</td>\n",
       "    </tr>\n",
       "  </tbody>\n",
       "</table>\n",
       "</div>"
      ],
      "text/plain": [
       "             idsub        sexo        edad      altura        peso  \\\n",
       "count   100.000000  100.000000  100.000000  100.000000  100.000000   \n",
       "mean   1049.500000    0.500000   45.330000  167.140000   67.280000   \n",
       "std      29.011492    0.502519   15.086321   10.623987   10.829328   \n",
       "min    1000.000000    0.000000   20.000000  150.000000   50.000000   \n",
       "25%    1024.750000    0.000000   31.000000  159.500000   59.000000   \n",
       "50%    1049.500000    0.500000   45.500000  167.000000   65.500000   \n",
       "75%    1074.250000    1.000000   58.000000  175.000000   75.250000   \n",
       "max    1099.000000    1.000000   68.000000  189.000000   89.000000   \n",
       "\n",
       "       tratamiento  supervivencia  \n",
       "count   100.000000     100.000000  \n",
       "mean      0.530000       3.280000  \n",
       "std       0.501614       1.318708  \n",
       "min       0.000000       1.000000  \n",
       "25%       0.000000       2.000000  \n",
       "50%       1.000000       3.000000  \n",
       "75%       1.000000       5.000000  \n",
       "max       1.000000       5.000000  "
      ]
     },
     "execution_count": 44,
     "metadata": {},
     "output_type": "execute_result"
    }
   ],
   "source": [
    "df.describe()"
   ]
  },
  {
   "cell_type": "markdown",
   "metadata": {},
   "source": [
    "Para imprimir las primeras lineas del dataframe se utiliza _head()_ y para las ultimas _tail()_. Por defecto Python imprime 5 lineas. Tambien se le puede pasar el numero de lineas a imprimir a cualquiera de las funciones."
   ]
  },
  {
   "cell_type": "code",
   "execution_count": 45,
   "metadata": {},
   "outputs": [
    {
     "data": {
      "text/html": [
       "<div>\n",
       "<table border=\"1\" class=\"dataframe\">\n",
       "  <thead>\n",
       "    <tr style=\"text-align: right;\">\n",
       "      <th></th>\n",
       "      <th>idsub</th>\n",
       "      <th>sexo</th>\n",
       "      <th>edad</th>\n",
       "      <th>altura</th>\n",
       "      <th>peso</th>\n",
       "      <th>tratamiento</th>\n",
       "      <th>supervivencia</th>\n",
       "    </tr>\n",
       "  </thead>\n",
       "  <tbody>\n",
       "    <tr>\n",
       "      <th>0</th>\n",
       "      <td>1000</td>\n",
       "      <td>0</td>\n",
       "      <td>52</td>\n",
       "      <td>181</td>\n",
       "      <td>70</td>\n",
       "      <td>1</td>\n",
       "      <td>4</td>\n",
       "    </tr>\n",
       "    <tr>\n",
       "      <th>1</th>\n",
       "      <td>1001</td>\n",
       "      <td>0</td>\n",
       "      <td>52</td>\n",
       "      <td>189</td>\n",
       "      <td>64</td>\n",
       "      <td>0</td>\n",
       "      <td>4</td>\n",
       "    </tr>\n",
       "    <tr>\n",
       "      <th>2</th>\n",
       "      <td>1002</td>\n",
       "      <td>0</td>\n",
       "      <td>35</td>\n",
       "      <td>173</td>\n",
       "      <td>77</td>\n",
       "      <td>1</td>\n",
       "      <td>5</td>\n",
       "    </tr>\n",
       "    <tr>\n",
       "      <th>3</th>\n",
       "      <td>1003</td>\n",
       "      <td>0</td>\n",
       "      <td>67</td>\n",
       "      <td>170</td>\n",
       "      <td>72</td>\n",
       "      <td>1</td>\n",
       "      <td>3</td>\n",
       "    </tr>\n",
       "    <tr>\n",
       "      <th>4</th>\n",
       "      <td>1004</td>\n",
       "      <td>0</td>\n",
       "      <td>25</td>\n",
       "      <td>161</td>\n",
       "      <td>77</td>\n",
       "      <td>0</td>\n",
       "      <td>5</td>\n",
       "    </tr>\n",
       "  </tbody>\n",
       "</table>\n",
       "</div>"
      ],
      "text/plain": [
       "   idsub  sexo  edad  altura  peso  tratamiento  supervivencia\n",
       "0   1000     0    52     181    70            1              4\n",
       "1   1001     0    52     189    64            0              4\n",
       "2   1002     0    35     173    77            1              5\n",
       "3   1003     0    67     170    72            1              3\n",
       "4   1004     0    25     161    77            0              5"
      ]
     },
     "execution_count": 45,
     "metadata": {},
     "output_type": "execute_result"
    }
   ],
   "source": [
    "df.head() # por defecto 5 lineas"
   ]
  },
  {
   "cell_type": "code",
   "execution_count": 46,
   "metadata": {},
   "outputs": [
    {
     "data": {
      "text/html": [
       "<div>\n",
       "<table border=\"1\" class=\"dataframe\">\n",
       "  <thead>\n",
       "    <tr style=\"text-align: right;\">\n",
       "      <th></th>\n",
       "      <th>idsub</th>\n",
       "      <th>sexo</th>\n",
       "      <th>edad</th>\n",
       "      <th>altura</th>\n",
       "      <th>peso</th>\n",
       "      <th>tratamiento</th>\n",
       "      <th>supervivencia</th>\n",
       "    </tr>\n",
       "  </thead>\n",
       "  <tbody>\n",
       "    <tr>\n",
       "      <th>97</th>\n",
       "      <td>1097</td>\n",
       "      <td>1</td>\n",
       "      <td>33</td>\n",
       "      <td>171</td>\n",
       "      <td>61</td>\n",
       "      <td>0</td>\n",
       "      <td>5</td>\n",
       "    </tr>\n",
       "    <tr>\n",
       "      <th>98</th>\n",
       "      <td>1098</td>\n",
       "      <td>1</td>\n",
       "      <td>48</td>\n",
       "      <td>168</td>\n",
       "      <td>69</td>\n",
       "      <td>1</td>\n",
       "      <td>2</td>\n",
       "    </tr>\n",
       "    <tr>\n",
       "      <th>99</th>\n",
       "      <td>1099</td>\n",
       "      <td>1</td>\n",
       "      <td>63</td>\n",
       "      <td>155</td>\n",
       "      <td>68</td>\n",
       "      <td>1</td>\n",
       "      <td>4</td>\n",
       "    </tr>\n",
       "  </tbody>\n",
       "</table>\n",
       "</div>"
      ],
      "text/plain": [
       "    idsub  sexo  edad  altura  peso  tratamiento  supervivencia\n",
       "97   1097     1    33     171    61            0              5\n",
       "98   1098     1    48     168    69            1              2\n",
       "99   1099     1    63     155    68            1              4"
      ]
     },
     "execution_count": 46,
     "metadata": {},
     "output_type": "execute_result"
    }
   ],
   "source": [
    "df.tail(3) # le digo a tail que imprima las tres ultimas lineas"
   ]
  },
  {
   "cell_type": "markdown",
   "metadata": {},
   "source": [
    "Tambien se puede usar indexacion por trozos _slicing_ como hemos hecho anteriormente con listas y arrays."
   ]
  },
  {
   "cell_type": "code",
   "execution_count": 47,
   "metadata": {},
   "outputs": [
    {
     "data": {
      "text/html": [
       "<div>\n",
       "<table border=\"1\" class=\"dataframe\">\n",
       "  <thead>\n",
       "    <tr style=\"text-align: right;\">\n",
       "      <th></th>\n",
       "      <th>idsub</th>\n",
       "      <th>sexo</th>\n",
       "      <th>edad</th>\n",
       "      <th>altura</th>\n",
       "      <th>peso</th>\n",
       "      <th>tratamiento</th>\n",
       "      <th>supervivencia</th>\n",
       "    </tr>\n",
       "  </thead>\n",
       "  <tbody>\n",
       "    <tr>\n",
       "      <th>20</th>\n",
       "      <td>1020</td>\n",
       "      <td>0</td>\n",
       "      <td>52</td>\n",
       "      <td>166</td>\n",
       "      <td>88</td>\n",
       "      <td>0</td>\n",
       "      <td>3</td>\n",
       "    </tr>\n",
       "    <tr>\n",
       "      <th>21</th>\n",
       "      <td>1021</td>\n",
       "      <td>0</td>\n",
       "      <td>27</td>\n",
       "      <td>161</td>\n",
       "      <td>63</td>\n",
       "      <td>1</td>\n",
       "      <td>2</td>\n",
       "    </tr>\n",
       "  </tbody>\n",
       "</table>\n",
       "</div>"
      ],
      "text/plain": [
       "    idsub  sexo  edad  altura  peso  tratamiento  supervivencia\n",
       "20   1020     0    52     166    88            0              3\n",
       "21   1021     0    27     161    63            1              2"
      ]
     },
     "execution_count": 47,
     "metadata": {},
     "output_type": "execute_result"
    }
   ],
   "source": [
    "df[20:22]"
   ]
  },
  {
   "cell_type": "markdown",
   "metadata": {},
   "source": [
    "### Seleccion"
   ]
  },
  {
   "cell_type": "markdown",
   "metadata": {},
   "source": [
    "Un dataframe no es mas que un conjunto de objetos _Series_ que comparten un indice. La seleccion de una columna en el dataframe devuelve como resultado una variable tipo _Series_."
   ]
  },
  {
   "cell_type": "code",
   "execution_count": 48,
   "metadata": {},
   "outputs": [
    {
     "data": {
      "text/plain": [
       "0    70\n",
       "1    64\n",
       "2    77\n",
       "3    72\n",
       "4    77\n",
       "Name: peso, dtype: float64"
      ]
     },
     "metadata": {},
     "output_type": "display_data"
    }
   ],
   "source": [
    "display(df['peso'].head())"
   ]
  },
  {
   "cell_type": "markdown",
   "metadata": {},
   "source": [
    "Para indexar mas de una columna hay que pasar una lista con el nombre de las columnas al dataframe. La salida sera un dataframe."
   ]
  },
  {
   "cell_type": "code",
   "execution_count": 49,
   "metadata": {},
   "outputs": [
    {
     "data": {
      "text/html": [
       "<div>\n",
       "<table border=\"1\" class=\"dataframe\">\n",
       "  <thead>\n",
       "    <tr style=\"text-align: right;\">\n",
       "      <th></th>\n",
       "      <th>peso</th>\n",
       "      <th>altura</th>\n",
       "    </tr>\n",
       "  </thead>\n",
       "  <tbody>\n",
       "    <tr>\n",
       "      <th>0</th>\n",
       "      <td>70</td>\n",
       "      <td>181</td>\n",
       "    </tr>\n",
       "    <tr>\n",
       "      <th>1</th>\n",
       "      <td>64</td>\n",
       "      <td>189</td>\n",
       "    </tr>\n",
       "  </tbody>\n",
       "</table>\n",
       "</div>"
      ],
      "text/plain": [
       "   peso  altura\n",
       "0    70     181\n",
       "1    64     189"
      ]
     },
     "execution_count": 49,
     "metadata": {},
     "output_type": "execute_result"
    }
   ],
   "source": [
    "df[['peso', 'altura']].head(2)"
   ]
  },
  {
   "cell_type": "markdown",
   "metadata": {},
   "source": [
    "La seleccion de filas se hace de diferentes formas. Se puede hacer una seleccion por indice individual pero lo mas comun es realizar un indexado booleano."
   ]
  },
  {
   "cell_type": "code",
   "execution_count": 50,
   "metadata": {},
   "outputs": [
    {
     "name": "stdout",
     "output_type": "stream",
     "text": [
      "Peso > 70\n"
     ]
    },
    {
     "data": {
      "text/html": [
       "<div>\n",
       "<table border=\"1\" class=\"dataframe\">\n",
       "  <thead>\n",
       "    <tr style=\"text-align: right;\">\n",
       "      <th></th>\n",
       "      <th>idsub</th>\n",
       "      <th>sexo</th>\n",
       "      <th>edad</th>\n",
       "      <th>altura</th>\n",
       "      <th>peso</th>\n",
       "      <th>tratamiento</th>\n",
       "      <th>supervivencia</th>\n",
       "    </tr>\n",
       "  </thead>\n",
       "  <tbody>\n",
       "    <tr>\n",
       "      <th>2</th>\n",
       "      <td>1002</td>\n",
       "      <td>0</td>\n",
       "      <td>35</td>\n",
       "      <td>173</td>\n",
       "      <td>77</td>\n",
       "      <td>1</td>\n",
       "      <td>5</td>\n",
       "    </tr>\n",
       "    <tr>\n",
       "      <th>3</th>\n",
       "      <td>1003</td>\n",
       "      <td>0</td>\n",
       "      <td>67</td>\n",
       "      <td>170</td>\n",
       "      <td>72</td>\n",
       "      <td>1</td>\n",
       "      <td>3</td>\n",
       "    </tr>\n",
       "    <tr>\n",
       "      <th>4</th>\n",
       "      <td>1004</td>\n",
       "      <td>0</td>\n",
       "      <td>25</td>\n",
       "      <td>161</td>\n",
       "      <td>77</td>\n",
       "      <td>0</td>\n",
       "      <td>5</td>\n",
       "    </tr>\n",
       "  </tbody>\n",
       "</table>\n",
       "</div>"
      ],
      "text/plain": [
       "   idsub  sexo  edad  altura  peso  tratamiento  supervivencia\n",
       "2   1002     0    35     173    77            1              5\n",
       "3   1003     0    67     170    72            1              3\n",
       "4   1004     0    25     161    77            0              5"
      ]
     },
     "metadata": {},
     "output_type": "display_data"
    },
    {
     "name": "stdout",
     "output_type": "stream",
     "text": [
      "Peso < 70 y altura<160\n"
     ]
    },
    {
     "data": {
      "text/html": [
       "<div>\n",
       "<table border=\"1\" class=\"dataframe\">\n",
       "  <thead>\n",
       "    <tr style=\"text-align: right;\">\n",
       "      <th></th>\n",
       "      <th>idsub</th>\n",
       "      <th>sexo</th>\n",
       "      <th>edad</th>\n",
       "      <th>altura</th>\n",
       "      <th>peso</th>\n",
       "      <th>tratamiento</th>\n",
       "      <th>supervivencia</th>\n",
       "    </tr>\n",
       "  </thead>\n",
       "  <tbody>\n",
       "    <tr>\n",
       "      <th>51</th>\n",
       "      <td>1051</td>\n",
       "      <td>1</td>\n",
       "      <td>55</td>\n",
       "      <td>151</td>\n",
       "      <td>56</td>\n",
       "      <td>0</td>\n",
       "      <td>4</td>\n",
       "    </tr>\n",
       "    <tr>\n",
       "      <th>52</th>\n",
       "      <td>1052</td>\n",
       "      <td>1</td>\n",
       "      <td>20</td>\n",
       "      <td>150</td>\n",
       "      <td>59</td>\n",
       "      <td>1</td>\n",
       "      <td>2</td>\n",
       "    </tr>\n",
       "    <tr>\n",
       "      <th>53</th>\n",
       "      <td>1053</td>\n",
       "      <td>1</td>\n",
       "      <td>49</td>\n",
       "      <td>153</td>\n",
       "      <td>59</td>\n",
       "      <td>1</td>\n",
       "      <td>5</td>\n",
       "    </tr>\n",
       "  </tbody>\n",
       "</table>\n",
       "</div>"
      ],
      "text/plain": [
       "    idsub  sexo  edad  altura  peso  tratamiento  supervivencia\n",
       "51   1051     1    55     151    56            0              4\n",
       "52   1052     1    20     150    59            1              2\n",
       "53   1053     1    49     153    59            1              5"
      ]
     },
     "metadata": {},
     "output_type": "display_data"
    }
   ],
   "source": [
    "print 'Peso > 70'\n",
    "display(df[df['peso']>70].head(3))\n",
    "\n",
    "print 'Peso < 70 y altura<160'\n",
    "display(df[(df['peso']<70) & (df['altura']<160)].head(3))\n"
   ]
  },
  {
   "cell_type": "markdown",
   "metadata": {},
   "source": [
    "Se puede cambiar el indice y poner uno mas significativo. Por ejemplo el nombre de la persona."
   ]
  },
  {
   "cell_type": "code",
   "execution_count": 61,
   "metadata": {},
   "outputs": [
    {
     "data": {
      "text/html": [
       "<div>\n",
       "<table border=\"1\" class=\"dataframe\">\n",
       "  <thead>\n",
       "    <tr style=\"text-align: right;\">\n",
       "      <th></th>\n",
       "      <th>sexo</th>\n",
       "      <th>edad</th>\n",
       "      <th>altura</th>\n",
       "      <th>peso</th>\n",
       "      <th>tratamiento</th>\n",
       "      <th>supervivencia</th>\n",
       "    </tr>\n",
       "    <tr>\n",
       "      <th>idsub</th>\n",
       "      <th></th>\n",
       "      <th></th>\n",
       "      <th></th>\n",
       "      <th></th>\n",
       "      <th></th>\n",
       "      <th></th>\n",
       "    </tr>\n",
       "  </thead>\n",
       "  <tbody>\n",
       "    <tr>\n",
       "      <th>1000</th>\n",
       "      <td>0</td>\n",
       "      <td>52</td>\n",
       "      <td>181</td>\n",
       "      <td>70</td>\n",
       "      <td>1</td>\n",
       "      <td>4</td>\n",
       "    </tr>\n",
       "    <tr>\n",
       "      <th>1001</th>\n",
       "      <td>0</td>\n",
       "      <td>52</td>\n",
       "      <td>189</td>\n",
       "      <td>64</td>\n",
       "      <td>0</td>\n",
       "      <td>4</td>\n",
       "    </tr>\n",
       "  </tbody>\n",
       "</table>\n",
       "</div>"
      ],
      "text/plain": [
       "       sexo  edad  altura  peso  tratamiento  supervivencia\n",
       "idsub                                                      \n",
       "1000      0    52     181    70            1              4\n",
       "1001      0    52     189    64            0              4"
      ]
     },
     "metadata": {},
     "output_type": "display_data"
    },
    {
     "name": "stdout",
     "output_type": "stream",
     "text": [
      "\n",
      "\n"
     ]
    },
    {
     "data": {
      "text/html": [
       "<div>\n",
       "<table border=\"1\" class=\"dataframe\">\n",
       "  <thead>\n",
       "    <tr style=\"text-align: right;\">\n",
       "      <th></th>\n",
       "      <th>idsub</th>\n",
       "      <th>sexo</th>\n",
       "      <th>edad</th>\n",
       "      <th>altura</th>\n",
       "      <th>peso</th>\n",
       "      <th>tratamiento</th>\n",
       "      <th>supervivencia</th>\n",
       "    </tr>\n",
       "  </thead>\n",
       "  <tbody>\n",
       "    <tr>\n",
       "      <th>0</th>\n",
       "      <td>1000</td>\n",
       "      <td>0</td>\n",
       "      <td>52</td>\n",
       "      <td>181</td>\n",
       "      <td>70</td>\n",
       "      <td>1</td>\n",
       "      <td>4</td>\n",
       "    </tr>\n",
       "    <tr>\n",
       "      <th>1</th>\n",
       "      <td>1001</td>\n",
       "      <td>0</td>\n",
       "      <td>52</td>\n",
       "      <td>189</td>\n",
       "      <td>64</td>\n",
       "      <td>0</td>\n",
       "      <td>4</td>\n",
       "    </tr>\n",
       "  </tbody>\n",
       "</table>\n",
       "</div>"
      ],
      "text/plain": [
       "   idsub  sexo  edad  altura  peso  tratamiento  supervivencia\n",
       "0   1000     0    52     181    70            1              4\n",
       "1   1001     0    52     189    64            0              4"
      ]
     },
     "metadata": {},
     "output_type": "display_data"
    },
    {
     "name": "stdout",
     "output_type": "stream",
     "text": [
      "\n",
      "^^^ No he cambiado el DataFrame. ^^^\n",
      "\n"
     ]
    },
    {
     "data": {
      "text/html": [
       "<div>\n",
       "<table border=\"1\" class=\"dataframe\">\n",
       "  <thead>\n",
       "    <tr style=\"text-align: right;\">\n",
       "      <th></th>\n",
       "      <th>sexo</th>\n",
       "      <th>edad</th>\n",
       "      <th>altura</th>\n",
       "      <th>peso</th>\n",
       "      <th>tratamiento</th>\n",
       "      <th>supervivencia</th>\n",
       "    </tr>\n",
       "    <tr>\n",
       "      <th>idsub</th>\n",
       "      <th></th>\n",
       "      <th></th>\n",
       "      <th></th>\n",
       "      <th></th>\n",
       "      <th></th>\n",
       "      <th></th>\n",
       "    </tr>\n",
       "  </thead>\n",
       "  <tbody>\n",
       "    <tr>\n",
       "      <th>1000</th>\n",
       "      <td>0</td>\n",
       "      <td>52</td>\n",
       "      <td>181</td>\n",
       "      <td>70</td>\n",
       "      <td>1</td>\n",
       "      <td>4</td>\n",
       "    </tr>\n",
       "    <tr>\n",
       "      <th>1001</th>\n",
       "      <td>0</td>\n",
       "      <td>52</td>\n",
       "      <td>189</td>\n",
       "      <td>64</td>\n",
       "      <td>0</td>\n",
       "      <td>4</td>\n",
       "    </tr>\n",
       "  </tbody>\n",
       "</table>\n",
       "</div>"
      ],
      "text/plain": [
       "       sexo  edad  altura  peso  tratamiento  supervivencia\n",
       "idsub                                                      \n",
       "1000      0    52     181    70            1              4\n",
       "1001      0    52     189    64            0              4"
      ]
     },
     "metadata": {},
     "output_type": "display_data"
    },
    {
     "name": "stdout",
     "output_type": "stream",
     "text": [
      "\n",
      "^^^ set_index devuelve un nuevo DataFrame. ^^^\n",
      "\n"
     ]
    }
   ],
   "source": [
    "display(df.set_index('idsub').head(2))\n",
    "print('\\n')\n",
    "\n",
    "display(df.head(2))\n",
    "print \"\\n^^^ No he cambiado el DataFrame. ^^^\\n\"\n",
    "\n",
    "with_new_index = df.set_index('idsub')\n",
    "display(with_new_index.head(2))\n",
    "print \"\\n^^^ set_index devuelve un nuevo DataFrame. ^^^\\n\"\n"
   ]
  },
  {
   "cell_type": "markdown",
   "metadata": {},
   "source": [
    "Si quieres modificar el DataFrame existente debes utilizar el parametro _inplace_. La mayoria de metodos retornan un nuevo DataFrame "
   ]
  },
  {
   "cell_type": "code",
   "execution_count": 63,
   "metadata": {},
   "outputs": [
    {
     "data": {
      "text/html": [
       "<div>\n",
       "<table border=\"1\" class=\"dataframe\">\n",
       "  <thead>\n",
       "    <tr style=\"text-align: right;\">\n",
       "      <th></th>\n",
       "      <th>sexo</th>\n",
       "      <th>edad</th>\n",
       "      <th>altura</th>\n",
       "      <th>peso</th>\n",
       "      <th>tratamiento</th>\n",
       "      <th>supervivencia</th>\n",
       "    </tr>\n",
       "    <tr>\n",
       "      <th>idsub</th>\n",
       "      <th></th>\n",
       "      <th></th>\n",
       "      <th></th>\n",
       "      <th></th>\n",
       "      <th></th>\n",
       "      <th></th>\n",
       "    </tr>\n",
       "  </thead>\n",
       "  <tbody>\n",
       "    <tr>\n",
       "      <th>1000</th>\n",
       "      <td>0</td>\n",
       "      <td>52</td>\n",
       "      <td>181</td>\n",
       "      <td>70</td>\n",
       "      <td>1</td>\n",
       "      <td>4</td>\n",
       "    </tr>\n",
       "    <tr>\n",
       "      <th>1001</th>\n",
       "      <td>0</td>\n",
       "      <td>52</td>\n",
       "      <td>189</td>\n",
       "      <td>64</td>\n",
       "      <td>0</td>\n",
       "      <td>4</td>\n",
       "    </tr>\n",
       "    <tr>\n",
       "      <th>1002</th>\n",
       "      <td>0</td>\n",
       "      <td>35</td>\n",
       "      <td>173</td>\n",
       "      <td>77</td>\n",
       "      <td>1</td>\n",
       "      <td>5</td>\n",
       "    </tr>\n",
       "    <tr>\n",
       "      <th>1003</th>\n",
       "      <td>0</td>\n",
       "      <td>67</td>\n",
       "      <td>170</td>\n",
       "      <td>72</td>\n",
       "      <td>1</td>\n",
       "      <td>3</td>\n",
       "    </tr>\n",
       "    <tr>\n",
       "      <th>1004</th>\n",
       "      <td>0</td>\n",
       "      <td>25</td>\n",
       "      <td>161</td>\n",
       "      <td>77</td>\n",
       "      <td>0</td>\n",
       "      <td>5</td>\n",
       "    </tr>\n",
       "  </tbody>\n",
       "</table>\n",
       "</div>"
      ],
      "text/plain": [
       "       sexo  edad  altura  peso  tratamiento  supervivencia\n",
       "idsub                                                      \n",
       "1000      0    52     181    70            1              4\n",
       "1001      0    52     189    64            0              4\n",
       "1002      0    35     173    77            1              5\n",
       "1003      0    67     170    72            1              3\n",
       "1004      0    25     161    77            0              5"
      ]
     },
     "execution_count": 63,
     "metadata": {},
     "output_type": "execute_result"
    }
   ],
   "source": [
    "df.set_index('idsub', inplace=True)\n",
    "df.head()"
   ]
  },
  {
   "cell_type": "code",
   "execution_count": 64,
   "metadata": {},
   "outputs": [
    {
     "data": {
      "text/html": [
       "<div>\n",
       "<table border=\"1\" class=\"dataframe\">\n",
       "  <thead>\n",
       "    <tr style=\"text-align: right;\">\n",
       "      <th></th>\n",
       "      <th>sexo</th>\n",
       "      <th>edad</th>\n",
       "      <th>altura</th>\n",
       "      <th>peso</th>\n",
       "      <th>tratamiento</th>\n",
       "      <th>supervivencia</th>\n",
       "    </tr>\n",
       "    <tr>\n",
       "      <th>idsub</th>\n",
       "      <th></th>\n",
       "      <th></th>\n",
       "      <th></th>\n",
       "      <th></th>\n",
       "      <th></th>\n",
       "      <th></th>\n",
       "    </tr>\n",
       "  </thead>\n",
       "  <tbody>\n",
       "    <tr>\n",
       "      <th>1000</th>\n",
       "      <td>0</td>\n",
       "      <td>52</td>\n",
       "      <td>181</td>\n",
       "      <td>70</td>\n",
       "      <td>1</td>\n",
       "      <td>4</td>\n",
       "    </tr>\n",
       "    <tr>\n",
       "      <th>1001</th>\n",
       "      <td>0</td>\n",
       "      <td>52</td>\n",
       "      <td>189</td>\n",
       "      <td>64</td>\n",
       "      <td>0</td>\n",
       "      <td>4</td>\n",
       "    </tr>\n",
       "    <tr>\n",
       "      <th>1002</th>\n",
       "      <td>0</td>\n",
       "      <td>35</td>\n",
       "      <td>173</td>\n",
       "      <td>77</td>\n",
       "      <td>1</td>\n",
       "      <td>5</td>\n",
       "    </tr>\n",
       "    <tr>\n",
       "      <th>1003</th>\n",
       "      <td>0</td>\n",
       "      <td>67</td>\n",
       "      <td>170</td>\n",
       "      <td>72</td>\n",
       "      <td>1</td>\n",
       "      <td>3</td>\n",
       "    </tr>\n",
       "    <tr>\n",
       "      <th>1004</th>\n",
       "      <td>0</td>\n",
       "      <td>25</td>\n",
       "      <td>161</td>\n",
       "      <td>77</td>\n",
       "      <td>0</td>\n",
       "      <td>5</td>\n",
       "    </tr>\n",
       "  </tbody>\n",
       "</table>\n",
       "</div>"
      ],
      "text/plain": [
       "       sexo  edad  altura  peso  tratamiento  supervivencia\n",
       "idsub                                                      \n",
       "1000      0    52     181    70            1              4\n",
       "1001      0    52     189    64            0              4\n",
       "1002      0    35     173    77            1              5\n",
       "1003      0    67     170    72            1              3\n",
       "1004      0    25     161    77            0              5"
      ]
     },
     "execution_count": 64,
     "metadata": {},
     "output_type": "execute_result"
    }
   ],
   "source": [
    "df.head()"
   ]
  },
  {
   "cell_type": "markdown",
   "metadata": {},
   "source": [
    "Podras notar que hemos perdido el indice que Pandas nos da por defecto. Puedes seleccionar todavia usando el metodo _iloc_."
   ]
  },
  {
   "cell_type": "code",
   "execution_count": 66,
   "metadata": {},
   "outputs": [
    {
     "data": {
      "text/plain": [
       "sexo               0\n",
       "edad              57\n",
       "altura           177\n",
       "peso              86\n",
       "tratamiento        1\n",
       "supervivencia      2\n",
       "Name: 1010.0, dtype: float64"
      ]
     },
     "metadata": {},
     "output_type": "display_data"
    },
    {
     "name": "stdout",
     "output_type": "stream",
     "text": [
      "\n",
      "\n"
     ]
    },
    {
     "data": {
      "text/html": [
       "<div>\n",
       "<table border=\"1\" class=\"dataframe\">\n",
       "  <thead>\n",
       "    <tr style=\"text-align: right;\">\n",
       "      <th></th>\n",
       "      <th>sexo</th>\n",
       "      <th>edad</th>\n",
       "      <th>altura</th>\n",
       "      <th>peso</th>\n",
       "      <th>tratamiento</th>\n",
       "      <th>supervivencia</th>\n",
       "    </tr>\n",
       "    <tr>\n",
       "      <th>idsub</th>\n",
       "      <th></th>\n",
       "      <th></th>\n",
       "      <th></th>\n",
       "      <th></th>\n",
       "      <th></th>\n",
       "      <th></th>\n",
       "    </tr>\n",
       "  </thead>\n",
       "  <tbody>\n",
       "    <tr>\n",
       "      <th>1010</th>\n",
       "      <td>0</td>\n",
       "      <td>57</td>\n",
       "      <td>177</td>\n",
       "      <td>86</td>\n",
       "      <td>1</td>\n",
       "      <td>2</td>\n",
       "    </tr>\n",
       "    <tr>\n",
       "      <th>1020</th>\n",
       "      <td>0</td>\n",
       "      <td>52</td>\n",
       "      <td>166</td>\n",
       "      <td>88</td>\n",
       "      <td>0</td>\n",
       "      <td>3</td>\n",
       "    </tr>\n",
       "    <tr>\n",
       "      <th>1030</th>\n",
       "      <td>0</td>\n",
       "      <td>30</td>\n",
       "      <td>182</td>\n",
       "      <td>85</td>\n",
       "      <td>1</td>\n",
       "      <td>1</td>\n",
       "    </tr>\n",
       "  </tbody>\n",
       "</table>\n",
       "</div>"
      ],
      "text/plain": [
       "       sexo  edad  altura  peso  tratamiento  supervivencia\n",
       "idsub                                                      \n",
       "1010      0    57     177    86            1              2\n",
       "1020      0    52     166    88            0              3\n",
       "1030      0    30     182    85            1              1"
      ]
     },
     "metadata": {},
     "output_type": "display_data"
    }
   ],
   "source": [
    "display(df.iloc[10])\n",
    "print('\\n')\n",
    "display(df.iloc[[10, 20, 30]])"
   ]
  },
  {
   "cell_type": "markdown",
   "metadata": {},
   "source": [
    "Y se pueden seleccionar filas a traves del indice con el metodo _loc_."
   ]
  },
  {
   "cell_type": "code",
   "execution_count": 67,
   "metadata": {},
   "outputs": [
    {
     "data": {
      "text/plain": [
       "sexo               0\n",
       "edad              52\n",
       "altura           181\n",
       "peso              70\n",
       "tratamiento        1\n",
       "supervivencia      4\n",
       "Name: 1000.0, dtype: float64"
      ]
     },
     "metadata": {},
     "output_type": "display_data"
    },
    {
     "name": "stdout",
     "output_type": "stream",
     "text": [
      "\n",
      "\n"
     ]
    },
    {
     "data": {
      "text/html": [
       "<div>\n",
       "<table border=\"1\" class=\"dataframe\">\n",
       "  <thead>\n",
       "    <tr style=\"text-align: right;\">\n",
       "      <th></th>\n",
       "      <th>sexo</th>\n",
       "      <th>edad</th>\n",
       "      <th>altura</th>\n",
       "      <th>peso</th>\n",
       "      <th>tratamiento</th>\n",
       "      <th>supervivencia</th>\n",
       "    </tr>\n",
       "    <tr>\n",
       "      <th>idsub</th>\n",
       "      <th></th>\n",
       "      <th></th>\n",
       "      <th></th>\n",
       "      <th></th>\n",
       "      <th></th>\n",
       "      <th></th>\n",
       "    </tr>\n",
       "  </thead>\n",
       "  <tbody>\n",
       "    <tr>\n",
       "      <th>1000</th>\n",
       "      <td>0</td>\n",
       "      <td>52</td>\n",
       "      <td>181</td>\n",
       "      <td>70</td>\n",
       "      <td>1</td>\n",
       "      <td>4</td>\n",
       "    </tr>\n",
       "    <tr>\n",
       "      <th>1088</th>\n",
       "      <td>1</td>\n",
       "      <td>44</td>\n",
       "      <td>150</td>\n",
       "      <td>64</td>\n",
       "      <td>0</td>\n",
       "      <td>5</td>\n",
       "    </tr>\n",
       "  </tbody>\n",
       "</table>\n",
       "</div>"
      ],
      "text/plain": [
       "       sexo  edad  altura  peso  tratamiento  supervivencia\n",
       "idsub                                                      \n",
       "1000      0    52     181    70            1              4\n",
       "1088      1    44     150    64            0              5"
      ]
     },
     "metadata": {},
     "output_type": "display_data"
    }
   ],
   "source": [
    "display(df.loc[1000])\n",
    "print('\\n')\n",
    "display(df.loc[[1000,1088]])"
   ]
  },
  {
   "cell_type": "markdown",
   "metadata": {},
   "source": [
    "La regla basica en general es:\n",
    "* Usa _loc_ para indexado con indice\n",
    "* Usa _iloc_ para para indexado por posicion de fila"
   ]
  },
  {
   "cell_type": "markdown",
   "metadata": {},
   "source": [
    "Si queremos volver a tener el indice por defecto de Pandas podemos usar _reset\\_index_ ."
   ]
  },
  {
   "cell_type": "code",
   "execution_count": 68,
   "metadata": {},
   "outputs": [
    {
     "data": {
      "text/html": [
       "<div>\n",
       "<table border=\"1\" class=\"dataframe\">\n",
       "  <thead>\n",
       "    <tr style=\"text-align: right;\">\n",
       "      <th></th>\n",
       "      <th>idsub</th>\n",
       "      <th>sexo</th>\n",
       "      <th>edad</th>\n",
       "      <th>altura</th>\n",
       "      <th>peso</th>\n",
       "      <th>tratamiento</th>\n",
       "      <th>supervivencia</th>\n",
       "    </tr>\n",
       "  </thead>\n",
       "  <tbody>\n",
       "    <tr>\n",
       "      <th>0</th>\n",
       "      <td>1000</td>\n",
       "      <td>0</td>\n",
       "      <td>52</td>\n",
       "      <td>181</td>\n",
       "      <td>70</td>\n",
       "      <td>1</td>\n",
       "      <td>4</td>\n",
       "    </tr>\n",
       "    <tr>\n",
       "      <th>1</th>\n",
       "      <td>1001</td>\n",
       "      <td>0</td>\n",
       "      <td>52</td>\n",
       "      <td>189</td>\n",
       "      <td>64</td>\n",
       "      <td>0</td>\n",
       "      <td>4</td>\n",
       "    </tr>\n",
       "    <tr>\n",
       "      <th>2</th>\n",
       "      <td>1002</td>\n",
       "      <td>0</td>\n",
       "      <td>35</td>\n",
       "      <td>173</td>\n",
       "      <td>77</td>\n",
       "      <td>1</td>\n",
       "      <td>5</td>\n",
       "    </tr>\n",
       "    <tr>\n",
       "      <th>3</th>\n",
       "      <td>1003</td>\n",
       "      <td>0</td>\n",
       "      <td>67</td>\n",
       "      <td>170</td>\n",
       "      <td>72</td>\n",
       "      <td>1</td>\n",
       "      <td>3</td>\n",
       "    </tr>\n",
       "    <tr>\n",
       "      <th>4</th>\n",
       "      <td>1004</td>\n",
       "      <td>0</td>\n",
       "      <td>25</td>\n",
       "      <td>161</td>\n",
       "      <td>77</td>\n",
       "      <td>0</td>\n",
       "      <td>5</td>\n",
       "    </tr>\n",
       "  </tbody>\n",
       "</table>\n",
       "</div>"
      ],
      "text/plain": [
       "   idsub  sexo  edad  altura  peso  tratamiento  supervivencia\n",
       "0   1000     0    52     181    70            1              4\n",
       "1   1001     0    52     189    64            0              4\n",
       "2   1002     0    35     173    77            1              5\n",
       "3   1003     0    67     170    72            1              3\n",
       "4   1004     0    25     161    77            0              5"
      ]
     },
     "execution_count": 68,
     "metadata": {},
     "output_type": "execute_result"
    }
   ],
   "source": [
    "df.reset_index(inplace=True)\n",
    "#df = df.reset_index()\n",
    "\n",
    "df.head()"
   ]
  },
  {
   "cell_type": "markdown",
   "metadata": {},
   "source": [
    "## Creacion de una nueva columna"
   ]
  },
  {
   "cell_type": "markdown",
   "metadata": {},
   "source": [
    "Crear una nueva columna basada en los datos es muy sencillo se poner el nombre de la columna y se le asigna un valor"
   ]
  },
  {
   "cell_type": "code",
   "execution_count": 151,
   "metadata": {},
   "outputs": [
    {
     "name": "stdout",
     "output_type": "stream",
     "text": [
      "antes de crear un valor\n"
     ]
    },
    {
     "data": {
      "text/html": [
       "<div>\n",
       "<table border=\"1\" class=\"dataframe\">\n",
       "  <thead>\n",
       "    <tr style=\"text-align: right;\">\n",
       "      <th></th>\n",
       "      <th>idsub</th>\n",
       "      <th>sexo</th>\n",
       "      <th>edad</th>\n",
       "      <th>altura</th>\n",
       "      <th>peso</th>\n",
       "      <th>tratamiento</th>\n",
       "      <th>supervivencia</th>\n",
       "    </tr>\n",
       "  </thead>\n",
       "  <tbody>\n",
       "    <tr>\n",
       "      <th>0</th>\n",
       "      <td>1000</td>\n",
       "      <td>0</td>\n",
       "      <td>61</td>\n",
       "      <td>166</td>\n",
       "      <td>74</td>\n",
       "      <td>1</td>\n",
       "      <td>2</td>\n",
       "    </tr>\n",
       "    <tr>\n",
       "      <th>1</th>\n",
       "      <td>1001</td>\n",
       "      <td>0</td>\n",
       "      <td>21</td>\n",
       "      <td>179</td>\n",
       "      <td>89</td>\n",
       "      <td>1</td>\n",
       "      <td>4</td>\n",
       "    </tr>\n",
       "  </tbody>\n",
       "</table>\n",
       "</div>"
      ],
      "text/plain": [
       "   idsub  sexo  edad  altura  peso  tratamiento  supervivencia\n",
       "0   1000     0    61     166    74            1              2\n",
       "1   1001     0    21     179    89            1              4"
      ]
     },
     "metadata": {},
     "output_type": "display_data"
    },
    {
     "name": "stdout",
     "output_type": "stream",
     "text": [
      "hemos creado un nuevo valor\n"
     ]
    },
    {
     "data": {
      "text/html": [
       "<div>\n",
       "<table border=\"1\" class=\"dataframe\">\n",
       "  <thead>\n",
       "    <tr style=\"text-align: right;\">\n",
       "      <th></th>\n",
       "      <th>idsub</th>\n",
       "      <th>sexo</th>\n",
       "      <th>edad</th>\n",
       "      <th>altura</th>\n",
       "      <th>peso</th>\n",
       "      <th>tratamiento</th>\n",
       "      <th>supervivencia</th>\n",
       "      <th>imc</th>\n",
       "    </tr>\n",
       "  </thead>\n",
       "  <tbody>\n",
       "    <tr>\n",
       "      <th>0</th>\n",
       "      <td>1000</td>\n",
       "      <td>0</td>\n",
       "      <td>61</td>\n",
       "      <td>166</td>\n",
       "      <td>74</td>\n",
       "      <td>1</td>\n",
       "      <td>2</td>\n",
       "      <td>5</td>\n",
       "    </tr>\n",
       "    <tr>\n",
       "      <th>1</th>\n",
       "      <td>1001</td>\n",
       "      <td>0</td>\n",
       "      <td>21</td>\n",
       "      <td>179</td>\n",
       "      <td>89</td>\n",
       "      <td>1</td>\n",
       "      <td>4</td>\n",
       "      <td>5</td>\n",
       "    </tr>\n",
       "  </tbody>\n",
       "</table>\n",
       "</div>"
      ],
      "text/plain": [
       "   idsub  sexo  edad  altura  peso  tratamiento  supervivencia  imc\n",
       "0   1000     0    61     166    74            1              2    5\n",
       "1   1001     0    21     179    89            1              4    5"
      ]
     },
     "metadata": {},
     "output_type": "display_data"
    }
   ],
   "source": [
    "print 'antes de crear un valor'\n",
    "display(df.head(2))\n",
    "df['imc'] = 5\n",
    "print 'hemos creado un nuevo valor'\n",
    "display(df.head(2))"
   ]
  },
  {
   "cell_type": "markdown",
   "metadata": {},
   "source": [
    "se puede bien modificar el valor con alguna operacion si queremos"
   ]
  },
  {
   "cell_type": "code",
   "execution_count": 152,
   "metadata": {},
   "outputs": [
    {
     "data": {
      "text/html": [
       "<div>\n",
       "<table border=\"1\" class=\"dataframe\">\n",
       "  <thead>\n",
       "    <tr style=\"text-align: right;\">\n",
       "      <th></th>\n",
       "      <th>idsub</th>\n",
       "      <th>sexo</th>\n",
       "      <th>edad</th>\n",
       "      <th>altura</th>\n",
       "      <th>peso</th>\n",
       "      <th>tratamiento</th>\n",
       "      <th>supervivencia</th>\n",
       "      <th>imc</th>\n",
       "    </tr>\n",
       "  </thead>\n",
       "  <tbody>\n",
       "    <tr>\n",
       "      <th>0</th>\n",
       "      <td>1000</td>\n",
       "      <td>0</td>\n",
       "      <td>61</td>\n",
       "      <td>166</td>\n",
       "      <td>74</td>\n",
       "      <td>1</td>\n",
       "      <td>2</td>\n",
       "      <td>8</td>\n",
       "    </tr>\n",
       "    <tr>\n",
       "      <th>1</th>\n",
       "      <td>1001</td>\n",
       "      <td>0</td>\n",
       "      <td>21</td>\n",
       "      <td>179</td>\n",
       "      <td>89</td>\n",
       "      <td>1</td>\n",
       "      <td>4</td>\n",
       "      <td>8</td>\n",
       "    </tr>\n",
       "  </tbody>\n",
       "</table>\n",
       "</div>"
      ],
      "text/plain": [
       "   idsub  sexo  edad  altura  peso  tratamiento  supervivencia  imc\n",
       "0   1000     0    61     166    74            1              2    8\n",
       "1   1001     0    21     179    89            1              4    8"
      ]
     },
     "metadata": {},
     "output_type": "display_data"
    }
   ],
   "source": [
    "df['imc'] = df['imc'] + 3\n",
    "display(df.head(2))"
   ]
  },
  {
   "cell_type": "markdown",
   "metadata": {},
   "source": [
    "y se pueden utilizar los valores de otras columnas para calcular el valor y asignarlo. Por ejemplo vamos a calcular el indice de  masa corporal imc cuya formula es la siguiente:\n",
    "\n",
    "imc = peso / altura^2 \n",
    "\n",
    "la altura debe estar en metros y el peso en kg"
   ]
  },
  {
   "cell_type": "code",
   "execution_count": 15,
   "metadata": {},
   "outputs": [
    {
     "data": {
      "text/html": [
       "<div>\n",
       "<table border=\"1\" class=\"dataframe\">\n",
       "  <thead>\n",
       "    <tr style=\"text-align: right;\">\n",
       "      <th></th>\n",
       "      <th>idsub</th>\n",
       "      <th>sexo</th>\n",
       "      <th>edad</th>\n",
       "      <th>altura</th>\n",
       "      <th>peso</th>\n",
       "      <th>tratamiento</th>\n",
       "      <th>supervivencia</th>\n",
       "      <th>grupo_edad</th>\n",
       "      <th>tratamiento_label</th>\n",
       "      <th>sexo_label</th>\n",
       "      <th>imc</th>\n",
       "    </tr>\n",
       "  </thead>\n",
       "  <tbody>\n",
       "    <tr>\n",
       "      <th>0</th>\n",
       "      <td>1000</td>\n",
       "      <td>0</td>\n",
       "      <td>61</td>\n",
       "      <td>166</td>\n",
       "      <td>74</td>\n",
       "      <td>1</td>\n",
       "      <td>2</td>\n",
       "      <td>anciano</td>\n",
       "      <td>Radio</td>\n",
       "      <td>Hombre</td>\n",
       "      <td>26.854406</td>\n",
       "    </tr>\n",
       "    <tr>\n",
       "      <th>1</th>\n",
       "      <td>1001</td>\n",
       "      <td>0</td>\n",
       "      <td>21</td>\n",
       "      <td>179</td>\n",
       "      <td>89</td>\n",
       "      <td>1</td>\n",
       "      <td>4</td>\n",
       "      <td>joven</td>\n",
       "      <td>Radio</td>\n",
       "      <td>Hombre</td>\n",
       "      <td>27.776911</td>\n",
       "    </tr>\n",
       "  </tbody>\n",
       "</table>\n",
       "</div>"
      ],
      "text/plain": [
       "   idsub  sexo  edad  altura  peso  tratamiento  supervivencia grupo_edad  \\\n",
       "0   1000     0    61     166    74            1              2    anciano   \n",
       "1   1001     0    21     179    89            1              4      joven   \n",
       "\n",
       "  tratamiento_label sexo_label        imc  \n",
       "0             Radio     Hombre  26.854406  \n",
       "1             Radio     Hombre  27.776911  "
      ]
     },
     "metadata": {},
     "output_type": "display_data"
    }
   ],
   "source": [
    "df['imc'] = df['peso'] / (df['altura']/100)**2 # recuerda que la altura esta en cm hay que pasarla a metros\n",
    "display(df.head(2))"
   ]
  },
  {
   "cell_type": "markdown",
   "metadata": {},
   "source": [
    "Una de las caracteristicas interesantes de Pandas es la habilidad de aplicar funciones a las filas o columnas. Para ello se utiliza el metodo _apply_ previamente definida la funcion. Vamos a cambiar el sexo por algo mas explicito ya que los numeros no dicen mucho y pueden despistar."
   ]
  },
  {
   "cell_type": "code",
   "execution_count": 12,
   "metadata": {
    "collapsed": true
   },
   "outputs": [],
   "source": [
    "def sexo2label(data = None):\n",
    "    if data['sexo'] == 0:\n",
    "        return 'Hombre'\n",
    "    else:\n",
    "        return 'Mujer'"
   ]
  },
  {
   "cell_type": "markdown",
   "metadata": {},
   "source": [
    "Una vez definida la funcion, podemos utilizar _apply_ y generar la columna"
   ]
  },
  {
   "cell_type": "code",
   "execution_count": 13,
   "metadata": {},
   "outputs": [
    {
     "data": {
      "text/html": [
       "<div>\n",
       "<table border=\"1\" class=\"dataframe\">\n",
       "  <thead>\n",
       "    <tr style=\"text-align: right;\">\n",
       "      <th></th>\n",
       "      <th>idsub</th>\n",
       "      <th>sexo</th>\n",
       "      <th>edad</th>\n",
       "      <th>altura</th>\n",
       "      <th>peso</th>\n",
       "      <th>tratamiento</th>\n",
       "      <th>supervivencia</th>\n",
       "      <th>grupo_edad</th>\n",
       "      <th>tratamiento_label</th>\n",
       "      <th>sexo_label</th>\n",
       "    </tr>\n",
       "  </thead>\n",
       "  <tbody>\n",
       "    <tr>\n",
       "      <th>0</th>\n",
       "      <td>1000</td>\n",
       "      <td>0</td>\n",
       "      <td>61</td>\n",
       "      <td>166</td>\n",
       "      <td>74</td>\n",
       "      <td>1</td>\n",
       "      <td>2</td>\n",
       "      <td>anciano</td>\n",
       "      <td>Radio</td>\n",
       "      <td>Hombre</td>\n",
       "    </tr>\n",
       "    <tr>\n",
       "      <th>1</th>\n",
       "      <td>1001</td>\n",
       "      <td>0</td>\n",
       "      <td>21</td>\n",
       "      <td>179</td>\n",
       "      <td>89</td>\n",
       "      <td>1</td>\n",
       "      <td>4</td>\n",
       "      <td>joven</td>\n",
       "      <td>Radio</td>\n",
       "      <td>Hombre</td>\n",
       "    </tr>\n",
       "  </tbody>\n",
       "</table>\n",
       "</div>"
      ],
      "text/plain": [
       "   idsub  sexo  edad  altura  peso  tratamiento  supervivencia grupo_edad  \\\n",
       "0   1000     0    61     166    74            1              2    anciano   \n",
       "1   1001     0    21     179    89            1              4      joven   \n",
       "\n",
       "  tratamiento_label sexo_label  \n",
       "0             Radio     Hombre  \n",
       "1             Radio     Hombre  "
      ]
     },
     "metadata": {},
     "output_type": "display_data"
    }
   ],
   "source": [
    "df['sexo_label'] = df.apply(sexo2label, axis=1)\n",
    "display(df.head(2))"
   ]
  },
  {
   "cell_type": "markdown",
   "metadata": {},
   "source": [
    "Ahora ya tenemos una etiqueta para el sexo de las personas participantes en el estudio. Podemos definir tambien una para los tratamientos y hacerlos mas claros."
   ]
  },
  {
   "cell_type": "code",
   "execution_count": 10,
   "metadata": {
    "collapsed": true
   },
   "outputs": [],
   "source": [
    "def tratamiento2label(data = None):\n",
    "    if data['tratamiento'] == 0:\n",
    "        return 'Quimio'\n",
    "    else:\n",
    "        return 'Radio'"
   ]
  },
  {
   "cell_type": "code",
   "execution_count": 11,
   "metadata": {},
   "outputs": [
    {
     "data": {
      "text/html": [
       "<div>\n",
       "<table border=\"1\" class=\"dataframe\">\n",
       "  <thead>\n",
       "    <tr style=\"text-align: right;\">\n",
       "      <th></th>\n",
       "      <th>idsub</th>\n",
       "      <th>sexo</th>\n",
       "      <th>edad</th>\n",
       "      <th>altura</th>\n",
       "      <th>peso</th>\n",
       "      <th>tratamiento</th>\n",
       "      <th>supervivencia</th>\n",
       "      <th>grupo_edad</th>\n",
       "      <th>tratamiento_label</th>\n",
       "    </tr>\n",
       "  </thead>\n",
       "  <tbody>\n",
       "    <tr>\n",
       "      <th>0</th>\n",
       "      <td>1000</td>\n",
       "      <td>0</td>\n",
       "      <td>61</td>\n",
       "      <td>166</td>\n",
       "      <td>74</td>\n",
       "      <td>1</td>\n",
       "      <td>2</td>\n",
       "      <td>anciano</td>\n",
       "      <td>Radio</td>\n",
       "    </tr>\n",
       "    <tr>\n",
       "      <th>1</th>\n",
       "      <td>1001</td>\n",
       "      <td>0</td>\n",
       "      <td>21</td>\n",
       "      <td>179</td>\n",
       "      <td>89</td>\n",
       "      <td>1</td>\n",
       "      <td>4</td>\n",
       "      <td>joven</td>\n",
       "      <td>Radio</td>\n",
       "    </tr>\n",
       "  </tbody>\n",
       "</table>\n",
       "</div>"
      ],
      "text/plain": [
       "   idsub  sexo  edad  altura  peso  tratamiento  supervivencia grupo_edad  \\\n",
       "0   1000     0    61     166    74            1              2    anciano   \n",
       "1   1001     0    21     179    89            1              4      joven   \n",
       "\n",
       "  tratamiento_label  \n",
       "0             Radio  \n",
       "1             Radio  "
      ]
     },
     "metadata": {},
     "output_type": "display_data"
    }
   ],
   "source": [
    "df['tratamiento_label'] = df.apply(tratamiento2label, axis=1)\n",
    "display(df.head(2))"
   ]
  },
  {
   "cell_type": "markdown",
   "metadata": {},
   "source": [
    "Se puede acceder a las columnas nuevas como de costumbre..."
   ]
  },
  {
   "cell_type": "code",
   "execution_count": 159,
   "metadata": {},
   "outputs": [
    {
     "name": "stdout",
     "output_type": "stream",
     "text": [
      "accedo a traves de la nueva columna tratamiento_label\n"
     ]
    },
    {
     "data": {
      "text/html": [
       "<div>\n",
       "<table border=\"1\" class=\"dataframe\">\n",
       "  <thead>\n",
       "    <tr style=\"text-align: right;\">\n",
       "      <th></th>\n",
       "      <th>idsub</th>\n",
       "      <th>sexo</th>\n",
       "      <th>edad</th>\n",
       "      <th>altura</th>\n",
       "      <th>peso</th>\n",
       "      <th>tratamiento</th>\n",
       "      <th>supervivencia</th>\n",
       "      <th>imc</th>\n",
       "      <th>sexo_label</th>\n",
       "      <th>tratamiento_label</th>\n",
       "    </tr>\n",
       "  </thead>\n",
       "  <tbody>\n",
       "    <tr>\n",
       "      <th>3</th>\n",
       "      <td>1003</td>\n",
       "      <td>0</td>\n",
       "      <td>27</td>\n",
       "      <td>162</td>\n",
       "      <td>81</td>\n",
       "      <td>0</td>\n",
       "      <td>2</td>\n",
       "      <td>30.864198</td>\n",
       "      <td>Hombre</td>\n",
       "      <td>Quimio</td>\n",
       "    </tr>\n",
       "    <tr>\n",
       "      <th>5</th>\n",
       "      <td>1005</td>\n",
       "      <td>0</td>\n",
       "      <td>66</td>\n",
       "      <td>174</td>\n",
       "      <td>76</td>\n",
       "      <td>0</td>\n",
       "      <td>2</td>\n",
       "      <td>25.102391</td>\n",
       "      <td>Hombre</td>\n",
       "      <td>Quimio</td>\n",
       "    </tr>\n",
       "  </tbody>\n",
       "</table>\n",
       "</div>"
      ],
      "text/plain": [
       "   idsub  sexo  edad  altura  peso  tratamiento  supervivencia        imc  \\\n",
       "3   1003     0    27     162    81            0              2  30.864198   \n",
       "5   1005     0    66     174    76            0              2  25.102391   \n",
       "\n",
       "  sexo_label tratamiento_label  \n",
       "3     Hombre            Quimio  \n",
       "5     Hombre            Quimio  "
      ]
     },
     "metadata": {},
     "output_type": "display_data"
    },
    {
     "name": "stdout",
     "output_type": "stream",
     "text": [
      "accedo a traves de la columna tratamiento\n"
     ]
    },
    {
     "data": {
      "text/html": [
       "<div>\n",
       "<table border=\"1\" class=\"dataframe\">\n",
       "  <thead>\n",
       "    <tr style=\"text-align: right;\">\n",
       "      <th></th>\n",
       "      <th>idsub</th>\n",
       "      <th>sexo</th>\n",
       "      <th>edad</th>\n",
       "      <th>altura</th>\n",
       "      <th>peso</th>\n",
       "      <th>tratamiento</th>\n",
       "      <th>supervivencia</th>\n",
       "      <th>imc</th>\n",
       "      <th>sexo_label</th>\n",
       "      <th>tratamiento_label</th>\n",
       "    </tr>\n",
       "  </thead>\n",
       "  <tbody>\n",
       "    <tr>\n",
       "      <th>3</th>\n",
       "      <td>1003</td>\n",
       "      <td>0</td>\n",
       "      <td>27</td>\n",
       "      <td>162</td>\n",
       "      <td>81</td>\n",
       "      <td>0</td>\n",
       "      <td>2</td>\n",
       "      <td>30.864198</td>\n",
       "      <td>Hombre</td>\n",
       "      <td>Quimio</td>\n",
       "    </tr>\n",
       "    <tr>\n",
       "      <th>5</th>\n",
       "      <td>1005</td>\n",
       "      <td>0</td>\n",
       "      <td>66</td>\n",
       "      <td>174</td>\n",
       "      <td>76</td>\n",
       "      <td>0</td>\n",
       "      <td>2</td>\n",
       "      <td>25.102391</td>\n",
       "      <td>Hombre</td>\n",
       "      <td>Quimio</td>\n",
       "    </tr>\n",
       "  </tbody>\n",
       "</table>\n",
       "</div>"
      ],
      "text/plain": [
       "   idsub  sexo  edad  altura  peso  tratamiento  supervivencia        imc  \\\n",
       "3   1003     0    27     162    81            0              2  30.864198   \n",
       "5   1005     0    66     174    76            0              2  25.102391   \n",
       "\n",
       "  sexo_label tratamiento_label  \n",
       "3     Hombre            Quimio  \n",
       "5     Hombre            Quimio  "
      ]
     },
     "metadata": {},
     "output_type": "display_data"
    }
   ],
   "source": [
    "print 'accedo a traves de la nueva columna tratamiento_label'\n",
    "display(df[df['tratamiento_label']=='Quimio'].head(2))\n",
    "print 'accedo a traves de la columna tratamiento'\n",
    "display(df[df['tratamiento']==0].head(2))"
   ]
  },
  {
   "cell_type": "markdown",
   "metadata": {},
   "source": [
    "## Groupby"
   ]
  },
  {
   "cell_type": "markdown",
   "metadata": {},
   "source": [
    "Se pueden calcular estadisticas para las columnas como el numero de elementos, la media, desviacion estandar... pero que ocurre si queremos averiguar cosas de los diferentes grupos existentes en los datos??. Podemos utilizar la clausula _groupby_\n",
    "\n",
    "Vamos a agrupar por sexo para ver diferentes estadisticas"
   ]
  },
  {
   "cell_type": "code",
   "execution_count": 160,
   "metadata": {},
   "outputs": [],
   "source": [
    "grouped = df.groupby('sexo_label') #hemos creado un DataFrame agrupado"
   ]
  },
  {
   "cell_type": "markdown",
   "metadata": {},
   "source": [
    "Ahora podemos calcular medidas diferenciando hombres de mujeres"
   ]
  },
  {
   "cell_type": "code",
   "execution_count": 107,
   "metadata": {},
   "outputs": [
    {
     "name": "stdout",
     "output_type": "stream",
     "text": [
      "media de los grupos Hombre y Mujer\n"
     ]
    },
    {
     "data": {
      "text/html": [
       "<div>\n",
       "<table border=\"1\" class=\"dataframe\">\n",
       "  <thead>\n",
       "    <tr style=\"text-align: right;\">\n",
       "      <th></th>\n",
       "      <th>idsub</th>\n",
       "      <th>sexo</th>\n",
       "      <th>edad</th>\n",
       "      <th>altura</th>\n",
       "      <th>peso</th>\n",
       "      <th>tratamiento</th>\n",
       "      <th>supervivencia</th>\n",
       "      <th>imc</th>\n",
       "    </tr>\n",
       "    <tr>\n",
       "      <th>sexo_label</th>\n",
       "      <th></th>\n",
       "      <th></th>\n",
       "      <th></th>\n",
       "      <th></th>\n",
       "      <th></th>\n",
       "      <th></th>\n",
       "      <th></th>\n",
       "      <th></th>\n",
       "    </tr>\n",
       "  </thead>\n",
       "  <tbody>\n",
       "    <tr>\n",
       "      <th>Hombre</th>\n",
       "      <td>1024.5</td>\n",
       "      <td>0</td>\n",
       "      <td>46.88</td>\n",
       "      <td>174.02</td>\n",
       "      <td>74.32</td>\n",
       "      <td>0.58</td>\n",
       "      <td>3.06</td>\n",
       "      <td>24.767356</td>\n",
       "    </tr>\n",
       "    <tr>\n",
       "      <th>Mujer</th>\n",
       "      <td>1074.5</td>\n",
       "      <td>1</td>\n",
       "      <td>43.78</td>\n",
       "      <td>160.26</td>\n",
       "      <td>60.24</td>\n",
       "      <td>0.48</td>\n",
       "      <td>3.50</td>\n",
       "      <td>23.570926</td>\n",
       "    </tr>\n",
       "  </tbody>\n",
       "</table>\n",
       "</div>"
      ],
      "text/plain": [
       "             idsub  sexo   edad  altura   peso  tratamiento  supervivencia  \\\n",
       "sexo_label                                                                   \n",
       "Hombre      1024.5     0  46.88  174.02  74.32         0.58           3.06   \n",
       "Mujer       1074.5     1  43.78  160.26  60.24         0.48           3.50   \n",
       "\n",
       "                  imc  \n",
       "sexo_label             \n",
       "Hombre      24.767356  \n",
       "Mujer       23.570926  "
      ]
     },
     "metadata": {},
     "output_type": "display_data"
    },
    {
     "name": "stdout",
     "output_type": "stream",
     "text": [
      "count de las filas de Hombre y Mujer\n"
     ]
    },
    {
     "data": {
      "text/html": [
       "<div>\n",
       "<table border=\"1\" class=\"dataframe\">\n",
       "  <thead>\n",
       "    <tr style=\"text-align: right;\">\n",
       "      <th></th>\n",
       "      <th>idsub</th>\n",
       "      <th>sexo</th>\n",
       "      <th>edad</th>\n",
       "      <th>altura</th>\n",
       "      <th>peso</th>\n",
       "      <th>tratamiento</th>\n",
       "      <th>supervivencia</th>\n",
       "      <th>imc</th>\n",
       "      <th>tratamiento_label</th>\n",
       "    </tr>\n",
       "    <tr>\n",
       "      <th>sexo_label</th>\n",
       "      <th></th>\n",
       "      <th></th>\n",
       "      <th></th>\n",
       "      <th></th>\n",
       "      <th></th>\n",
       "      <th></th>\n",
       "      <th></th>\n",
       "      <th></th>\n",
       "      <th></th>\n",
       "    </tr>\n",
       "  </thead>\n",
       "  <tbody>\n",
       "    <tr>\n",
       "      <th>Hombre</th>\n",
       "      <td>50</td>\n",
       "      <td>50</td>\n",
       "      <td>50</td>\n",
       "      <td>50</td>\n",
       "      <td>50</td>\n",
       "      <td>50</td>\n",
       "      <td>50</td>\n",
       "      <td>50</td>\n",
       "      <td>50</td>\n",
       "    </tr>\n",
       "    <tr>\n",
       "      <th>Mujer</th>\n",
       "      <td>50</td>\n",
       "      <td>50</td>\n",
       "      <td>50</td>\n",
       "      <td>50</td>\n",
       "      <td>50</td>\n",
       "      <td>50</td>\n",
       "      <td>50</td>\n",
       "      <td>50</td>\n",
       "      <td>50</td>\n",
       "    </tr>\n",
       "  </tbody>\n",
       "</table>\n",
       "</div>"
      ],
      "text/plain": [
       "            idsub  sexo  edad  altura  peso  tratamiento  supervivencia  imc  \\\n",
       "sexo_label                                                                     \n",
       "Hombre         50    50    50      50    50           50             50   50   \n",
       "Mujer          50    50    50      50    50           50             50   50   \n",
       "\n",
       "            tratamiento_label  \n",
       "sexo_label                     \n",
       "Hombre                     50  \n",
       "Mujer                      50  "
      ]
     },
     "metadata": {},
     "output_type": "display_data"
    }
   ],
   "source": [
    "print 'media de los grupos Hombre y Mujer'\n",
    "display(grouped.mean())\n",
    "print 'count de las filas de Hombre y Mujer'\n",
    "display(grouped.count())"
   ]
  },
  {
   "cell_type": "markdown",
   "metadata": {},
   "source": [
    "Que ha pasado? Puedes imaginar que Python ha creado dos DataFrames pequenitos que contienen por un lado los datos para hombres y por otro para las mujeres. Los calculos ahora se hacen para cada uno de los valores de la variable por la que se agrupo."
   ]
  },
  {
   "cell_type": "markdown",
   "metadata": {},
   "source": [
    "De esta forma resulta muy sencillo responder a preguntas tipo:  \n",
    "* Cual es la mujer y el hombre de mayor peso?\n",
    "* Los de menor?"
   ]
  },
  {
   "cell_type": "code",
   "execution_count": 162,
   "metadata": {},
   "outputs": [
    {
     "name": "stdout",
     "output_type": "stream",
     "text": [
      "los de mayor peso\n"
     ]
    },
    {
     "data": {
      "text/html": [
       "<div>\n",
       "<table border=\"1\" class=\"dataframe\">\n",
       "  <thead>\n",
       "    <tr style=\"text-align: right;\">\n",
       "      <th></th>\n",
       "      <th>idsub</th>\n",
       "      <th>sexo</th>\n",
       "      <th>edad</th>\n",
       "      <th>altura</th>\n",
       "      <th>peso</th>\n",
       "      <th>tratamiento</th>\n",
       "      <th>supervivencia</th>\n",
       "      <th>imc</th>\n",
       "      <th>tratamiento_label</th>\n",
       "    </tr>\n",
       "    <tr>\n",
       "      <th>sexo_label</th>\n",
       "      <th></th>\n",
       "      <th></th>\n",
       "      <th></th>\n",
       "      <th></th>\n",
       "      <th></th>\n",
       "      <th></th>\n",
       "      <th></th>\n",
       "      <th></th>\n",
       "      <th></th>\n",
       "    </tr>\n",
       "  </thead>\n",
       "  <tbody>\n",
       "    <tr>\n",
       "      <th>Hombre</th>\n",
       "      <td>1049</td>\n",
       "      <td>0</td>\n",
       "      <td>69</td>\n",
       "      <td>189</td>\n",
       "      <td>89</td>\n",
       "      <td>1</td>\n",
       "      <td>5</td>\n",
       "      <td>33.177732</td>\n",
       "      <td>Radio</td>\n",
       "    </tr>\n",
       "    <tr>\n",
       "      <th>Mujer</th>\n",
       "      <td>1099</td>\n",
       "      <td>1</td>\n",
       "      <td>69</td>\n",
       "      <td>172</td>\n",
       "      <td>69</td>\n",
       "      <td>1</td>\n",
       "      <td>5</td>\n",
       "      <td>29.777778</td>\n",
       "      <td>Radio</td>\n",
       "    </tr>\n",
       "  </tbody>\n",
       "</table>\n",
       "</div>"
      ],
      "text/plain": [
       "            idsub  sexo  edad  altura  peso  tratamiento  supervivencia  \\\n",
       "sexo_label                                                                \n",
       "Hombre       1049     0    69     189    89            1              5   \n",
       "Mujer        1099     1    69     172    69            1              5   \n",
       "\n",
       "                  imc tratamiento_label  \n",
       "sexo_label                               \n",
       "Hombre      33.177732             Radio  \n",
       "Mujer       29.777778             Radio  "
      ]
     },
     "metadata": {},
     "output_type": "display_data"
    },
    {
     "name": "stdout",
     "output_type": "stream",
     "text": [
      "los de menor peso\n"
     ]
    },
    {
     "data": {
      "text/html": [
       "<div>\n",
       "<table border=\"1\" class=\"dataframe\">\n",
       "  <thead>\n",
       "    <tr style=\"text-align: right;\">\n",
       "      <th></th>\n",
       "      <th>idsub</th>\n",
       "      <th>sexo</th>\n",
       "      <th>edad</th>\n",
       "      <th>altura</th>\n",
       "      <th>peso</th>\n",
       "      <th>tratamiento</th>\n",
       "      <th>supervivencia</th>\n",
       "      <th>imc</th>\n",
       "      <th>tratamiento_label</th>\n",
       "    </tr>\n",
       "    <tr>\n",
       "      <th>sexo_label</th>\n",
       "      <th></th>\n",
       "      <th></th>\n",
       "      <th></th>\n",
       "      <th></th>\n",
       "      <th></th>\n",
       "      <th></th>\n",
       "      <th></th>\n",
       "      <th></th>\n",
       "      <th></th>\n",
       "    </tr>\n",
       "  </thead>\n",
       "  <tbody>\n",
       "    <tr>\n",
       "      <th>Hombre</th>\n",
       "      <td>1000</td>\n",
       "      <td>0</td>\n",
       "      <td>20</td>\n",
       "      <td>160</td>\n",
       "      <td>56</td>\n",
       "      <td>0</td>\n",
       "      <td>1</td>\n",
       "      <td>16.186842</td>\n",
       "      <td>Quimio</td>\n",
       "    </tr>\n",
       "    <tr>\n",
       "      <th>Mujer</th>\n",
       "      <td>1050</td>\n",
       "      <td>1</td>\n",
       "      <td>20</td>\n",
       "      <td>150</td>\n",
       "      <td>50</td>\n",
       "      <td>0</td>\n",
       "      <td>1</td>\n",
       "      <td>17.239048</td>\n",
       "      <td>Quimio</td>\n",
       "    </tr>\n",
       "  </tbody>\n",
       "</table>\n",
       "</div>"
      ],
      "text/plain": [
       "            idsub  sexo  edad  altura  peso  tratamiento  supervivencia  \\\n",
       "sexo_label                                                                \n",
       "Hombre       1000     0    20     160    56            0              1   \n",
       "Mujer        1050     1    20     150    50            0              1   \n",
       "\n",
       "                  imc tratamiento_label  \n",
       "sexo_label                               \n",
       "Hombre      16.186842            Quimio  \n",
       "Mujer       17.239048            Quimio  "
      ]
     },
     "metadata": {},
     "output_type": "display_data"
    }
   ],
   "source": [
    "print 'los de mayor peso'\n",
    "display(grouped.max())\n",
    "print 'los de menor peso'\n",
    "display(grouped.min())"
   ]
  },
  {
   "cell_type": "markdown",
   "metadata": {},
   "source": [
    "Se puede agrupar por mas de una columna"
   ]
  },
  {
   "cell_type": "code",
   "execution_count": 143,
   "metadata": {},
   "outputs": [],
   "source": [
    "df = df.reset_index()"
   ]
  },
  {
   "cell_type": "code",
   "execution_count": 167,
   "metadata": {},
   "outputs": [
    {
     "data": {
      "text/html": [
       "<div>\n",
       "<table border=\"1\" class=\"dataframe\">\n",
       "  <thead>\n",
       "    <tr style=\"text-align: right;\">\n",
       "      <th></th>\n",
       "      <th></th>\n",
       "      <th>idsub</th>\n",
       "      <th>sexo</th>\n",
       "      <th>edad</th>\n",
       "      <th>altura</th>\n",
       "      <th>peso</th>\n",
       "      <th>tratamiento</th>\n",
       "      <th>supervivencia</th>\n",
       "      <th>imc</th>\n",
       "    </tr>\n",
       "    <tr>\n",
       "      <th>sexo_label</th>\n",
       "      <th>tratamiento_label</th>\n",
       "      <th></th>\n",
       "      <th></th>\n",
       "      <th></th>\n",
       "      <th></th>\n",
       "      <th></th>\n",
       "      <th></th>\n",
       "      <th></th>\n",
       "      <th></th>\n",
       "    </tr>\n",
       "  </thead>\n",
       "  <tbody>\n",
       "    <tr>\n",
       "      <th rowspan=\"2\" valign=\"top\">Hombre</th>\n",
       "      <th>Quimio</th>\n",
       "      <td>1024.640000</td>\n",
       "      <td>0</td>\n",
       "      <td>46.360000</td>\n",
       "      <td>170.480000</td>\n",
       "      <td>75.680000</td>\n",
       "      <td>0</td>\n",
       "      <td>3.320000</td>\n",
       "      <td>26.092685</td>\n",
       "    </tr>\n",
       "    <tr>\n",
       "      <th>Radio</th>\n",
       "      <td>1024.360000</td>\n",
       "      <td>0</td>\n",
       "      <td>43.520000</td>\n",
       "      <td>175.800000</td>\n",
       "      <td>70.480000</td>\n",
       "      <td>1</td>\n",
       "      <td>2.800000</td>\n",
       "      <td>22.968128</td>\n",
       "    </tr>\n",
       "    <tr>\n",
       "      <th rowspan=\"2\" valign=\"top\">Mujer</th>\n",
       "      <th>Quimio</th>\n",
       "      <td>1070.517241</td>\n",
       "      <td>1</td>\n",
       "      <td>46.965517</td>\n",
       "      <td>161.551724</td>\n",
       "      <td>61.344828</td>\n",
       "      <td>0</td>\n",
       "      <td>3.655172</td>\n",
       "      <td>23.627459</td>\n",
       "    </tr>\n",
       "    <tr>\n",
       "      <th>Radio</th>\n",
       "      <td>1080.000000</td>\n",
       "      <td>1</td>\n",
       "      <td>43.380952</td>\n",
       "      <td>162.857143</td>\n",
       "      <td>59.000000</td>\n",
       "      <td>1</td>\n",
       "      <td>3.428571</td>\n",
       "      <td>22.337598</td>\n",
       "    </tr>\n",
       "  </tbody>\n",
       "</table>\n",
       "</div>"
      ],
      "text/plain": [
       "                                    idsub  sexo       edad      altura  \\\n",
       "sexo_label tratamiento_label                                             \n",
       "Hombre     Quimio             1024.640000     0  46.360000  170.480000   \n",
       "           Radio              1024.360000     0  43.520000  175.800000   \n",
       "Mujer      Quimio             1070.517241     1  46.965517  161.551724   \n",
       "           Radio              1080.000000     1  43.380952  162.857143   \n",
       "\n",
       "                                   peso  tratamiento  supervivencia        imc  \n",
       "sexo_label tratamiento_label                                                    \n",
       "Hombre     Quimio             75.680000            0       3.320000  26.092685  \n",
       "           Radio              70.480000            1       2.800000  22.968128  \n",
       "Mujer      Quimio             61.344828            0       3.655172  23.627459  \n",
       "           Radio              59.000000            1       3.428571  22.337598  "
      ]
     },
     "metadata": {},
     "output_type": "display_data"
    }
   ],
   "source": [
    "grouped = df.groupby(['sexo_label', 'tratamiento_label'])\n",
    "display(grouped.mean())"
   ]
  },
  {
   "cell_type": "markdown",
   "metadata": {},
   "source": [
    "Y tambien se pueden crear funciones que afecten a los grupos de forma. Imaginar que queremos generar un ranking de supervivencia de cada uno de los grupos."
   ]
  },
  {
   "cell_type": "code",
   "execution_count": 183,
   "metadata": {},
   "outputs": [],
   "source": [
    "def rank_superv(df):\n",
    "    df['rank_superv'] = np.arange(len(df)) + 1\n",
    "    return df"
   ]
  },
  {
   "cell_type": "code",
   "execution_count": 184,
   "metadata": {},
   "outputs": [
    {
     "data": {
      "text/html": [
       "<div>\n",
       "<table border=\"1\" class=\"dataframe\">\n",
       "  <thead>\n",
       "    <tr style=\"text-align: right;\">\n",
       "      <th></th>\n",
       "      <th>idsub</th>\n",
       "      <th>sexo</th>\n",
       "      <th>edad</th>\n",
       "      <th>altura</th>\n",
       "      <th>peso</th>\n",
       "      <th>tratamiento</th>\n",
       "      <th>supervivencia</th>\n",
       "      <th>imc</th>\n",
       "      <th>sexo_label</th>\n",
       "      <th>tratamiento_label</th>\n",
       "    </tr>\n",
       "  </thead>\n",
       "  <tbody>\n",
       "    <tr>\n",
       "      <th>43</th>\n",
       "      <td>1043</td>\n",
       "      <td>0</td>\n",
       "      <td>54</td>\n",
       "      <td>189</td>\n",
       "      <td>75</td>\n",
       "      <td>0</td>\n",
       "      <td>5</td>\n",
       "      <td>20.996053</td>\n",
       "      <td>Hombre</td>\n",
       "      <td>Quimio</td>\n",
       "    </tr>\n",
       "    <tr>\n",
       "      <th>7</th>\n",
       "      <td>1007</td>\n",
       "      <td>0</td>\n",
       "      <td>64</td>\n",
       "      <td>189</td>\n",
       "      <td>66</td>\n",
       "      <td>1</td>\n",
       "      <td>5</td>\n",
       "      <td>18.476526</td>\n",
       "      <td>Hombre</td>\n",
       "      <td>Radio</td>\n",
       "    </tr>\n",
       "    <tr>\n",
       "      <th>18</th>\n",
       "      <td>1018</td>\n",
       "      <td>0</td>\n",
       "      <td>42</td>\n",
       "      <td>180</td>\n",
       "      <td>82</td>\n",
       "      <td>0</td>\n",
       "      <td>5</td>\n",
       "      <td>25.308642</td>\n",
       "      <td>Hombre</td>\n",
       "      <td>Quimio</td>\n",
       "    </tr>\n",
       "    <tr>\n",
       "      <th>70</th>\n",
       "      <td>1070</td>\n",
       "      <td>1</td>\n",
       "      <td>49</td>\n",
       "      <td>168</td>\n",
       "      <td>54</td>\n",
       "      <td>1</td>\n",
       "      <td>5</td>\n",
       "      <td>19.132653</td>\n",
       "      <td>Mujer</td>\n",
       "      <td>Radio</td>\n",
       "    </tr>\n",
       "    <tr>\n",
       "      <th>77</th>\n",
       "      <td>1077</td>\n",
       "      <td>1</td>\n",
       "      <td>46</td>\n",
       "      <td>169</td>\n",
       "      <td>62</td>\n",
       "      <td>0</td>\n",
       "      <td>5</td>\n",
       "      <td>21.707923</td>\n",
       "      <td>Mujer</td>\n",
       "      <td>Quimio</td>\n",
       "    </tr>\n",
       "    <tr>\n",
       "      <th>22</th>\n",
       "      <td>1022</td>\n",
       "      <td>0</td>\n",
       "      <td>56</td>\n",
       "      <td>170</td>\n",
       "      <td>56</td>\n",
       "      <td>1</td>\n",
       "      <td>5</td>\n",
       "      <td>19.377163</td>\n",
       "      <td>Hombre</td>\n",
       "      <td>Radio</td>\n",
       "    </tr>\n",
       "    <tr>\n",
       "      <th>6</th>\n",
       "      <td>1006</td>\n",
       "      <td>0</td>\n",
       "      <td>41</td>\n",
       "      <td>170</td>\n",
       "      <td>83</td>\n",
       "      <td>0</td>\n",
       "      <td>5</td>\n",
       "      <td>28.719723</td>\n",
       "      <td>Hombre</td>\n",
       "      <td>Quimio</td>\n",
       "    </tr>\n",
       "    <tr>\n",
       "      <th>87</th>\n",
       "      <td>1087</td>\n",
       "      <td>1</td>\n",
       "      <td>20</td>\n",
       "      <td>171</td>\n",
       "      <td>67</td>\n",
       "      <td>1</td>\n",
       "      <td>5</td>\n",
       "      <td>22.913033</td>\n",
       "      <td>Mujer</td>\n",
       "      <td>Radio</td>\n",
       "    </tr>\n",
       "    <tr>\n",
       "      <th>25</th>\n",
       "      <td>1025</td>\n",
       "      <td>0</td>\n",
       "      <td>50</td>\n",
       "      <td>172</td>\n",
       "      <td>62</td>\n",
       "      <td>0</td>\n",
       "      <td>5</td>\n",
       "      <td>20.957274</td>\n",
       "      <td>Hombre</td>\n",
       "      <td>Quimio</td>\n",
       "    </tr>\n",
       "    <tr>\n",
       "      <th>99</th>\n",
       "      <td>1099</td>\n",
       "      <td>1</td>\n",
       "      <td>62</td>\n",
       "      <td>170</td>\n",
       "      <td>58</td>\n",
       "      <td>0</td>\n",
       "      <td>5</td>\n",
       "      <td>20.069204</td>\n",
       "      <td>Mujer</td>\n",
       "      <td>Quimio</td>\n",
       "    </tr>\n",
       "  </tbody>\n",
       "</table>\n",
       "</div>"
      ],
      "text/plain": [
       "    idsub  sexo  edad  altura  peso  tratamiento  supervivencia        imc  \\\n",
       "43   1043     0    54     189    75            0              5  20.996053   \n",
       "7    1007     0    64     189    66            1              5  18.476526   \n",
       "18   1018     0    42     180    82            0              5  25.308642   \n",
       "70   1070     1    49     168    54            1              5  19.132653   \n",
       "77   1077     1    46     169    62            0              5  21.707923   \n",
       "22   1022     0    56     170    56            1              5  19.377163   \n",
       "6    1006     0    41     170    83            0              5  28.719723   \n",
       "87   1087     1    20     171    67            1              5  22.913033   \n",
       "25   1025     0    50     172    62            0              5  20.957274   \n",
       "99   1099     1    62     170    58            0              5  20.069204   \n",
       "\n",
       "   sexo_label tratamiento_label  \n",
       "43     Hombre            Quimio  \n",
       "7      Hombre             Radio  \n",
       "18     Hombre            Quimio  \n",
       "70      Mujer             Radio  \n",
       "77      Mujer            Quimio  \n",
       "22     Hombre             Radio  \n",
       "6      Hombre            Quimio  \n",
       "87      Mujer             Radio  \n",
       "25     Hombre            Quimio  \n",
       "99      Mujer            Quimio  "
      ]
     },
     "metadata": {},
     "output_type": "display_data"
    }
   ],
   "source": [
    "df = df.sort_values(['supervivencia'], ascending=False) # ordenamos para que funciones\n",
    "display(df.head(10))"
   ]
  },
  {
   "cell_type": "code",
   "execution_count": 185,
   "metadata": {},
   "outputs": [
    {
     "data": {
      "text/html": [
       "<div>\n",
       "<table border=\"1\" class=\"dataframe\">\n",
       "  <thead>\n",
       "    <tr style=\"text-align: right;\">\n",
       "      <th></th>\n",
       "      <th>idsub</th>\n",
       "      <th>sexo</th>\n",
       "      <th>edad</th>\n",
       "      <th>altura</th>\n",
       "      <th>peso</th>\n",
       "      <th>tratamiento</th>\n",
       "      <th>supervivencia</th>\n",
       "      <th>imc</th>\n",
       "      <th>sexo_label</th>\n",
       "      <th>tratamiento_label</th>\n",
       "    </tr>\n",
       "  </thead>\n",
       "  <tbody>\n",
       "    <tr>\n",
       "      <th>43</th>\n",
       "      <td>1043</td>\n",
       "      <td>0</td>\n",
       "      <td>54</td>\n",
       "      <td>189</td>\n",
       "      <td>75</td>\n",
       "      <td>0</td>\n",
       "      <td>5</td>\n",
       "      <td>20.996053</td>\n",
       "      <td>Hombre</td>\n",
       "      <td>Quimio</td>\n",
       "    </tr>\n",
       "    <tr>\n",
       "      <th>7</th>\n",
       "      <td>1007</td>\n",
       "      <td>0</td>\n",
       "      <td>64</td>\n",
       "      <td>189</td>\n",
       "      <td>66</td>\n",
       "      <td>1</td>\n",
       "      <td>5</td>\n",
       "      <td>18.476526</td>\n",
       "      <td>Hombre</td>\n",
       "      <td>Radio</td>\n",
       "    </tr>\n",
       "    <tr>\n",
       "      <th>18</th>\n",
       "      <td>1018</td>\n",
       "      <td>0</td>\n",
       "      <td>42</td>\n",
       "      <td>180</td>\n",
       "      <td>82</td>\n",
       "      <td>0</td>\n",
       "      <td>5</td>\n",
       "      <td>25.308642</td>\n",
       "      <td>Hombre</td>\n",
       "      <td>Quimio</td>\n",
       "    </tr>\n",
       "    <tr>\n",
       "      <th>70</th>\n",
       "      <td>1070</td>\n",
       "      <td>1</td>\n",
       "      <td>49</td>\n",
       "      <td>168</td>\n",
       "      <td>54</td>\n",
       "      <td>1</td>\n",
       "      <td>5</td>\n",
       "      <td>19.132653</td>\n",
       "      <td>Mujer</td>\n",
       "      <td>Radio</td>\n",
       "    </tr>\n",
       "    <tr>\n",
       "      <th>77</th>\n",
       "      <td>1077</td>\n",
       "      <td>1</td>\n",
       "      <td>46</td>\n",
       "      <td>169</td>\n",
       "      <td>62</td>\n",
       "      <td>0</td>\n",
       "      <td>5</td>\n",
       "      <td>21.707923</td>\n",
       "      <td>Mujer</td>\n",
       "      <td>Quimio</td>\n",
       "    </tr>\n",
       "    <tr>\n",
       "      <th>22</th>\n",
       "      <td>1022</td>\n",
       "      <td>0</td>\n",
       "      <td>56</td>\n",
       "      <td>170</td>\n",
       "      <td>56</td>\n",
       "      <td>1</td>\n",
       "      <td>5</td>\n",
       "      <td>19.377163</td>\n",
       "      <td>Hombre</td>\n",
       "      <td>Radio</td>\n",
       "    </tr>\n",
       "    <tr>\n",
       "      <th>6</th>\n",
       "      <td>1006</td>\n",
       "      <td>0</td>\n",
       "      <td>41</td>\n",
       "      <td>170</td>\n",
       "      <td>83</td>\n",
       "      <td>0</td>\n",
       "      <td>5</td>\n",
       "      <td>28.719723</td>\n",
       "      <td>Hombre</td>\n",
       "      <td>Quimio</td>\n",
       "    </tr>\n",
       "    <tr>\n",
       "      <th>87</th>\n",
       "      <td>1087</td>\n",
       "      <td>1</td>\n",
       "      <td>20</td>\n",
       "      <td>171</td>\n",
       "      <td>67</td>\n",
       "      <td>1</td>\n",
       "      <td>5</td>\n",
       "      <td>22.913033</td>\n",
       "      <td>Mujer</td>\n",
       "      <td>Radio</td>\n",
       "    </tr>\n",
       "    <tr>\n",
       "      <th>99</th>\n",
       "      <td>1099</td>\n",
       "      <td>1</td>\n",
       "      <td>62</td>\n",
       "      <td>170</td>\n",
       "      <td>58</td>\n",
       "      <td>0</td>\n",
       "      <td>5</td>\n",
       "      <td>20.069204</td>\n",
       "      <td>Mujer</td>\n",
       "      <td>Quimio</td>\n",
       "    </tr>\n",
       "    <tr>\n",
       "      <th>64</th>\n",
       "      <td>1064</td>\n",
       "      <td>1</td>\n",
       "      <td>51</td>\n",
       "      <td>172</td>\n",
       "      <td>51</td>\n",
       "      <td>0</td>\n",
       "      <td>5</td>\n",
       "      <td>17.239048</td>\n",
       "      <td>Mujer</td>\n",
       "      <td>Quimio</td>\n",
       "    </tr>\n",
       "  </tbody>\n",
       "</table>\n",
       "</div>"
      ],
      "text/plain": [
       "    idsub  sexo  edad  altura  peso  tratamiento  supervivencia        imc  \\\n",
       "43   1043     0    54     189    75            0              5  20.996053   \n",
       "7    1007     0    64     189    66            1              5  18.476526   \n",
       "18   1018     0    42     180    82            0              5  25.308642   \n",
       "70   1070     1    49     168    54            1              5  19.132653   \n",
       "77   1077     1    46     169    62            0              5  21.707923   \n",
       "22   1022     0    56     170    56            1              5  19.377163   \n",
       "6    1006     0    41     170    83            0              5  28.719723   \n",
       "87   1087     1    20     171    67            1              5  22.913033   \n",
       "99   1099     1    62     170    58            0              5  20.069204   \n",
       "64   1064     1    51     172    51            0              5  17.239048   \n",
       "\n",
       "   sexo_label tratamiento_label  \n",
       "43     Hombre            Quimio  \n",
       "7      Hombre             Radio  \n",
       "18     Hombre            Quimio  \n",
       "70      Mujer             Radio  \n",
       "77      Mujer            Quimio  \n",
       "22     Hombre             Radio  \n",
       "6      Hombre            Quimio  \n",
       "87      Mujer             Radio  \n",
       "99      Mujer            Quimio  \n",
       "64      Mujer            Quimio  "
      ]
     },
     "execution_count": 185,
     "metadata": {},
     "output_type": "execute_result"
    }
   ],
   "source": [
    "grouped = df.groupby('sexo_label')\n",
    "grouped.head(5)"
   ]
  },
  {
   "cell_type": "code",
   "execution_count": 187,
   "metadata": {},
   "outputs": [
    {
     "data": {
      "text/html": [
       "<div>\n",
       "<table border=\"1\" class=\"dataframe\">\n",
       "  <thead>\n",
       "    <tr style=\"text-align: right;\">\n",
       "      <th></th>\n",
       "      <th>idsub</th>\n",
       "      <th>sexo</th>\n",
       "      <th>edad</th>\n",
       "      <th>altura</th>\n",
       "      <th>peso</th>\n",
       "      <th>tratamiento</th>\n",
       "      <th>supervivencia</th>\n",
       "      <th>imc</th>\n",
       "      <th>sexo_label</th>\n",
       "      <th>tratamiento_label</th>\n",
       "    </tr>\n",
       "  </thead>\n",
       "  <tbody>\n",
       "    <tr>\n",
       "      <th>43</th>\n",
       "      <td>1043</td>\n",
       "      <td>0</td>\n",
       "      <td>54</td>\n",
       "      <td>189</td>\n",
       "      <td>75</td>\n",
       "      <td>0</td>\n",
       "      <td>5</td>\n",
       "      <td>20.996053</td>\n",
       "      <td>Hombre</td>\n",
       "      <td>Quimio</td>\n",
       "    </tr>\n",
       "    <tr>\n",
       "      <th>89</th>\n",
       "      <td>1089</td>\n",
       "      <td>1</td>\n",
       "      <td>44</td>\n",
       "      <td>158</td>\n",
       "      <td>57</td>\n",
       "      <td>1</td>\n",
       "      <td>5</td>\n",
       "      <td>22.832879</td>\n",
       "      <td>Mujer</td>\n",
       "      <td>Radio</td>\n",
       "    </tr>\n",
       "  </tbody>\n",
       "</table>\n",
       "</div>"
      ],
      "text/plain": [
       "    idsub  sexo  edad  altura  peso  tratamiento  supervivencia        imc  \\\n",
       "43   1043     0    54     189    75            0              5  20.996053   \n",
       "89   1089     1    44     158    57            1              5  22.832879   \n",
       "\n",
       "   sexo_label tratamiento_label  \n",
       "43     Hombre            Quimio  \n",
       "89      Mujer             Radio  "
      ]
     },
     "metadata": {},
     "output_type": "display_data"
    },
    {
     "data": {
      "text/html": [
       "<div>\n",
       "<table border=\"1\" class=\"dataframe\">\n",
       "  <thead>\n",
       "    <tr style=\"text-align: right;\">\n",
       "      <th></th>\n",
       "      <th>idsub</th>\n",
       "      <th>sexo</th>\n",
       "      <th>edad</th>\n",
       "      <th>altura</th>\n",
       "      <th>peso</th>\n",
       "      <th>tratamiento</th>\n",
       "      <th>supervivencia</th>\n",
       "      <th>imc</th>\n",
       "      <th>sexo_label</th>\n",
       "      <th>tratamiento_label</th>\n",
       "      <th>rank_superv</th>\n",
       "    </tr>\n",
       "  </thead>\n",
       "  <tbody>\n",
       "    <tr>\n",
       "      <th>43</th>\n",
       "      <td>1043</td>\n",
       "      <td>0</td>\n",
       "      <td>54</td>\n",
       "      <td>189</td>\n",
       "      <td>75</td>\n",
       "      <td>0</td>\n",
       "      <td>5</td>\n",
       "      <td>20.996053</td>\n",
       "      <td>Hombre</td>\n",
       "      <td>Quimio</td>\n",
       "      <td>1</td>\n",
       "    </tr>\n",
       "    <tr>\n",
       "      <th>89</th>\n",
       "      <td>1089</td>\n",
       "      <td>1</td>\n",
       "      <td>44</td>\n",
       "      <td>158</td>\n",
       "      <td>57</td>\n",
       "      <td>1</td>\n",
       "      <td>5</td>\n",
       "      <td>22.832879</td>\n",
       "      <td>Mujer</td>\n",
       "      <td>Radio</td>\n",
       "      <td>1</td>\n",
       "    </tr>\n",
       "    <tr>\n",
       "      <th>86</th>\n",
       "      <td>1086</td>\n",
       "      <td>1</td>\n",
       "      <td>64</td>\n",
       "      <td>166</td>\n",
       "      <td>63</td>\n",
       "      <td>1</td>\n",
       "      <td>5</td>\n",
       "      <td>22.862534</td>\n",
       "      <td>Mujer</td>\n",
       "      <td>Radio</td>\n",
       "      <td>2</td>\n",
       "    </tr>\n",
       "    <tr>\n",
       "      <th>45</th>\n",
       "      <td>1045</td>\n",
       "      <td>0</td>\n",
       "      <td>58</td>\n",
       "      <td>173</td>\n",
       "      <td>85</td>\n",
       "      <td>1</td>\n",
       "      <td>5</td>\n",
       "      <td>28.400548</td>\n",
       "      <td>Hombre</td>\n",
       "      <td>Radio</td>\n",
       "      <td>2</td>\n",
       "    </tr>\n",
       "    <tr>\n",
       "      <th>95</th>\n",
       "      <td>1095</td>\n",
       "      <td>1</td>\n",
       "      <td>22</td>\n",
       "      <td>172</td>\n",
       "      <td>64</td>\n",
       "      <td>1</td>\n",
       "      <td>5</td>\n",
       "      <td>21.633315</td>\n",
       "      <td>Mujer</td>\n",
       "      <td>Radio</td>\n",
       "      <td>3</td>\n",
       "    </tr>\n",
       "    <tr>\n",
       "      <th>64</th>\n",
       "      <td>1064</td>\n",
       "      <td>1</td>\n",
       "      <td>51</td>\n",
       "      <td>172</td>\n",
       "      <td>51</td>\n",
       "      <td>0</td>\n",
       "      <td>5</td>\n",
       "      <td>17.239048</td>\n",
       "      <td>Mujer</td>\n",
       "      <td>Quimio</td>\n",
       "      <td>4</td>\n",
       "    </tr>\n",
       "    <tr>\n",
       "      <th>41</th>\n",
       "      <td>1041</td>\n",
       "      <td>0</td>\n",
       "      <td>56</td>\n",
       "      <td>172</td>\n",
       "      <td>63</td>\n",
       "      <td>0</td>\n",
       "      <td>5</td>\n",
       "      <td>21.295295</td>\n",
       "      <td>Hombre</td>\n",
       "      <td>Quimio</td>\n",
       "      <td>3</td>\n",
       "    </tr>\n",
       "    <tr>\n",
       "      <th>25</th>\n",
       "      <td>1025</td>\n",
       "      <td>0</td>\n",
       "      <td>50</td>\n",
       "      <td>172</td>\n",
       "      <td>62</td>\n",
       "      <td>0</td>\n",
       "      <td>5</td>\n",
       "      <td>20.957274</td>\n",
       "      <td>Hombre</td>\n",
       "      <td>Quimio</td>\n",
       "      <td>4</td>\n",
       "    </tr>\n",
       "    <tr>\n",
       "      <th>87</th>\n",
       "      <td>1087</td>\n",
       "      <td>1</td>\n",
       "      <td>20</td>\n",
       "      <td>171</td>\n",
       "      <td>67</td>\n",
       "      <td>1</td>\n",
       "      <td>5</td>\n",
       "      <td>22.913033</td>\n",
       "      <td>Mujer</td>\n",
       "      <td>Radio</td>\n",
       "      <td>5</td>\n",
       "    </tr>\n",
       "    <tr>\n",
       "      <th>18</th>\n",
       "      <td>1018</td>\n",
       "      <td>0</td>\n",
       "      <td>42</td>\n",
       "      <td>180</td>\n",
       "      <td>82</td>\n",
       "      <td>0</td>\n",
       "      <td>5</td>\n",
       "      <td>25.308642</td>\n",
       "      <td>Hombre</td>\n",
       "      <td>Quimio</td>\n",
       "      <td>5</td>\n",
       "    </tr>\n",
       "  </tbody>\n",
       "</table>\n",
       "</div>"
      ],
      "text/plain": [
       "    idsub  sexo  edad  altura  peso  tratamiento  supervivencia        imc  \\\n",
       "43   1043     0    54     189    75            0              5  20.996053   \n",
       "89   1089     1    44     158    57            1              5  22.832879   \n",
       "86   1086     1    64     166    63            1              5  22.862534   \n",
       "45   1045     0    58     173    85            1              5  28.400548   \n",
       "95   1095     1    22     172    64            1              5  21.633315   \n",
       "64   1064     1    51     172    51            0              5  17.239048   \n",
       "41   1041     0    56     172    63            0              5  21.295295   \n",
       "25   1025     0    50     172    62            0              5  20.957274   \n",
       "87   1087     1    20     171    67            1              5  22.913033   \n",
       "18   1018     0    42     180    82            0              5  25.308642   \n",
       "\n",
       "   sexo_label tratamiento_label  rank_superv  \n",
       "43     Hombre            Quimio            1  \n",
       "89      Mujer             Radio            1  \n",
       "86      Mujer             Radio            2  \n",
       "45     Hombre             Radio            2  \n",
       "95      Mujer             Radio            3  \n",
       "64      Mujer            Quimio            4  \n",
       "41     Hombre            Quimio            3  \n",
       "25     Hombre            Quimio            4  \n",
       "87      Mujer             Radio            5  \n",
       "18     Hombre            Quimio            5  "
      ]
     },
     "metadata": {},
     "output_type": "display_data"
    }
   ],
   "source": [
    "df = df.sort_values('supervivencia', ascending=False) # ordenamos para que funciones\n",
    "grouped = df.groupby('sexo_label')\n",
    "display(grouped.head(1)) # muestra los 1 primeros elementos de cada grupo \n",
    "grouped = grouped.apply(rank_superv)\n",
    "display(grouped.head(10))"
   ]
  },
  {
   "cell_type": "code",
   "execution_count": 193,
   "metadata": {},
   "outputs": [
    {
     "data": {
      "text/html": [
       "<div>\n",
       "<table border=\"1\" class=\"dataframe\">\n",
       "  <thead>\n",
       "    <tr style=\"text-align: right;\">\n",
       "      <th></th>\n",
       "      <th>idsub</th>\n",
       "      <th>sexo</th>\n",
       "      <th>edad</th>\n",
       "      <th>altura</th>\n",
       "      <th>peso</th>\n",
       "      <th>tratamiento</th>\n",
       "      <th>supervivencia</th>\n",
       "      <th>imc</th>\n",
       "      <th>sexo_label</th>\n",
       "      <th>tratamiento_label</th>\n",
       "      <th>rank_superv</th>\n",
       "    </tr>\n",
       "  </thead>\n",
       "  <tbody>\n",
       "    <tr>\n",
       "      <th>43</th>\n",
       "      <td>1043</td>\n",
       "      <td>0</td>\n",
       "      <td>54</td>\n",
       "      <td>189</td>\n",
       "      <td>75</td>\n",
       "      <td>0</td>\n",
       "      <td>5</td>\n",
       "      <td>20.996053</td>\n",
       "      <td>Hombre</td>\n",
       "      <td>Quimio</td>\n",
       "      <td>1</td>\n",
       "    </tr>\n",
       "    <tr>\n",
       "      <th>89</th>\n",
       "      <td>1089</td>\n",
       "      <td>1</td>\n",
       "      <td>44</td>\n",
       "      <td>158</td>\n",
       "      <td>57</td>\n",
       "      <td>1</td>\n",
       "      <td>5</td>\n",
       "      <td>22.832879</td>\n",
       "      <td>Mujer</td>\n",
       "      <td>Radio</td>\n",
       "      <td>1</td>\n",
       "    </tr>\n",
       "    <tr>\n",
       "      <th>86</th>\n",
       "      <td>1086</td>\n",
       "      <td>1</td>\n",
       "      <td>64</td>\n",
       "      <td>166</td>\n",
       "      <td>63</td>\n",
       "      <td>1</td>\n",
       "      <td>5</td>\n",
       "      <td>22.862534</td>\n",
       "      <td>Mujer</td>\n",
       "      <td>Radio</td>\n",
       "      <td>2</td>\n",
       "    </tr>\n",
       "    <tr>\n",
       "      <th>45</th>\n",
       "      <td>1045</td>\n",
       "      <td>0</td>\n",
       "      <td>58</td>\n",
       "      <td>173</td>\n",
       "      <td>85</td>\n",
       "      <td>1</td>\n",
       "      <td>5</td>\n",
       "      <td>28.400548</td>\n",
       "      <td>Hombre</td>\n",
       "      <td>Radio</td>\n",
       "      <td>2</td>\n",
       "    </tr>\n",
       "    <tr>\n",
       "      <th>95</th>\n",
       "      <td>1095</td>\n",
       "      <td>1</td>\n",
       "      <td>22</td>\n",
       "      <td>172</td>\n",
       "      <td>64</td>\n",
       "      <td>1</td>\n",
       "      <td>5</td>\n",
       "      <td>21.633315</td>\n",
       "      <td>Mujer</td>\n",
       "      <td>Radio</td>\n",
       "      <td>3</td>\n",
       "    </tr>\n",
       "    <tr>\n",
       "      <th>64</th>\n",
       "      <td>1064</td>\n",
       "      <td>1</td>\n",
       "      <td>51</td>\n",
       "      <td>172</td>\n",
       "      <td>51</td>\n",
       "      <td>0</td>\n",
       "      <td>5</td>\n",
       "      <td>17.239048</td>\n",
       "      <td>Mujer</td>\n",
       "      <td>Quimio</td>\n",
       "      <td>4</td>\n",
       "    </tr>\n",
       "    <tr>\n",
       "      <th>41</th>\n",
       "      <td>1041</td>\n",
       "      <td>0</td>\n",
       "      <td>56</td>\n",
       "      <td>172</td>\n",
       "      <td>63</td>\n",
       "      <td>0</td>\n",
       "      <td>5</td>\n",
       "      <td>21.295295</td>\n",
       "      <td>Hombre</td>\n",
       "      <td>Quimio</td>\n",
       "      <td>3</td>\n",
       "    </tr>\n",
       "    <tr>\n",
       "      <th>25</th>\n",
       "      <td>1025</td>\n",
       "      <td>0</td>\n",
       "      <td>50</td>\n",
       "      <td>172</td>\n",
       "      <td>62</td>\n",
       "      <td>0</td>\n",
       "      <td>5</td>\n",
       "      <td>20.957274</td>\n",
       "      <td>Hombre</td>\n",
       "      <td>Quimio</td>\n",
       "      <td>4</td>\n",
       "    </tr>\n",
       "    <tr>\n",
       "      <th>87</th>\n",
       "      <td>1087</td>\n",
       "      <td>1</td>\n",
       "      <td>20</td>\n",
       "      <td>171</td>\n",
       "      <td>67</td>\n",
       "      <td>1</td>\n",
       "      <td>5</td>\n",
       "      <td>22.913033</td>\n",
       "      <td>Mujer</td>\n",
       "      <td>Radio</td>\n",
       "      <td>5</td>\n",
       "    </tr>\n",
       "    <tr>\n",
       "      <th>18</th>\n",
       "      <td>1018</td>\n",
       "      <td>0</td>\n",
       "      <td>42</td>\n",
       "      <td>180</td>\n",
       "      <td>82</td>\n",
       "      <td>0</td>\n",
       "      <td>5</td>\n",
       "      <td>25.308642</td>\n",
       "      <td>Hombre</td>\n",
       "      <td>Quimio</td>\n",
       "      <td>5</td>\n",
       "    </tr>\n",
       "  </tbody>\n",
       "</table>\n",
       "</div>"
      ],
      "text/plain": [
       "    idsub  sexo  edad  altura  peso  tratamiento  supervivencia        imc  \\\n",
       "43   1043     0    54     189    75            0              5  20.996053   \n",
       "89   1089     1    44     158    57            1              5  22.832879   \n",
       "86   1086     1    64     166    63            1              5  22.862534   \n",
       "45   1045     0    58     173    85            1              5  28.400548   \n",
       "95   1095     1    22     172    64            1              5  21.633315   \n",
       "64   1064     1    51     172    51            0              5  17.239048   \n",
       "41   1041     0    56     172    63            0              5  21.295295   \n",
       "25   1025     0    50     172    62            0              5  20.957274   \n",
       "87   1087     1    20     171    67            1              5  22.913033   \n",
       "18   1018     0    42     180    82            0              5  25.308642   \n",
       "\n",
       "   sexo_label tratamiento_label  rank_superv  \n",
       "43     Hombre            Quimio            1  \n",
       "89      Mujer             Radio            1  \n",
       "86      Mujer             Radio            2  \n",
       "45     Hombre             Radio            2  \n",
       "95      Mujer             Radio            3  \n",
       "64      Mujer            Quimio            4  \n",
       "41     Hombre            Quimio            3  \n",
       "25     Hombre            Quimio            4  \n",
       "87      Mujer             Radio            5  \n",
       "18     Hombre            Quimio            5  "
      ]
     },
     "execution_count": 193,
     "metadata": {},
     "output_type": "execute_result"
    }
   ],
   "source": [
    "grouped.groupby('sexo').head(5)"
   ]
  },
  {
   "cell_type": "markdown",
   "metadata": {},
   "source": [
    "# Ejercicios"
   ]
  },
  {
   "cell_type": "markdown",
   "metadata": {},
   "source": [
    "1 - Calcula la supervivencia media de los participantes del estudio"
   ]
  },
  {
   "cell_type": "code",
   "execution_count": 196,
   "metadata": {},
   "outputs": [
    {
     "name": "stdout",
     "output_type": "stream",
     "text": [
      "La supervivencia media es: 3.31\n"
     ]
    }
   ],
   "source": [
    "print 'La supervivencia media es:', df['supervivencia'].mean()"
   ]
  },
  {
   "cell_type": "markdown",
   "metadata": {},
   "source": [
    "2 - Calcula cuantos sobreviven mas que la media. Y mas que la mediana?. El porcentaje de cada uno de los casos?"
   ]
  },
  {
   "cell_type": "code",
   "execution_count": 232,
   "metadata": {},
   "outputs": [
    {
     "name": "stdout",
     "output_type": "stream",
     "text": [
      "El numero de personas que sobreviven mas que la media es: 39 y su porcentaje es el 39 \n",
      "(100, 10)\n",
      "39\n",
      "\n",
      "\n",
      "El numero de personas que sobreviven mas que la media es: 39 y su porcentaje es el 39 \n"
     ]
    }
   ],
   "source": [
    "print 'El numero de personas que sobreviven mas que la media es: %d y su porcentaje es el %d ' % (df[df['supervivencia']>df['supervivencia'].mean()].shape[0],df[df['supervivencia']>df['supervivencia'].mean()].shape[0]*100/df.shape[0])\n",
    "\n",
    "print df.shape\n",
    "print df[df['supervivencia']>df['supervivencia'].mean()].shape[0]*100 /  df.shape[0]\n",
    "print '\\n'\n",
    "\n",
    "print 'El numero de personas que sobreviven mas que la media es: %d y su porcentaje es el %d ' % (df[df['supervivencia']>df['supervivencia'].mean()].shape[0],df[df['supervivencia']>df['supervivencia'].mean()].shape[0]*100/df.shape[0])"
   ]
  },
  {
   "cell_type": "markdown",
   "metadata": {},
   "source": [
    "3 - Cual es el grupo de personas (hombre o mujer) con mayor supervivencia?"
   ]
  },
  {
   "cell_type": "code",
   "execution_count": 238,
   "metadata": {},
   "outputs": [
    {
     "data": {
      "text/html": [
       "<div>\n",
       "<table border=\"1\" class=\"dataframe\">\n",
       "  <thead>\n",
       "    <tr style=\"text-align: right;\">\n",
       "      <th></th>\n",
       "      <th>idsub</th>\n",
       "      <th>sexo</th>\n",
       "      <th>edad</th>\n",
       "      <th>altura</th>\n",
       "      <th>peso</th>\n",
       "      <th>tratamiento</th>\n",
       "      <th>supervivencia</th>\n",
       "      <th>imc</th>\n",
       "    </tr>\n",
       "    <tr>\n",
       "      <th>sexo_label</th>\n",
       "      <th></th>\n",
       "      <th></th>\n",
       "      <th></th>\n",
       "      <th></th>\n",
       "      <th></th>\n",
       "      <th></th>\n",
       "      <th></th>\n",
       "      <th></th>\n",
       "    </tr>\n",
       "  </thead>\n",
       "  <tbody>\n",
       "    <tr>\n",
       "      <th>Hombre</th>\n",
       "      <td>1024.5</td>\n",
       "      <td>0</td>\n",
       "      <td>44.94</td>\n",
       "      <td>173.14</td>\n",
       "      <td>73.08</td>\n",
       "      <td>0.50</td>\n",
       "      <td>3.06</td>\n",
       "      <td>24.530407</td>\n",
       "    </tr>\n",
       "    <tr>\n",
       "      <th>Mujer</th>\n",
       "      <td>1074.5</td>\n",
       "      <td>1</td>\n",
       "      <td>45.46</td>\n",
       "      <td>162.10</td>\n",
       "      <td>60.36</td>\n",
       "      <td>0.42</td>\n",
       "      <td>3.56</td>\n",
       "      <td>23.085718</td>\n",
       "    </tr>\n",
       "  </tbody>\n",
       "</table>\n",
       "</div>"
      ],
      "text/plain": [
       "             idsub  sexo   edad  altura   peso  tratamiento  supervivencia  \\\n",
       "sexo_label                                                                   \n",
       "Hombre      1024.5     0  44.94  173.14  73.08         0.50           3.06   \n",
       "Mujer       1074.5     1  45.46  162.10  60.36         0.42           3.56   \n",
       "\n",
       "                  imc  \n",
       "sexo_label             \n",
       "Hombre      24.530407  \n",
       "Mujer       23.085718  "
      ]
     },
     "execution_count": 238,
     "metadata": {},
     "output_type": "execute_result"
    }
   ],
   "source": [
    "df.groupby('sexo_label').mean()"
   ]
  },
  {
   "cell_type": "markdown",
   "metadata": {},
   "source": [
    "4 - Que tratamiento alarga mas la supervivencia la quimio o  la radio?"
   ]
  },
  {
   "cell_type": "code",
   "execution_count": 237,
   "metadata": {},
   "outputs": [
    {
     "data": {
      "text/html": [
       "<div>\n",
       "<table border=\"1\" class=\"dataframe\">\n",
       "  <thead>\n",
       "    <tr style=\"text-align: right;\">\n",
       "      <th></th>\n",
       "      <th>idsub</th>\n",
       "      <th>sexo</th>\n",
       "      <th>edad</th>\n",
       "      <th>altura</th>\n",
       "      <th>peso</th>\n",
       "      <th>tratamiento</th>\n",
       "      <th>supervivencia</th>\n",
       "      <th>imc</th>\n",
       "    </tr>\n",
       "    <tr>\n",
       "      <th>tratamiento_label</th>\n",
       "      <th></th>\n",
       "      <th></th>\n",
       "      <th></th>\n",
       "      <th></th>\n",
       "      <th></th>\n",
       "      <th></th>\n",
       "      <th></th>\n",
       "      <th></th>\n",
       "    </tr>\n",
       "  </thead>\n",
       "  <tbody>\n",
       "    <tr>\n",
       "      <th>Quimio</th>\n",
       "      <td>1049.277778</td>\n",
       "      <td>0.537037</td>\n",
       "      <td>46.685185</td>\n",
       "      <td>165.685185</td>\n",
       "      <td>67.981481</td>\n",
       "      <td>0</td>\n",
       "      <td>3.500000</td>\n",
       "      <td>24.768768</td>\n",
       "    </tr>\n",
       "    <tr>\n",
       "      <th>Radio</th>\n",
       "      <td>1049.760870</td>\n",
       "      <td>0.456522</td>\n",
       "      <td>43.456522</td>\n",
       "      <td>169.891304</td>\n",
       "      <td>65.239130</td>\n",
       "      <td>1</td>\n",
       "      <td>3.086957</td>\n",
       "      <td>22.680277</td>\n",
       "    </tr>\n",
       "  </tbody>\n",
       "</table>\n",
       "</div>"
      ],
      "text/plain": [
       "                         idsub      sexo       edad      altura       peso  \\\n",
       "tratamiento_label                                                            \n",
       "Quimio             1049.277778  0.537037  46.685185  165.685185  67.981481   \n",
       "Radio              1049.760870  0.456522  43.456522  169.891304  65.239130   \n",
       "\n",
       "                   tratamiento  supervivencia        imc  \n",
       "tratamiento_label                                         \n",
       "Quimio                       0       3.500000  24.768768  \n",
       "Radio                        1       3.086957  22.680277  "
      ]
     },
     "execution_count": 237,
     "metadata": {},
     "output_type": "execute_result"
    }
   ],
   "source": [
    "df.groupby('tratamiento_label').mean()"
   ]
  },
  {
   "cell_type": "markdown",
   "metadata": {},
   "source": [
    "5 - En que grupo Hombre/Mujer y quimio/radio hay mayor supervivencia?"
   ]
  },
  {
   "cell_type": "code",
   "execution_count": 248,
   "metadata": {},
   "outputs": [
    {
     "data": {
      "text/plain": [
       "3.6551724137931036"
      ]
     },
     "execution_count": 248,
     "metadata": {},
     "output_type": "execute_result"
    }
   ],
   "source": [
    "max(df[['sexo_label','tratamiento_label',\n",
    "    'supervivencia']].groupby(['sexo_label',\n",
    "                               'tratamiento_label']).mean().supervivencia.values)"
   ]
  },
  {
   "cell_type": "code",
   "execution_count": 256,
   "metadata": {},
   "outputs": [
    {
     "data": {
      "text/html": [
       "<div>\n",
       "<table border=\"1\" class=\"dataframe\">\n",
       "  <thead>\n",
       "    <tr style=\"text-align: right;\">\n",
       "      <th></th>\n",
       "      <th></th>\n",
       "      <th>supervivencia</th>\n",
       "    </tr>\n",
       "    <tr>\n",
       "      <th>sexo_label</th>\n",
       "      <th>tratamiento_label</th>\n",
       "      <th></th>\n",
       "    </tr>\n",
       "  </thead>\n",
       "  <tbody>\n",
       "    <tr>\n",
       "      <th rowspan=\"2\" valign=\"top\">Hombre</th>\n",
       "      <th>Quimio</th>\n",
       "      <td>3.320000</td>\n",
       "    </tr>\n",
       "    <tr>\n",
       "      <th>Radio</th>\n",
       "      <td>2.800000</td>\n",
       "    </tr>\n",
       "    <tr>\n",
       "      <th rowspan=\"2\" valign=\"top\">Mujer</th>\n",
       "      <th>Quimio</th>\n",
       "      <td>3.655172</td>\n",
       "    </tr>\n",
       "    <tr>\n",
       "      <th>Radio</th>\n",
       "      <td>3.428571</td>\n",
       "    </tr>\n",
       "  </tbody>\n",
       "</table>\n",
       "</div>"
      ],
      "text/plain": [
       "                              supervivencia\n",
       "sexo_label tratamiento_label               \n",
       "Hombre     Quimio                  3.320000\n",
       "           Radio                   2.800000\n",
       "Mujer      Quimio                  3.655172\n",
       "           Radio                   3.428571"
      ]
     },
     "execution_count": 256,
     "metadata": {},
     "output_type": "execute_result"
    }
   ],
   "source": [
    "df[['sexo_label','tratamiento_label',\n",
    "    'supervivencia']].groupby(['sexo_label',\n",
    "                               'tratamiento_label']).mean()"
   ]
  },
  {
   "cell_type": "markdown",
   "metadata": {},
   "source": [
    "6 - Asigna a una nueva columna que marque como ancianos a los mayores de 60 anios y jovenes al resto?"
   ]
  },
  {
   "cell_type": "code",
   "execution_count": 4,
   "metadata": {
    "collapsed": true
   },
   "outputs": [],
   "source": [
    "def ancianos(df = None):\n",
    "    if df['edad'] > 60:\n",
    "        return 'anciano'\n",
    "    else:\n",
    "        return 'joven'"
   ]
  },
  {
   "cell_type": "code",
   "execution_count": 5,
   "metadata": {},
   "outputs": [
    {
     "data": {
      "text/html": [
       "<div>\n",
       "<table border=\"1\" class=\"dataframe\">\n",
       "  <thead>\n",
       "    <tr style=\"text-align: right;\">\n",
       "      <th></th>\n",
       "      <th>idsub</th>\n",
       "      <th>sexo</th>\n",
       "      <th>edad</th>\n",
       "      <th>altura</th>\n",
       "      <th>peso</th>\n",
       "      <th>tratamiento</th>\n",
       "      <th>supervivencia</th>\n",
       "      <th>grupo_edad</th>\n",
       "    </tr>\n",
       "  </thead>\n",
       "  <tbody>\n",
       "    <tr>\n",
       "      <th>0</th>\n",
       "      <td>1000</td>\n",
       "      <td>0</td>\n",
       "      <td>61</td>\n",
       "      <td>166</td>\n",
       "      <td>74</td>\n",
       "      <td>1</td>\n",
       "      <td>2</td>\n",
       "      <td>anciano</td>\n",
       "    </tr>\n",
       "    <tr>\n",
       "      <th>1</th>\n",
       "      <td>1001</td>\n",
       "      <td>0</td>\n",
       "      <td>21</td>\n",
       "      <td>179</td>\n",
       "      <td>89</td>\n",
       "      <td>1</td>\n",
       "      <td>4</td>\n",
       "      <td>joven</td>\n",
       "    </tr>\n",
       "    <tr>\n",
       "      <th>2</th>\n",
       "      <td>1002</td>\n",
       "      <td>0</td>\n",
       "      <td>59</td>\n",
       "      <td>166</td>\n",
       "      <td>59</td>\n",
       "      <td>1</td>\n",
       "      <td>2</td>\n",
       "      <td>joven</td>\n",
       "    </tr>\n",
       "    <tr>\n",
       "      <th>3</th>\n",
       "      <td>1003</td>\n",
       "      <td>0</td>\n",
       "      <td>27</td>\n",
       "      <td>162</td>\n",
       "      <td>81</td>\n",
       "      <td>0</td>\n",
       "      <td>2</td>\n",
       "      <td>joven</td>\n",
       "    </tr>\n",
       "    <tr>\n",
       "      <th>4</th>\n",
       "      <td>1004</td>\n",
       "      <td>0</td>\n",
       "      <td>23</td>\n",
       "      <td>164</td>\n",
       "      <td>69</td>\n",
       "      <td>1</td>\n",
       "      <td>2</td>\n",
       "      <td>joven</td>\n",
       "    </tr>\n",
       "  </tbody>\n",
       "</table>\n",
       "</div>"
      ],
      "text/plain": [
       "   idsub  sexo  edad  altura  peso  tratamiento  supervivencia grupo_edad\n",
       "0   1000     0    61     166    74            1              2    anciano\n",
       "1   1001     0    21     179    89            1              4      joven\n",
       "2   1002     0    59     166    59            1              2      joven\n",
       "3   1003     0    27     162    81            0              2      joven\n",
       "4   1004     0    23     164    69            1              2      joven"
      ]
     },
     "execution_count": 5,
     "metadata": {},
     "output_type": "execute_result"
    }
   ],
   "source": [
    "df['grupo_edad'] = df.apply(ancianos, axis=1)\n",
    "df.head()"
   ]
  },
  {
   "cell_type": "markdown",
   "metadata": {},
   "source": [
    "7 - Puedes ver si las mujeres que pesan mas de 60 kilos sobreviven mas que las que pesan menos??"
   ]
  },
  {
   "cell_type": "code",
   "execution_count": 14,
   "metadata": {},
   "outputs": [
    {
     "name": "stdout",
     "output_type": "stream",
     "text": [
      "3.74074074074\n",
      "3.36363636364\n"
     ]
    }
   ],
   "source": [
    "print df[(df.peso>60) & (df.sexo_label=='Mujer')].supervivencia.mean()\n",
    "print df[(df.peso<60) & (df.sexo_label=='Mujer')].supervivencia.mean()\n"
   ]
  },
  {
   "cell_type": "markdown",
   "metadata": {},
   "source": [
    "8 - Parece influir si uno es anciano o no en la supervivencia??"
   ]
  },
  {
   "cell_type": "code",
   "execution_count": 8,
   "metadata": {},
   "outputs": [
    {
     "data": {
      "text/plain": [
       "grupo_edad\n",
       "anciano    3.166667\n",
       "joven      3.341463\n",
       "Name: supervivencia, dtype: float64"
      ]
     },
     "execution_count": 8,
     "metadata": {},
     "output_type": "execute_result"
    }
   ],
   "source": [
    "df.groupby('grupo_edad').supervivencia.mean()"
   ]
  },
  {
   "cell_type": "markdown",
   "metadata": {},
   "source": [
    "9 - Crea una nueva columna que te clasifique a las personas en base a su indice corporal segun el siguiente crtierio:\n",
    "\n",
    "Por debajo de 18.5 Por debajo del peso  \n",
    "18.5 a 24.9\tSaludable  \n",
    "25.0 a 29.9\tCon sobrepeso  \n",
    "30.0 a 39.9\tObeso  \n",
    "Más de 40\tObesidad extrema o de alto riesgo  "
   ]
  },
  {
   "cell_type": "code",
   "execution_count": 16,
   "metadata": {
    "collapsed": true
   },
   "outputs": [],
   "source": [
    "def imc2label(data = None):\n",
    "    if data['imc'] < 18.5:\n",
    "        return 'Debajo del peso'\n",
    "    elif data['imc'] > 18.5 and data['imc'] < 24.9:\n",
    "        return 'Saludable'\n",
    "    elif data['imc'] > 24.9 and data['imc'] < 29.9:\n",
    "        return 'Con sobrepeso'\n",
    "    elif data['imc'] > 29.9 and data['imc'] < 39.9:\n",
    "        return 'Obeso'\n",
    "    else:\n",
    "        return 'Obesidad extrema'"
   ]
  },
  {
   "cell_type": "code",
   "execution_count": 17,
   "metadata": {
    "collapsed": true
   },
   "outputs": [],
   "source": [
    "df['imclabel'] = df.apply(imc2label, axis=1)"
   ]
  },
  {
   "cell_type": "markdown",
   "metadata": {},
   "source": [
    "10 - Cual es el grupo de imc que mas riesgo de morir antes tiene?"
   ]
  },
  {
   "cell_type": "code",
   "execution_count": 20,
   "metadata": {},
   "outputs": [
    {
     "data": {
      "text/plain": [
       "imclabel\n",
       "Con sobrepeso      3.315789\n",
       "Debajo del peso    2.833333\n",
       "Obeso              3.000000\n",
       "Saludable          3.392157\n",
       "Name: supervivencia, dtype: float64"
      ]
     },
     "execution_count": 20,
     "metadata": {},
     "output_type": "execute_result"
    }
   ],
   "source": [
    "df.groupby('imclabel').supervivencia.mean()"
   ]
  },
  {
   "cell_type": "markdown",
   "metadata": {},
   "source": [
    "11 - Realiza un estudio comparativo que nos diga si existen diferencias entre la supervivencia de hombres y mujeres."
   ]
  },
  {
   "cell_type": "code",
   "execution_count": 36,
   "metadata": {},
   "outputs": [
    {
     "data": {
      "text/plain": [
       "Ttest_indResult(statistic=-1.902960980752129, pvalue=0.059980732087130909)"
      ]
     },
     "execution_count": 36,
     "metadata": {},
     "output_type": "execute_result"
    }
   ],
   "source": [
    "import scipy.stats\n",
    "\n",
    "#df[df['sexo_label']=='Hombre'].supervivencia\n",
    "scipy.stats.ttest_ind(df[df['sexo_label']=='Hombre'].supervivencia\n",
    "\n",
    ", df[df['sexo_label']=='Mujer'].supervivencia)"
   ]
  },
  {
   "cell_type": "markdown",
   "metadata": {},
   "source": [
    "12 - Realiza un intervalo de confianza del 95% que nos diga cual es la supervivencia de tratamiento, sexo, grupo de edad y grupo de IMC."
   ]
  },
  {
   "cell_type": "code",
   "execution_count": 40,
   "metadata": {},
   "outputs": [
    {
     "data": {
      "text/plain": [
       "tratamiento_label\n",
       "Quimio    (3.13454593496, 3.86545406504)\n",
       "Radio     (2.72229865727, 3.45161438621)\n",
       "Name: supervivencia, dtype: object"
      ]
     },
     "execution_count": 40,
     "metadata": {},
     "output_type": "execute_result"
    }
   ],
   "source": [
    "# media +- alpha * sigma / n^.5\n",
    "# 1.96\n",
    "\n",
    "def int_conf(data):\n",
    "    high = data.mean() + 1.96 * data.std() / data.count()**.5\n",
    "    low = data.mean() - 1.96 * data.std() / data.count()**.5\n",
    "    return (low, high)\n",
    "\n",
    "df.groupby('tratamiento_label').supervivencia.apply(int_conf)"
   ]
  },
  {
   "cell_type": "markdown",
   "metadata": {},
   "source": [
    "13 - Anade una nueva columna al dataframe que nos diga en que percentil de supervivencia se encuentra cada persona."
   ]
  },
  {
   "cell_type": "code",
   "execution_count": null,
   "metadata": {
    "collapsed": true
   },
   "outputs": [],
   "source": []
  },
  {
   "cell_type": "markdown",
   "metadata": {},
   "source": [
    "14 - La OMS ha publicado un estudio en el que se hayaron los siguientes resultados:\n",
    "\n",
    "- Las personas menores de 40 anios tienen una supervivencia estimada del 15% menor que las mayores de esa edad\n",
    "- Las mujeres tienen una supervivencia de un 5% mayor respecto a los hombres\n",
    "- Las personas con sobrepeso tienen una supervivencia menor del 7.5% respecto a las que no padecen sobrepeso\n",
    "\n",
    "Crea una funcion que utilizando _apply_ nos corrija la supervivencia de cada una de las personas en base a lo descrito anteriormente (lo puedes almacenar en una nueva columna llamada 'supervivencia_est'\n",
    "\n",
    "Para simplificar puedes asumir que los porcentajes se acumulan de forma que una mujer delgada y anciana tendra una supervivencia estimada aumentada por la suma de todos los porcentajes descritos."
   ]
  },
  {
   "cell_type": "code",
   "execution_count": null,
   "metadata": {
    "collapsed": true
   },
   "outputs": [],
   "source": []
  }
 ],
 "metadata": {
  "kernelspec": {
   "display_name": "Python 3",
   "language": "python",
   "name": "python3"
  },
  "language_info": {
   "codemirror_mode": {
    "name": "ipython",
    "version": 3
   },
   "file_extension": ".py",
   "mimetype": "text/x-python",
   "name": "python",
   "nbconvert_exporter": "python",
   "pygments_lexer": "ipython3",
   "version": "3.6.2"
  }
 },
 "nbformat": 4,
 "nbformat_minor": 1
}
